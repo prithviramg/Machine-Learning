{
 "cells": [
  {
   "cell_type": "code",
   "execution_count": 0,
   "metadata": {
    "colab": {
     "base_uri": "https://localhost:8080/",
     "height": 34
    },
    "colab_type": "code",
    "id": "olG0wpo7Z7Xb",
    "outputId": "8b48adaf-5aae-4b45-94ff-1b2902448021"
   },
   "outputs": [
    {
     "name": "stderr",
     "output_type": "stream",
     "text": [
      "Using TensorFlow backend.\n"
     ]
    }
   ],
   "source": [
    "import keras\n",
    "import tensorflow as tf\n",
    "import numpy as np\n",
    "import matplotlib.pyplot as plt\n",
    "from keras.utils import np_utils \n",
    "from keras.datasets import mnist \n",
    "import seaborn as sns\n",
    "from keras.initializers import RandomNormal\n",
    "import time\n",
    "from keras.models import Sequential \n",
    "from keras.layers import Dense, Activation "
   ]
  },
  {
   "cell_type": "code",
   "execution_count": 0,
   "metadata": {
    "colab": {
     "base_uri": "https://localhost:8080/",
     "height": 34
    },
    "colab_type": "code",
    "id": "Gqxv8Y-OMQhA",
    "outputId": "c3994acb-741e-48df-c270-a02534b1381e"
   },
   "outputs": [
    {
     "name": "stdout",
     "output_type": "stream",
     "text": [
      "Requirement already satisfied: PTable in /usr/local/lib/python3.6/dist-packages (0.9.2)\n"
     ]
    }
   ],
   "source": [
    "!pip install PTable"
   ]
  },
  {
   "cell_type": "code",
   "execution_count": 0,
   "metadata": {
    "colab": {},
    "colab_type": "code",
    "id": "yuLmIgmkMgp6"
   },
   "outputs": [],
   "source": [
    "from prettytable import PrettyTable\n",
    "table = PrettyTable()\n",
    "table.field_names = [\"model_name\", \"Test Accuracy\", \"no_of_activation_units\", \"Droput rate of each Hidden Layer\", \"include/Not include BatchNorm - each hidden Layer\"]"
   ]
  },
  {
   "cell_type": "code",
   "execution_count": 0,
   "metadata": {
    "colab": {},
    "colab_type": "code",
    "id": "-0SUUwuo92od"
   },
   "outputs": [],
   "source": [
    "def plt_dynamic(x, vy, ty, ax, colors=['b']):\n",
    "    ax.plot(x, vy, 'b', label=\"Validation Loss\")\n",
    "    ax.plot(x, ty, 'r', label=\"Train Loss\")\n",
    "    plt.legend()\n",
    "    plt.grid()\n",
    "    fig.canvas.draw()"
   ]
  },
  {
   "cell_type": "code",
   "execution_count": 0,
   "metadata": {
    "colab": {},
    "colab_type": "code",
    "id": "oahUSRmC93Tg"
   },
   "outputs": [],
   "source": [
    "# the data, shuffled and split between train and test sets \n",
    "(X_train, y_train), (X_test, y_test) = mnist.load_data()"
   ]
  },
  {
   "cell_type": "code",
   "execution_count": 0,
   "metadata": {
    "colab": {
     "base_uri": "https://localhost:8080/",
     "height": 52
    },
    "colab_type": "code",
    "id": "YvwGbehv972l",
    "outputId": "7c2b9131-3987-4c90-95a0-ec5cae2d2ad0"
   },
   "outputs": [
    {
     "name": "stdout",
     "output_type": "stream",
     "text": [
      "Number of training examples : 60000 and each image is of shape (28, 28)\n",
      "Number of training examples : 10000 and each image is of shape (28, 28)\n"
     ]
    }
   ],
   "source": [
    "print(\"Number of training examples :\", X_train.shape[0], \"and each image is of shape (%d, %d)\"%(X_train.shape[1], X_train.shape[2]))\n",
    "print(\"Number of training examples :\", X_test.shape[0], \"and each image is of shape (%d, %d)\"%(X_test.shape[1], X_test.shape[2]))"
   ]
  },
  {
   "cell_type": "code",
   "execution_count": 0,
   "metadata": {
    "colab": {
     "base_uri": "https://localhost:8080/",
     "height": 990
    },
    "colab_type": "code",
    "id": "A_aDHaU6-VuC",
    "outputId": "32b74545-25e5-4af6-c1d1-cdaec8c7696a"
   },
   "outputs": [
    {
     "name": "stdout",
     "output_type": "stream",
     "text": [
      "[[  0   0   0   0   0   0   0   0   0   0   0   0   0   0   0   0   0   0\n",
      "    0   0   0   0   0   0   0   0   0   0]\n",
      " [  0   0   0   0   0   0   0   0   0   0   0   0   0   0   0   0   0   0\n",
      "    0   0   0   0   0   0   0   0   0   0]\n",
      " [  0   0   0   0   0   0   0   0   0   0   0   0   0   0   0   0   0   0\n",
      "    0   0   0   0   0   0   0   0   0   0]\n",
      " [  0   0   0   0   0   0   0   0   0   0   0   0   0   0   0   0   0   0\n",
      "    0   0   0   0   0   0   0   0   0   0]\n",
      " [  0   0   0   0   0   0   0   0   0   0   0   0   0   0   0   0   0   0\n",
      "    0   0   0   0   0   0   0   0   0   0]\n",
      " [  0   0   0   0   0   0   0   0   0   0   0   0   0   0   0   0   0   0\n",
      "    0   0   0   0   0   0   0   0   0   0]\n",
      " [  0   0   0   0   0   0   0   0   0   0   0   0   0   0   0   0   0   0\n",
      "    0   0   0   0   0   0   0   0   0   0]\n",
      " [  0   0   0   0   0   0   0   0   0   0   0   0   0   0   0   0   0   0\n",
      "    0   0   0   0   0   0   0   0   0   0]\n",
      " [  0   0   0   0   0   0   0   0   0   0   0   0   0   0  15  18  18  32\n",
      "  136 166 255 106   2   0   0   0   0   0]\n",
      " [  0   0   0  28 137  36  36   7   0   0   4  36  36  72 237 253 253 253\n",
      "  253 253 253 253  73   0   0   0   0   0]\n",
      " [  0   0   0 216 253 253 253 186 171 171 179 253 253 253 253 253 253 253\n",
      "  253 253 253 253  17   0   0   0   0   0]\n",
      " [  0   0   0 133 253 253 253 253 253 253 253 253 253 253 253 188 177  65\n",
      "  100 253 253 225  12   0   0   0   0   0]\n",
      " [  0   0   0  12 164 225 253 253 253 253 253 253 191 128  47   5   0   0\n",
      "  144 253 253  57   0   0   0   0   0   0]\n",
      " [  0   0   0   0   0  20  29  71  98  29  29  29   9   0   0   0   0  13\n",
      "  202 253 253  35   0   0   0   0   0   0]\n",
      " [  0   0   0   0   0   0   0   0   0   0   0   0   0   0   0   0   1  91\n",
      "  253 253 213  18   0   0   0   0   0   0]\n",
      " [  0   0   0   0   0   0   0   0   0   0   0   0   0   0   0   0  79 253\n",
      "  253 217  76   0   0   0   0   0   0   0]\n",
      " [  0   0   0   0   0   0   0   0   0   0   0   0   0   0   0   0 205 253\n",
      "  253 169   0   0   0   0   0   0   0   0]\n",
      " [  0   0   0   0   0   0   0   0   0   0   0   0   0   0   0  79 252 253\n",
      "  220  21   0   0   0   0   0   0   0   0]\n",
      " [  0   0   0   0   0   0   0   0   0   0   0   0   0   0   0 204 253 253\n",
      "  115   0   0   0   0   0   0   0   0   0]\n",
      " [  0   0   0   0   0   0   0   0   0   0   0   0   0   0  36 239 253 242\n",
      "   55   0   0   0   0   0   0   0   0   0]\n",
      " [  0   0   0   0   0   0   0   0   0   0   0   0   0   0 202 253 248  70\n",
      "    0   0   0   0   0   0   0   0   0   0]\n",
      " [  0   0   0   0   0   0   0   0   0   0   0   0   0  40 234 253 180   0\n",
      "    0   0   0   0   0   0   0   0   0   0]\n",
      " [  0   0   0   0   0   0   0   0   0   0   0   0   0  91 253 253  55   0\n",
      "    0   0   0   0   0   0   0   0   0   0]\n",
      " [  0   0   0   0   0   0   0   0   0   0   0   0  39 233 253 180   2   0\n",
      "    0   0   0   0   0   0   0   0   0   0]\n",
      " [  0   0   0   0   0   0   0   0   0   0   0   0  60 253 253 111   0   0\n",
      "    0   0   0   0   0   0   0   0   0   0]\n",
      " [  0   0   0   0   0   0   0   0   0   0   0  14 178 253 222  16   0   0\n",
      "    0   0   0   0   0   0   0   0   0   0]\n",
      " [  0   0   0   0   0   0   0   0   0   0   0 144 253 253  57   0   0   0\n",
      "    0   0   0   0   0   0   0   0   0   0]\n",
      " [  0   0   0   0   0   0   0   0   0   0  12 203 253 217  22   0   0   0\n",
      "    0   0   0   0   0   0   0   0   0   0]]\n"
     ]
    }
   ],
   "source": [
    "# An example data point\n",
    "print(X_train[632])"
   ]
  },
  {
   "cell_type": "code",
   "execution_count": 0,
   "metadata": {
    "colab": {},
    "colab_type": "code",
    "id": "N0CxJZQJ9_XE"
   },
   "outputs": [],
   "source": [
    "#converting the (28*28) vector into single dimensional vector of 1 * 784 \n",
    "\n",
    "X_train = X_train.reshape(X_train.shape[0], X_train.shape[1]*X_train.shape[2]) \n",
    "X_test = X_test.reshape(X_test.shape[0], X_test.shape[1]*X_test.shape[2]) "
   ]
  },
  {
   "cell_type": "code",
   "execution_count": 0,
   "metadata": {
    "colab": {},
    "colab_type": "code",
    "id": "SdDO3J57-JRG"
   },
   "outputs": [],
   "source": [
    "#lets try to normalize the data\n",
    "# X => (X - Xmin)/(Xmax-Xmin) = X/255\n",
    "\n",
    "X_train = X_train/255\n",
    "X_test = X_test/255"
   ]
  },
  {
   "cell_type": "code",
   "execution_count": 0,
   "metadata": {
    "colab": {
     "base_uri": "https://localhost:8080/",
     "height": 52
    },
    "colab_type": "code",
    "id": "2meYr6c9-u6r",
    "outputId": "6dd8ba3e-05b9-441b-9053-7f1b8d3bc569"
   },
   "outputs": [
    {
     "name": "stdout",
     "output_type": "stream",
     "text": [
      "Class label of first image : 5\n",
      "After converting the output into a vector :  [0. 0. 0. 0. 0. 1. 0. 0. 0. 0.]\n"
     ]
    }
   ],
   "source": [
    "# here we are having a class number for each image\n",
    "print(\"Class label of first image :\", y_train[0])\n",
    "\n",
    "# lets convert this into a 10 dimensional vector\n",
    "# ex: consider an image is 5 convert it into 5 => [0, 0, 0, 0, 0, 1, 0, 0, 0, 0]\n",
    "\n",
    "Y_train = np_utils.to_categorical(y_train, 10) \n",
    "Y_test = np_utils.to_categorical(y_test, 10)\n",
    "\n",
    "print(\"After converting the output into a vector : \",Y_train[0])"
   ]
  },
  {
   "cell_type": "code",
   "execution_count": 0,
   "metadata": {
    "colab": {},
    "colab_type": "code",
    "id": "K1EBv81P-_tp"
   },
   "outputs": [],
   "source": [
    "# some model parameters\n",
    "\n",
    "output_dim = 10\n",
    "input_dim = X_train.shape[1]\n",
    "\n",
    "batch_size = 128 \n",
    "nb_epoch = 20"
   ]
  },
  {
   "cell_type": "code",
   "execution_count": 0,
   "metadata": {
    "colab": {},
    "colab_type": "code",
    "id": "guN4QTcA_L7L"
   },
   "outputs": [],
   "source": [
    "def buildModel(no_hidden_layers,neuron_in_each_layer,dropouts=None,batchNormalization=None):\n",
    "  if len(neuron_in_each_layer) == no_hidden_layers:\n",
    "    output_dim = 10\n",
    "    input_dim = 784\n",
    "    model = Sequential()\n",
    "    model.add(Dense(neuron_in_each_layer[0],activation=\"relu\",input_shape=(input_dim,),kernel_initializer='he_normal'))\n",
    "    model.add(keras.layers.Dropout(rate=dropouts[0]))\n",
    "    if batchNormalization[0]:\n",
    "      model.add(keras.layers.BatchNormalization())\n",
    "    for i in range(1,no_hidden_layers):\n",
    "      model.add(Dense(neuron_in_each_layer[i],activation=\"relu\",kernel_initializer='he_normal'))\n",
    "      model.add(keras.layers.Dropout(rate=dropouts[i]))\n",
    "      if batchNormalization[i]:\n",
    "        model.add(keras.layers.BatchNormalization())\n",
    "    model.add(Dense(output_dim, activation='softmax'))\n",
    "    return model\n",
    "  else:\n",
    "    print(\"please enter correct values: no of neuron in each layer should match with no of hidden layer\")"
   ]
  },
  {
   "cell_type": "code",
   "execution_count": 0,
   "metadata": {
    "colab": {
     "base_uri": "https://localhost:8080/",
     "height": 610
    },
    "colab_type": "code",
    "id": "PAtqr3Oc_bKz",
    "outputId": "6fa7325d-955c-4e6b-8fca-fc17d87c0b86"
   },
   "outputs": [
    {
     "name": "stdout",
     "output_type": "stream",
     "text": [
      "WARNING:tensorflow:From /usr/local/lib/python3.6/dist-packages/keras/backend/tensorflow_backend.py:66: The name tf.get_default_graph is deprecated. Please use tf.compat.v1.get_default_graph instead.\n",
      "\n",
      "WARNING:tensorflow:From /usr/local/lib/python3.6/dist-packages/keras/backend/tensorflow_backend.py:541: The name tf.placeholder is deprecated. Please use tf.compat.v1.placeholder instead.\n",
      "\n",
      "WARNING:tensorflow:From /usr/local/lib/python3.6/dist-packages/keras/backend/tensorflow_backend.py:4479: The name tf.truncated_normal is deprecated. Please use tf.random.truncated_normal instead.\n",
      "\n",
      "WARNING:tensorflow:From /usr/local/lib/python3.6/dist-packages/keras/backend/tensorflow_backend.py:148: The name tf.placeholder_with_default is deprecated. Please use tf.compat.v1.placeholder_with_default instead.\n",
      "\n",
      "WARNING:tensorflow:From /usr/local/lib/python3.6/dist-packages/keras/backend/tensorflow_backend.py:3733: calling dropout (from tensorflow.python.ops.nn_ops) with keep_prob is deprecated and will be removed in a future version.\n",
      "Instructions for updating:\n",
      "Please use `rate` instead of `keep_prob`. Rate should be set to `rate = 1 - keep_prob`.\n",
      "WARNING:tensorflow:From /usr/local/lib/python3.6/dist-packages/keras/backend/tensorflow_backend.py:4432: The name tf.random_uniform is deprecated. Please use tf.random.uniform instead.\n",
      "\n",
      "Model: \"sequential_1\"\n",
      "_________________________________________________________________\n",
      "Layer (type)                 Output Shape              Param #   \n",
      "=================================================================\n",
      "dense_1 (Dense)              (None, 512)               401920    \n",
      "_________________________________________________________________\n",
      "dropout_1 (Dropout)          (None, 512)               0         \n",
      "_________________________________________________________________\n",
      "dense_2 (Dense)              (None, 128)               65664     \n",
      "_________________________________________________________________\n",
      "dropout_2 (Dropout)          (None, 128)               0         \n",
      "_________________________________________________________________\n",
      "batch_normalization_1 (Batch (None, 128)               512       \n",
      "_________________________________________________________________\n",
      "dense_3 (Dense)              (None, 10)                1290      \n",
      "=================================================================\n",
      "Total params: 469,386\n",
      "Trainable params: 469,130\n",
      "Non-trainable params: 256\n",
      "_________________________________________________________________\n"
     ]
    }
   ],
   "source": [
    "model_with_2_layer = buildModel(2,(512,128),(0.3,0.5),(0,1))\n",
    "model_with_2_layer.summary()"
   ]
  },
  {
   "cell_type": "code",
   "execution_count": 0,
   "metadata": {
    "colab": {
     "base_uri": "https://localhost:8080/",
     "height": 1000
    },
    "colab_type": "code",
    "id": "8y5lKKagARgg",
    "outputId": "59e8b278-bd9f-4159-b66b-3d9ab15dc73d"
   },
   "outputs": [
    {
     "name": "stdout",
     "output_type": "stream",
     "text": [
      "WARNING:tensorflow:From /usr/local/lib/python3.6/dist-packages/keras/optimizers.py:793: The name tf.train.Optimizer is deprecated. Please use tf.compat.v1.train.Optimizer instead.\n",
      "\n",
      "WARNING:tensorflow:From /usr/local/lib/python3.6/dist-packages/keras/backend/tensorflow_backend.py:3576: The name tf.log is deprecated. Please use tf.math.log instead.\n",
      "\n",
      "WARNING:tensorflow:From /usr/local/lib/python3.6/dist-packages/tensorflow_core/python/ops/math_grad.py:1424: where (from tensorflow.python.ops.array_ops) is deprecated and will be removed in a future version.\n",
      "Instructions for updating:\n",
      "Use tf.where in 2.0, which has the same broadcast rule as np.where\n",
      "WARNING:tensorflow:From /usr/local/lib/python3.6/dist-packages/keras/backend/tensorflow_backend.py:1033: The name tf.assign_add is deprecated. Please use tf.compat.v1.assign_add instead.\n",
      "\n",
      "WARNING:tensorflow:From /usr/local/lib/python3.6/dist-packages/keras/backend/tensorflow_backend.py:1020: The name tf.assign is deprecated. Please use tf.compat.v1.assign instead.\n",
      "\n",
      "WARNING:tensorflow:From /usr/local/lib/python3.6/dist-packages/keras/backend/tensorflow_backend.py:3005: The name tf.Session is deprecated. Please use tf.compat.v1.Session instead.\n",
      "\n",
      "Train on 60000 samples, validate on 10000 samples\n",
      "Epoch 1/20\n",
      "WARNING:tensorflow:From /usr/local/lib/python3.6/dist-packages/keras/backend/tensorflow_backend.py:190: The name tf.get_default_session is deprecated. Please use tf.compat.v1.get_default_session instead.\n",
      "\n",
      "WARNING:tensorflow:From /usr/local/lib/python3.6/dist-packages/keras/backend/tensorflow_backend.py:197: The name tf.ConfigProto is deprecated. Please use tf.compat.v1.ConfigProto instead.\n",
      "\n",
      "WARNING:tensorflow:From /usr/local/lib/python3.6/dist-packages/keras/backend/tensorflow_backend.py:207: The name tf.global_variables is deprecated. Please use tf.compat.v1.global_variables instead.\n",
      "\n",
      "WARNING:tensorflow:From /usr/local/lib/python3.6/dist-packages/keras/backend/tensorflow_backend.py:216: The name tf.is_variable_initialized is deprecated. Please use tf.compat.v1.is_variable_initialized instead.\n",
      "\n",
      "WARNING:tensorflow:From /usr/local/lib/python3.6/dist-packages/keras/backend/tensorflow_backend.py:223: The name tf.variables_initializer is deprecated. Please use tf.compat.v1.variables_initializer instead.\n",
      "\n",
      "60000/60000 [==============================] - 5s 88us/step - loss: 0.3984 - acc: 0.8822 - val_loss: 0.1269 - val_acc: 0.9608\n",
      "Epoch 2/20\n",
      "60000/60000 [==============================] - 4s 67us/step - loss: 0.1686 - acc: 0.9508 - val_loss: 0.1044 - val_acc: 0.9668\n",
      "Epoch 3/20\n",
      "60000/60000 [==============================] - 4s 68us/step - loss: 0.1257 - acc: 0.9634 - val_loss: 0.0785 - val_acc: 0.9767\n",
      "Epoch 4/20\n",
      "60000/60000 [==============================] - 4s 66us/step - loss: 0.1029 - acc: 0.9690 - val_loss: 0.0768 - val_acc: 0.9763\n",
      "Epoch 5/20\n",
      "60000/60000 [==============================] - 4s 67us/step - loss: 0.0885 - acc: 0.9737 - val_loss: 0.0699 - val_acc: 0.9795\n",
      "Epoch 6/20\n",
      "60000/60000 [==============================] - 4s 67us/step - loss: 0.0755 - acc: 0.9772 - val_loss: 0.0686 - val_acc: 0.9791\n",
      "Epoch 7/20\n",
      "60000/60000 [==============================] - 4s 69us/step - loss: 0.0684 - acc: 0.9794 - val_loss: 0.0725 - val_acc: 0.9798\n",
      "Epoch 8/20\n",
      "60000/60000 [==============================] - 4s 68us/step - loss: 0.0612 - acc: 0.9816 - val_loss: 0.0627 - val_acc: 0.9810\n",
      "Epoch 9/20\n",
      "60000/60000 [==============================] - 4s 65us/step - loss: 0.0548 - acc: 0.9832 - val_loss: 0.0640 - val_acc: 0.9815\n",
      "Epoch 10/20\n",
      "60000/60000 [==============================] - 4s 67us/step - loss: 0.0501 - acc: 0.9846 - val_loss: 0.0592 - val_acc: 0.9822\n",
      "Epoch 11/20\n",
      "60000/60000 [==============================] - 4s 68us/step - loss: 0.0468 - acc: 0.9855 - val_loss: 0.0615 - val_acc: 0.9844\n",
      "Epoch 12/20\n",
      "60000/60000 [==============================] - 4s 68us/step - loss: 0.0438 - acc: 0.9865 - val_loss: 0.0650 - val_acc: 0.9818\n",
      "Epoch 13/20\n",
      "60000/60000 [==============================] - 4s 66us/step - loss: 0.0423 - acc: 0.9866 - val_loss: 0.0636 - val_acc: 0.9828\n",
      "Epoch 14/20\n",
      "60000/60000 [==============================] - 4s 67us/step - loss: 0.0377 - acc: 0.9878 - val_loss: 0.0649 - val_acc: 0.9813\n",
      "Epoch 15/20\n",
      "60000/60000 [==============================] - 4s 66us/step - loss: 0.0352 - acc: 0.9888 - val_loss: 0.0588 - val_acc: 0.9841\n",
      "Epoch 16/20\n",
      "60000/60000 [==============================] - 4s 70us/step - loss: 0.0352 - acc: 0.9889 - val_loss: 0.0610 - val_acc: 0.9827\n",
      "Epoch 17/20\n",
      "60000/60000 [==============================] - 4s 67us/step - loss: 0.0322 - acc: 0.9896 - val_loss: 0.0604 - val_acc: 0.9826\n",
      "Epoch 18/20\n",
      "60000/60000 [==============================] - 4s 67us/step - loss: 0.0328 - acc: 0.9898 - val_loss: 0.0631 - val_acc: 0.9843\n",
      "Epoch 19/20\n",
      "60000/60000 [==============================] - 4s 68us/step - loss: 0.0290 - acc: 0.9907 - val_loss: 0.0603 - val_acc: 0.9834\n",
      "Epoch 20/20\n",
      "60000/60000 [==============================] - 4s 67us/step - loss: 0.0294 - acc: 0.9908 - val_loss: 0.0674 - val_acc: 0.9832\n"
     ]
    }
   ],
   "source": [
    "model_with_2_layer.compile(optimizer='adam', loss='categorical_crossentropy', metrics=['accuracy'])\n",
    "\n",
    "history = model_with_2_layer.fit(X_train, Y_train, batch_size=batch_size, epochs=nb_epoch, verbose=1, validation_data=(X_test, Y_test))"
   ]
  },
  {
   "cell_type": "code",
   "execution_count": 0,
   "metadata": {
    "colab": {
     "base_uri": "https://localhost:8080/",
     "height": 330
    },
    "colab_type": "code",
    "id": "txVis8byAUFs",
    "outputId": "d0368ef8-e6a1-433a-f91c-aa75b13b4610"
   },
   "outputs": [
    {
     "name": "stdout",
     "output_type": "stream",
     "text": [
      "Test score: 0.06735987591733755\n",
      "Test accuracy: 0.9832\n"
     ]
    },
    {
     "data": {
      "image/png": "[encoded data removed]",
      "text/plain": [
       "<Figure size 432x288 with 1 Axes>"
      ]
     },
     "metadata": {
      "tags": []
     },
     "output_type": "display_data"
    }
   ],
   "source": [
    "score = model_with_2_layer.evaluate(X_test, Y_test, verbose=0) \n",
    "print('Test score:', score[0]) \n",
    "print('Test accuracy:', score[1])\n",
    "\n",
    "fig,ax = plt.subplots(1,1)\n",
    "ax.set_title(\"model with 2 hidden layer and their respective activation units is - 512,128\")\n",
    "ax.set_xlabel('epoch') ; ax.set_ylabel('Categorical Crossentropy Loss')\n",
    "\n",
    "# list of epoch numbers\n",
    "x = list(range(1,nb_epoch+1))\n",
    "\n",
    "vy = history.history['val_loss']\n",
    "ty = history.history['loss']\n",
    "plt_dynamic(x, vy, ty, ax)\n",
    "table.add_row([\"model_with_2_layer\",score[1],\"(512,128)\",\"(0.3,0.5)\", \"(0,1)\"])"
   ]
  },
  {
   "cell_type": "code",
   "execution_count": 0,
   "metadata": {
    "colab": {
     "base_uri": "https://localhost:8080/",
     "height": 503
    },
    "colab_type": "code",
    "id": "CyKhh_Q-AcEf",
    "outputId": "fc1ad8bd-e1b4-493c-e2a0-9705f8899d14"
   },
   "outputs": [
    {
     "name": "stdout",
     "output_type": "stream",
     "text": [
      "Model: \"sequential_2\"\n",
      "_________________________________________________________________\n",
      "Layer (type)                 Output Shape              Param #   \n",
      "=================================================================\n",
      "dense_4 (Dense)              (None, 512)               401920    \n",
      "_________________________________________________________________\n",
      "dropout_3 (Dropout)          (None, 512)               0         \n",
      "_________________________________________________________________\n",
      "batch_normalization_2 (Batch (None, 512)               2048      \n",
      "_________________________________________________________________\n",
      "dense_5 (Dense)              (None, 256)               131328    \n",
      "_________________________________________________________________\n",
      "dropout_4 (Dropout)          (None, 256)               0         \n",
      "_________________________________________________________________\n",
      "batch_normalization_3 (Batch (None, 256)               1024      \n",
      "_________________________________________________________________\n",
      "dense_6 (Dense)              (None, 128)               32896     \n",
      "_________________________________________________________________\n",
      "dropout_5 (Dropout)          (None, 128)               0         \n",
      "_________________________________________________________________\n",
      "batch_normalization_4 (Batch (None, 128)               512       \n",
      "_________________________________________________________________\n",
      "dense_7 (Dense)              (None, 10)                1290      \n",
      "=================================================================\n",
      "Total params: 571,018\n",
      "Trainable params: 569,226\n",
      "Non-trainable params: 1,792\n",
      "_________________________________________________________________\n"
     ]
    }
   ],
   "source": [
    "model_with_3_layer = buildModel(3,(512,256,128),(0,0.2,0.5),(1,1,1))\n",
    "model_with_3_layer.summary()"
   ]
  },
  {
   "cell_type": "code",
   "execution_count": 0,
   "metadata": {
    "colab": {
     "base_uri": "https://localhost:8080/",
     "height": 729
    },
    "colab_type": "code",
    "id": "npvbu-cdF1n8",
    "outputId": "fef8dab8-0b32-4317-942e-8089bdd739ac"
   },
   "outputs": [
    {
     "name": "stdout",
     "output_type": "stream",
     "text": [
      "Train on 60000 samples, validate on 10000 samples\n",
      "Epoch 1/20\n",
      "60000/60000 [==============================] - 7s 120us/step - loss: 0.3263 - acc: 0.9039 - val_loss: 0.1204 - val_acc: 0.9634\n",
      "Epoch 2/20\n",
      "60000/60000 [==============================] - 6s 104us/step - loss: 0.1267 - acc: 0.9637 - val_loss: 0.0977 - val_acc: 0.9707\n",
      "Epoch 3/20\n",
      "60000/60000 [==============================] - 6s 105us/step - loss: 0.0932 - acc: 0.9726 - val_loss: 0.0820 - val_acc: 0.9759\n",
      "Epoch 4/20\n",
      "60000/60000 [==============================] - 6s 104us/step - loss: 0.0694 - acc: 0.9795 - val_loss: 0.0841 - val_acc: 0.9742\n",
      "Epoch 5/20\n",
      "60000/60000 [==============================] - 6s 106us/step - loss: 0.0573 - acc: 0.9828 - val_loss: 0.0782 - val_acc: 0.9782\n",
      "Epoch 6/20\n",
      "60000/60000 [==============================] - 6s 105us/step - loss: 0.0483 - acc: 0.9853 - val_loss: 0.0695 - val_acc: 0.9795\n",
      "Epoch 7/20\n",
      "60000/60000 [==============================] - 6s 106us/step - loss: 0.0406 - acc: 0.9881 - val_loss: 0.0754 - val_acc: 0.9776\n",
      "Epoch 8/20\n",
      "60000/60000 [==============================] - 6s 105us/step - loss: 0.0380 - acc: 0.9884 - val_loss: 0.0709 - val_acc: 0.9787\n",
      "Epoch 9/20\n",
      "60000/60000 [==============================] - 6s 106us/step - loss: 0.0342 - acc: 0.9895 - val_loss: 0.0720 - val_acc: 0.9796\n",
      "Epoch 10/20\n",
      "60000/60000 [==============================] - 6s 104us/step - loss: 0.0310 - acc: 0.9908 - val_loss: 0.0746 - val_acc: 0.9798\n",
      "Epoch 11/20\n",
      "60000/60000 [==============================] - 6s 105us/step - loss: 0.0254 - acc: 0.9924 - val_loss: 0.0748 - val_acc: 0.9803\n",
      "Epoch 12/20\n",
      "60000/60000 [==============================] - 6s 107us/step - loss: 0.0245 - acc: 0.9922 - val_loss: 0.0721 - val_acc: 0.9821\n",
      "Epoch 13/20\n",
      "60000/60000 [==============================] - 6s 103us/step - loss: 0.0213 - acc: 0.9930 - val_loss: 0.0789 - val_acc: 0.9808\n",
      "Epoch 14/20\n",
      "60000/60000 [==============================] - 6s 103us/step - loss: 0.0232 - acc: 0.9929 - val_loss: 0.0763 - val_acc: 0.9815\n",
      "Epoch 15/20\n",
      "60000/60000 [==============================] - 6s 106us/step - loss: 0.0199 - acc: 0.9940 - val_loss: 0.0717 - val_acc: 0.9819\n",
      "Epoch 16/20\n",
      "60000/60000 [==============================] - 6s 105us/step - loss: 0.0211 - acc: 0.9934 - val_loss: 0.0750 - val_acc: 0.9805\n",
      "Epoch 17/20\n",
      "60000/60000 [==============================] - 6s 103us/step - loss: 0.0177 - acc: 0.9943 - val_loss: 0.0750 - val_acc: 0.9825\n",
      "Epoch 18/20\n",
      "60000/60000 [==============================] - 6s 106us/step - loss: 0.0170 - acc: 0.9945 - val_loss: 0.0876 - val_acc: 0.9786\n",
      "Epoch 19/20\n",
      "60000/60000 [==============================] - 6s 105us/step - loss: 0.0142 - acc: 0.9956 - val_loss: 0.0870 - val_acc: 0.9790\n",
      "Epoch 20/20\n",
      "60000/60000 [==============================] - 6s 104us/step - loss: 0.0142 - acc: 0.9955 - val_loss: 0.1051 - val_acc: 0.9778\n"
     ]
    }
   ],
   "source": [
    "model_with_3_layer.compile(optimizer='adam', loss='categorical_crossentropy', metrics=['accuracy'])\n",
    "\n",
    "history = model_with_3_layer.fit(X_train, Y_train, batch_size=batch_size, epochs=nb_epoch, verbose=1, validation_data=(X_test, Y_test))"
   ]
  },
  {
   "cell_type": "code",
   "execution_count": 0,
   "metadata": {
    "colab": {
     "base_uri": "https://localhost:8080/",
     "height": 330
    },
    "colab_type": "code",
    "id": "RPI8YYVDGCXn",
    "outputId": "2adff78f-6ed2-450f-ed90-1639a4c18cfc"
   },
   "outputs": [
    {
     "name": "stdout",
     "output_type": "stream",
     "text": [
      "Test score: 0.10507028651929867\n",
      "Test accuracy: 0.9778\n"
     ]
    },
    {
     "data": {
      "image/png": "[encoded data removed]",
      "text/plain": [
       "<Figure size 432x288 with 1 Axes>"
      ]
     },
     "metadata": {
      "tags": []
     },
     "output_type": "display_data"
    }
   ],
   "source": [
    "score = model_with_3_layer.evaluate(X_test, Y_test, verbose=0) \n",
    "print('Test score:', score[0]) \n",
    "print('Test accuracy:', score[1])\n",
    "\n",
    "fig,ax = plt.subplots(1,1)\n",
    "ax.set_title(\"model with 3 hidden layer and their respective activation units is - 512,256,128\")\n",
    "ax.set_xlabel('epoch') ; ax.set_ylabel('Categorical Crossentropy Loss')\n",
    "\n",
    "# list of epoch numbers\n",
    "x = list(range(1,nb_epoch+1))\n",
    "\n",
    "vy = history.history['val_loss']\n",
    "ty = history.history['loss']\n",
    "plt_dynamic(x, vy, ty, ax)\n",
    "table.add_row([\"model_with_3_layer\",score[1],\"(512,256,128)\",\"(0,0.2,0.5)\", \"(1,1,1)\"])"
   ]
  },
  {
   "cell_type": "code",
   "execution_count": 0,
   "metadata": {
    "colab": {
     "base_uri": "https://localhost:8080/",
     "height": 642
    },
    "colab_type": "code",
    "id": "rgPGTIzLGN3u",
    "outputId": "5f55cf6a-39d5-4dda-98ed-4146d40b4219"
   },
   "outputs": [
    {
     "name": "stdout",
     "output_type": "stream",
     "text": [
      "Model: \"sequential_3\"\n",
      "_________________________________________________________________\n",
      "Layer (type)                 Output Shape              Param #   \n",
      "=================================================================\n",
      "dense_8 (Dense)              (None, 600)               471000    \n",
      "_________________________________________________________________\n",
      "dropout_6 (Dropout)          (None, 600)               0         \n",
      "_________________________________________________________________\n",
      "dense_9 (Dense)              (None, 300)               180300    \n",
      "_________________________________________________________________\n",
      "dropout_7 (Dropout)          (None, 300)               0         \n",
      "_________________________________________________________________\n",
      "dense_10 (Dense)             (None, 150)               45150     \n",
      "_________________________________________________________________\n",
      "dropout_8 (Dropout)          (None, 150)               0         \n",
      "_________________________________________________________________\n",
      "batch_normalization_5 (Batch (None, 150)               600       \n",
      "_________________________________________________________________\n",
      "dense_11 (Dense)             (None, 75)                11325     \n",
      "_________________________________________________________________\n",
      "dropout_9 (Dropout)          (None, 75)                0         \n",
      "_________________________________________________________________\n",
      "batch_normalization_6 (Batch (None, 75)                300       \n",
      "_________________________________________________________________\n",
      "dense_12 (Dense)             (None, 32)                2432      \n",
      "_________________________________________________________________\n",
      "dropout_10 (Dropout)         (None, 32)                0         \n",
      "_________________________________________________________________\n",
      "batch_normalization_7 (Batch (None, 32)                128       \n",
      "_________________________________________________________________\n",
      "dense_13 (Dense)             (None, 10)                330       \n",
      "=================================================================\n",
      "Total params: 711,565\n",
      "Trainable params: 711,051\n",
      "Non-trainable params: 514\n",
      "_________________________________________________________________\n"
     ]
    }
   ],
   "source": [
    "model_with_5_layer = buildModel(5,(600,300,150,75,32),(0.5,0,0,0.2,0.1),(0,0,1,1,1))\n",
    "model_with_5_layer.summary()"
   ]
  },
  {
   "cell_type": "code",
   "execution_count": 0,
   "metadata": {
    "colab": {
     "base_uri": "https://localhost:8080/",
     "height": 729
    },
    "colab_type": "code",
    "id": "xKjKiniPLFa_",
    "outputId": "86ff7dd0-76ba-4448-b853-64cfdc1cdaa7"
   },
   "outputs": [
    {
     "name": "stdout",
     "output_type": "stream",
     "text": [
      "Train on 60000 samples, validate on 10000 samples\n",
      "Epoch 1/20\n",
      "60000/60000 [==============================] - 8s 141us/step - loss: 0.5587 - acc: 0.8350 - val_loss: 0.1534 - val_acc: 0.9538\n",
      "Epoch 2/20\n",
      "60000/60000 [==============================] - 7s 120us/step - loss: 0.2174 - acc: 0.9381 - val_loss: 0.1150 - val_acc: 0.9668\n",
      "Epoch 3/20\n",
      "60000/60000 [==============================] - 7s 120us/step - loss: 0.1679 - acc: 0.9522 - val_loss: 0.0934 - val_acc: 0.9723\n",
      "Epoch 4/20\n",
      "60000/60000 [==============================] - 8s 131us/step - loss: 0.1400 - acc: 0.9600 - val_loss: 0.0838 - val_acc: 0.9753\n",
      "Epoch 5/20\n",
      "60000/60000 [==============================] - 7s 120us/step - loss: 0.1233 - acc: 0.9662 - val_loss: 0.0855 - val_acc: 0.9751\n",
      "Epoch 6/20\n",
      "60000/60000 [==============================] - 7s 119us/step - loss: 0.1070 - acc: 0.9695 - val_loss: 0.0757 - val_acc: 0.9793\n",
      "Epoch 7/20\n",
      "60000/60000 [==============================] - 7s 121us/step - loss: 0.1000 - acc: 0.9711 - val_loss: 0.0791 - val_acc: 0.9784\n",
      "Epoch 8/20\n",
      "60000/60000 [==============================] - 7s 123us/step - loss: 0.0915 - acc: 0.9741 - val_loss: 0.0730 - val_acc: 0.9788\n",
      "Epoch 9/20\n",
      "60000/60000 [==============================] - 7s 122us/step - loss: 0.0841 - acc: 0.9765 - val_loss: 0.0655 - val_acc: 0.9802\n",
      "Epoch 10/20\n",
      "60000/60000 [==============================] - 7s 121us/step - loss: 0.0803 - acc: 0.9770 - val_loss: 0.0713 - val_acc: 0.9796\n",
      "Epoch 11/20\n",
      "60000/60000 [==============================] - 7s 119us/step - loss: 0.0743 - acc: 0.9781 - val_loss: 0.0658 - val_acc: 0.9796\n",
      "Epoch 12/20\n",
      "60000/60000 [==============================] - 7s 119us/step - loss: 0.0720 - acc: 0.9792 - val_loss: 0.0610 - val_acc: 0.9819\n",
      "Epoch 13/20\n",
      "60000/60000 [==============================] - 7s 120us/step - loss: 0.0683 - acc: 0.9806 - val_loss: 0.0659 - val_acc: 0.9807\n",
      "Epoch 14/20\n",
      "60000/60000 [==============================] - 7s 119us/step - loss: 0.0668 - acc: 0.9806 - val_loss: 0.0641 - val_acc: 0.9823\n",
      "Epoch 15/20\n",
      "60000/60000 [==============================] - 7s 121us/step - loss: 0.0608 - acc: 0.9827 - val_loss: 0.0678 - val_acc: 0.9810\n",
      "Epoch 16/20\n",
      "60000/60000 [==============================] - 7s 119us/step - loss: 0.0581 - acc: 0.9830 - val_loss: 0.0628 - val_acc: 0.9833\n",
      "Epoch 17/20\n",
      "60000/60000 [==============================] - 7s 120us/step - loss: 0.0566 - acc: 0.9838 - val_loss: 0.0636 - val_acc: 0.9835\n",
      "Epoch 18/20\n",
      "60000/60000 [==============================] - 7s 119us/step - loss: 0.0521 - acc: 0.9853 - val_loss: 0.0601 - val_acc: 0.9836\n",
      "Epoch 19/20\n",
      "60000/60000 [==============================] - 7s 121us/step - loss: 0.0521 - acc: 0.9847 - val_loss: 0.0581 - val_acc: 0.9843\n",
      "Epoch 20/20\n",
      "60000/60000 [==============================] - 7s 120us/step - loss: 0.0467 - acc: 0.9860 - val_loss: 0.0633 - val_acc: 0.9836\n"
     ]
    }
   ],
   "source": [
    "model_with_5_layer.compile(optimizer='adam', loss='categorical_crossentropy', metrics=['accuracy'])\n",
    "\n",
    "history = model_with_5_layer.fit(X_train, Y_train, batch_size=batch_size, epochs=nb_epoch, verbose=1, validation_data=(X_test, Y_test))"
   ]
  },
  {
   "cell_type": "code",
   "execution_count": 0,
   "metadata": {
    "colab": {
     "base_uri": "https://localhost:8080/",
     "height": 330
    },
    "colab_type": "code",
    "id": "l1jqnkTMLZ-j",
    "outputId": "187e81d6-3b9e-472b-f451-0561f08e3d8c"
   },
   "outputs": [
    {
     "name": "stdout",
     "output_type": "stream",
     "text": [
      "Test score: 0.06331695338832215\n",
      "Test accuracy: 0.9836\n"
     ]
    },
    {
     "data": {
      "image/png": "[encoded data removed]",
      "text/plain": [
       "<Figure size 432x288 with 1 Axes>"
      ]
     },
     "metadata": {
      "tags": []
     },
     "output_type": "display_data"
    }
   ],
   "source": [
    "score = model_with_5_layer.evaluate(X_test, Y_test, verbose=0) \n",
    "print('Test score:', score[0]) \n",
    "print('Test accuracy:', score[1])\n",
    "\n",
    "fig,ax = plt.subplots(1,1)\n",
    "ax.set_title(\"model with 3 hidden layer and their respective activation units is - 512,256,128\")\n",
    "ax.set_xlabel('epoch') ; ax.set_ylabel('Categorical Crossentropy Loss')\n",
    "\n",
    "# list of epoch numbers\n",
    "x = list(range(1,nb_epoch+1))\n",
    "\n",
    "vy = history.history['val_loss']\n",
    "ty = history.history['loss']\n",
    "plt_dynamic(x, vy, ty, ax)\n",
    "#(600,300,150,75,32),(0.5,0,0,0.2,0.1),(0,0,1,1,1)\n",
    "table.add_row([\"model_with_5_layer\",score[1],\"(600,300,150,75,32)\",\"(0.5,0,0,0.2,0.1)\", \"(0,0,1,1,1)\"])"
   ]
  },
  {
   "cell_type": "code",
   "execution_count": 0,
   "metadata": {
    "colab": {
     "base_uri": "https://localhost:8080/",
     "height": 139
    },
    "colab_type": "code",
    "id": "7zAO0qTwMCmF",
    "outputId": "4b493e89-e515-40d7-926d-f6957a376ba6"
   },
   "outputs": [
    {
     "name": "stdout",
     "output_type": "stream",
     "text": [
      "+--------------------+---------------+------------------------+----------------------------------+---------------------------------------------------+\n",
      "|     model_name     | Test Accuracy | no_of_activation_units | Droput rate of each Hidden Layer | include/Not include BatchNorm - each hidden Layer |\n",
      "+--------------------+---------------+------------------------+----------------------------------+---------------------------------------------------+\n",
      "| model_with_2_layer |     0.9832    |       (512,128)        |            (0.3,0.5)             |                       (0,1)                       |\n",
      "| model_with_3_layer |     0.9778    |     (512,256,128)      |           (0,0.2,0.5)            |                      (1,1,1)                      |\n",
      "| model_with_5_layer |     0.9836    |  (600,300,150,75,32)   |        (0.5,0,0,0.2,0.1)         |                    (0,0,1,1,1)                    |\n",
      "+--------------------+---------------+------------------------+----------------------------------+---------------------------------------------------+\n"
     ]
    }
   ],
   "source": [
    "print(table)"
   ]
  }
 ],
 "metadata": {
  "accelerator": "GPU",
  "colab": {
   "name": "MNIST classification using Multi-Layered Perceptron",
   "provenance": []
  },
  "kernelspec": {
   "display_name": "Python 3",
   "language": "python",
   "name": "python3"
  },
  "language_info": {
   "codemirror_mode": {
    "name": "ipython",
    "version": 3
   },
   "file_extension": ".py",
   "mimetype": "text/x-python",
   "name": "python",
   "nbconvert_exporter": "python",
   "pygments_lexer": "ipython3",
   "version": "3.7.4"
  }
 },
 "nbformat": 4,
 "nbformat_minor": 1
}
