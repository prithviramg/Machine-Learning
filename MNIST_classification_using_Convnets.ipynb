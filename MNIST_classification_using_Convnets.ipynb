{
 "cells": [
  {
   "cell_type": "code",
   "execution_count": 1,
   "metadata": {
    "colab": {
     "base_uri": "https://localhost:8080/",
     "height": 34
    },
    "colab_type": "code",
    "id": "wvanUs0ZSQtC",
    "outputId": "9bb315ca-36d7-4b58-e3a3-71e956146689"
   },
   "outputs": [
    {
     "name": "stderr",
     "output_type": "stream",
     "text": [
      "Using TensorFlow backend.\n"
     ]
    }
   ],
   "source": [
    "import keras\n",
    "import tensorflow as tf\n",
    "import numpy as np\n",
    "import matplotlib.pyplot as plt\n",
    "from keras.datasets import mnist "
   ]
  },
  {
   "cell_type": "code",
   "execution_count": 2,
   "metadata": {
    "colab": {
     "base_uri": "https://localhost:8080/",
     "height": 34
    },
    "colab_type": "code",
    "id": "Z8c21FbcS84y",
    "outputId": "d423e252-de08-43c9-fd27-fca14172992c"
   },
   "outputs": [
    {
     "name": "stdout",
     "output_type": "stream",
     "text": [
      "Requirement already satisfied: PTable in /usr/local/lib/python3.6/dist-packages (0.9.2)\n"
     ]
    }
   ],
   "source": [
    "!pip install PTable\n",
    "from prettytable import PrettyTable\n",
    "table = PrettyTable()\n",
    "table.field_names = [\"model_name\", \"Test Accuracy\", \"Description\"]"
   ]
  },
  {
   "cell_type": "code",
   "execution_count": 0,
   "metadata": {
    "colab": {},
    "colab_type": "code",
    "id": "vcyVZfFBTTjf"
   },
   "outputs": [],
   "source": [
    "def plt_epoch_vs_loss(epochs, val_loss, train_loss, axis):\n",
    "    axis.plot(epochs, val_loss, 'b', label=\"Validation Loss\")\n",
    "    axis.plot(epochs, train_loss, 'r', label=\"Train Loss\")\n",
    "    plt.legend()\n",
    "    plt.grid()\n",
    "    fig.canvas.draw()"
   ]
  },
  {
   "cell_type": "code",
   "execution_count": 0,
   "metadata": {
    "colab": {},
    "colab_type": "code",
    "id": "vsD38f39T1lK"
   },
   "outputs": [],
   "source": [
    "# the data, shuffled and split between train and test sets \n",
    "(X_train, y_train), (X_test, y_test) = keras.datasets.mnist.load_data()"
   ]
  },
  {
   "cell_type": "code",
   "execution_count": 5,
   "metadata": {
    "colab": {
     "base_uri": "https://localhost:8080/",
     "height": 52
    },
    "colab_type": "code",
    "id": "0ZdiXLqOUHA3",
    "outputId": "ff07febc-81ba-4ea1-b808-8802a00b79b4"
   },
   "outputs": [
    {
     "name": "stdout",
     "output_type": "stream",
     "text": [
      "Number of train examples : 60000 and each image is of shape (28, 28)\n",
      "Number of test examples : 10000 and each image is of shape (28, 28)\n"
     ]
    }
   ],
   "source": [
    "print(\"Number of train examples :\", X_train.shape[0], \"and each image is of shape (%d, %d)\"%(X_train.shape[1], X_train.shape[2]))\n",
    "print(\"Number of test examples :\", X_test.shape[0], \"and each image is of shape (%d, %d)\"%(X_test.shape[1], X_test.shape[2]))"
   ]
  },
  {
   "cell_type": "code",
   "execution_count": 6,
   "metadata": {
    "colab": {
     "base_uri": "https://localhost:8080/",
     "height": 281
    },
    "colab_type": "code",
    "id": "dICEGgJjUWR_",
    "outputId": "d6df062e-31b9-41ec-d58f-22ffe3d01f64"
   },
   "outputs": [
    {
     "data": {
      "image/png": "[encoded data removed]",
      "text/plain": [
       "<Figure size 432x288 with 1 Axes>"
      ]
     },
     "metadata": {
      "tags": []
     },
     "output_type": "display_data"
    }
   ],
   "source": [
    "#displaying random image and label\n",
    "plt.imshow(X_train[2345], cmap='gray')\n",
    "plt.title(\"image label :\"+str(y_train[2345]))\n",
    "plt.show()"
   ]
  },
  {
   "cell_type": "code",
   "execution_count": 0,
   "metadata": {
    "colab": {},
    "colab_type": "code",
    "id": "7tJkTbytUt6v"
   },
   "outputs": [],
   "source": [
    "#reshaping x_train and x_test tensor for input in model\n",
    "X_train = X_train.reshape(X_train.shape[0], X_train.shape[1], X_train.shape[2], 1)\n",
    "X_test = X_test.reshape(X_test.shape[0], X_test.shape[1], X_test.shape[2], 1)\n",
    "#converting class numbers in 10 dimensional vector\n",
    "Y_train = keras.utils.np_utils.to_categorical(y_train, 10) \n",
    "Y_test = keras.utils.np_utils.to_categorical(y_test, 10)"
   ]
  },
  {
   "cell_type": "code",
   "execution_count": 8,
   "metadata": {
    "colab": {
     "base_uri": "https://localhost:8080/",
     "height": 211
    },
    "colab_type": "code",
    "id": "RZVbZOMEWjUf",
    "outputId": "241b528b-8460-4dd8-ec1f-608bd0b20b39"
   },
   "outputs": [
    {
     "name": "stdout",
     "output_type": "stream",
     "text": [
      "WARNING:tensorflow:From /usr/local/lib/python3.6/dist-packages/keras/backend/tensorflow_backend.py:66: The name tf.get_default_graph is deprecated. Please use tf.compat.v1.get_default_graph instead.\n",
      "\n",
      "WARNING:tensorflow:From /usr/local/lib/python3.6/dist-packages/keras/backend/tensorflow_backend.py:541: The name tf.placeholder is deprecated. Please use tf.compat.v1.placeholder instead.\n",
      "\n",
      "WARNING:tensorflow:From /usr/local/lib/python3.6/dist-packages/keras/backend/tensorflow_backend.py:4479: The name tf.truncated_normal is deprecated. Please use tf.random.truncated_normal instead.\n",
      "\n",
      "WARNING:tensorflow:From /usr/local/lib/python3.6/dist-packages/keras/backend/tensorflow_backend.py:4267: The name tf.nn.max_pool is deprecated. Please use tf.nn.max_pool2d instead.\n",
      "\n",
      "WARNING:tensorflow:From /usr/local/lib/python3.6/dist-packages/keras/backend/tensorflow_backend.py:4432: The name tf.random_uniform is deprecated. Please use tf.random.uniform instead.\n",
      "\n"
     ]
    }
   ],
   "source": [
    "from keras.models import Sequential\n",
    "model_3layer = Sequential()\n",
    "model_3layer.add(keras.layers.Conv2D(filters=3,kernel_size=(5,5),strides=(1,1),padding='same',activation='relu',kernel_initializer='he_normal',\\\n",
    "                                     input_shape = (X_train.shape[1],X_train.shape[2],1)))\n",
    "model_3layer.add(keras.layers.MaxPool2D(pool_size=(2,2)))\n",
    "model_3layer.add(keras.layers.Conv2D(filters=3,kernel_size=(3,3),kernel_initializer='he_normal',activation='relu'))\n",
    "model_3layer.add(keras.layers.MaxPool2D(pool_size=(2,2)))\n",
    "model_3layer.add(keras.layers.Conv2D(filters=3,kernel_size=(2,2),kernel_initializer='he_normal',activation='relu'))\n",
    "model_3layer.add(keras.layers.Flatten())\n",
    "model_3layer.add(keras.layers.Dense(128, activation='relu',kernel_initializer='he_normal'))\n",
    "model_3layer.add(keras.layers.Dense(10,activation='softmax'))"
   ]
  },
  {
   "cell_type": "code",
   "execution_count": 9,
   "metadata": {
    "colab": {
     "base_uri": "https://localhost:8080/",
     "height": 801
    },
    "colab_type": "code",
    "id": "JjkFtN0wapiW",
    "outputId": "3718ee74-eebe-499f-8256-16ff58d51167"
   },
   "outputs": [
    {
     "name": "stdout",
     "output_type": "stream",
     "text": [
      "WARNING:tensorflow:From /usr/local/lib/python3.6/dist-packages/keras/optimizers.py:793: The name tf.train.Optimizer is deprecated. Please use tf.compat.v1.train.Optimizer instead.\n",
      "\n",
      "WARNING:tensorflow:From /usr/local/lib/python3.6/dist-packages/keras/backend/tensorflow_backend.py:3576: The name tf.log is deprecated. Please use tf.math.log instead.\n",
      "\n",
      "WARNING:tensorflow:From /usr/local/lib/python3.6/dist-packages/tensorflow_core/python/ops/math_grad.py:1424: where (from tensorflow.python.ops.array_ops) is deprecated and will be removed in a future version.\n",
      "Instructions for updating:\n",
      "Use tf.where in 2.0, which has the same broadcast rule as np.where\n",
      "WARNING:tensorflow:From /usr/local/lib/python3.6/dist-packages/keras/backend/tensorflow_backend.py:1033: The name tf.assign_add is deprecated. Please use tf.compat.v1.assign_add instead.\n",
      "\n",
      "WARNING:tensorflow:From /usr/local/lib/python3.6/dist-packages/keras/backend/tensorflow_backend.py:1020: The name tf.assign is deprecated. Please use tf.compat.v1.assign instead.\n",
      "\n",
      "WARNING:tensorflow:From /usr/local/lib/python3.6/dist-packages/keras/backend/tensorflow_backend.py:3005: The name tf.Session is deprecated. Please use tf.compat.v1.Session instead.\n",
      "\n",
      "Train on 60000 samples, validate on 10000 samples\n",
      "Epoch 1/10\n",
      "WARNING:tensorflow:From /usr/local/lib/python3.6/dist-packages/keras/backend/tensorflow_backend.py:190: The name tf.get_default_session is deprecated. Please use tf.compat.v1.get_default_session instead.\n",
      "\n",
      "WARNING:tensorflow:From /usr/local/lib/python3.6/dist-packages/keras/backend/tensorflow_backend.py:197: The name tf.ConfigProto is deprecated. Please use tf.compat.v1.ConfigProto instead.\n",
      "\n",
      "WARNING:tensorflow:From /usr/local/lib/python3.6/dist-packages/keras/backend/tensorflow_backend.py:207: The name tf.global_variables is deprecated. Please use tf.compat.v1.global_variables instead.\n",
      "\n",
      "WARNING:tensorflow:From /usr/local/lib/python3.6/dist-packages/keras/backend/tensorflow_backend.py:216: The name tf.is_variable_initialized is deprecated. Please use tf.compat.v1.is_variable_initialized instead.\n",
      "\n",
      "WARNING:tensorflow:From /usr/local/lib/python3.6/dist-packages/keras/backend/tensorflow_backend.py:223: The name tf.variables_initializer is deprecated. Please use tf.compat.v1.variables_initializer instead.\n",
      "\n",
      "60000/60000 [==============================] - 30s 494us/step - loss: 1.8876 - acc: 0.4013 - val_loss: 1.4419 - val_acc: 0.4992\n",
      "Epoch 2/10\n",
      "60000/60000 [==============================] - 29s 491us/step - loss: 1.1926 - acc: 0.6024 - val_loss: 0.7421 - val_acc: 0.7670\n",
      "Epoch 3/10\n",
      "60000/60000 [==============================] - 30s 505us/step - loss: 0.5447 - acc: 0.8271 - val_loss: 0.3669 - val_acc: 0.8845\n",
      "Epoch 4/10\n",
      "60000/60000 [==============================] - 30s 498us/step - loss: 0.3250 - acc: 0.8956 - val_loss: 0.2769 - val_acc: 0.9103\n",
      "Epoch 5/10\n",
      "60000/60000 [==============================] - 30s 501us/step - loss: 0.2434 - acc: 0.9229 - val_loss: 0.2120 - val_acc: 0.9319\n",
      "Epoch 6/10\n",
      "60000/60000 [==============================] - 30s 497us/step - loss: 0.2009 - acc: 0.9360 - val_loss: 0.1829 - val_acc: 0.9413\n",
      "Epoch 7/10\n",
      "60000/60000 [==============================] - 30s 497us/step - loss: 0.1726 - acc: 0.9449 - val_loss: 0.1581 - val_acc: 0.9519\n",
      "Epoch 8/10\n",
      "60000/60000 [==============================] - 30s 493us/step - loss: 0.1482 - acc: 0.9536 - val_loss: 0.1482 - val_acc: 0.9532\n",
      "Epoch 9/10\n",
      "60000/60000 [==============================] - 30s 496us/step - loss: 0.1335 - acc: 0.9580 - val_loss: 0.1490 - val_acc: 0.9558\n",
      "Epoch 10/10\n",
      "60000/60000 [==============================] - 30s 497us/step - loss: 0.1238 - acc: 0.9610 - val_loss: 0.1377 - val_acc: 0.9567\n"
     ]
    }
   ],
   "source": [
    "model_3layer.compile(optimizer='adam', loss='categorical_crossentropy', metrics=['accuracy'])\n",
    "history = model_3layer.fit(X_train, Y_train, batch_size=128, epochs=10, verbose=1, validation_data=(X_test, Y_test))"
   ]
  },
  {
   "cell_type": "code",
   "execution_count": 10,
   "metadata": {
    "colab": {
     "base_uri": "https://localhost:8080/",
     "height": 330
    },
    "colab_type": "code",
    "id": "K76c6KGdbuG4",
    "outputId": "53351296-934c-48ee-9713-3a1b67e6270b"
   },
   "outputs": [
    {
     "name": "stdout",
     "output_type": "stream",
     "text": [
      "Test score: 0.13773354607648217\n",
      "Test accuracy: 0.9567\n"
     ]
    },
    {
     "data": {
      "image/png": "[encoded data removed]",
      "text/plain": [
       "<Figure size 432x288 with 1 Axes>"
      ]
     },
     "metadata": {
      "tags": []
     },
     "output_type": "display_data"
    }
   ],
   "source": [
    "score = model_3layer.evaluate(X_test, Y_test, verbose=0) \n",
    "print('Test score:', score[0]) \n",
    "print('Test accuracy:', score[1])\n",
    "\n",
    "fig,axis = plt.subplots(1,1)\n",
    "axis.set_title(\"model with 3 conv layers and followed by dense layers\")\n",
    "axis.set_xlabel('epoch') ; axis.set_ylabel('Categorical Crossentropy Loss')\n",
    "plt_epoch_vs_loss(list(range(1,11)), history.history['val_loss'], history.history['loss'], axis)\n",
    "table.add_row([\"model_3convlayer\",score[1],\"kernel-5X5X3(relu, he_normal),\\n maxpool-(2,2),\\n \\\n",
    "kernel-3X3X3(relu, he_normal),\\n maxpool-(2,2),\\n \\\n",
    "kernel-2X2X3(relu, he_normal),\\n \\\n",
    "flatten,\\n Dense-128(relu, he_normal),\\n softmax-10\"])"
   ]
  },
  {
   "cell_type": "code",
   "execution_count": 11,
   "metadata": {
    "colab": {
     "base_uri": "https://localhost:8080/",
     "height": 523
    },
    "colab_type": "code",
    "id": "fNN3tVojcaUq",
    "outputId": "9fc53b6a-4e2d-42bf-caeb-f90303d20a28"
   },
   "outputs": [
    {
     "name": "stdout",
     "output_type": "stream",
     "text": [
      "WARNING:tensorflow:From /usr/local/lib/python3.6/dist-packages/keras/backend/tensorflow_backend.py:2041: The name tf.nn.fused_batch_norm is deprecated. Please use tf.compat.v1.nn.fused_batch_norm instead.\n",
      "\n",
      "WARNING:tensorflow:From /usr/local/lib/python3.6/dist-packages/keras/backend/tensorflow_backend.py:148: The name tf.placeholder_with_default is deprecated. Please use tf.compat.v1.placeholder_with_default instead.\n",
      "\n",
      "WARNING:tensorflow:From /usr/local/lib/python3.6/dist-packages/keras/backend/tensorflow_backend.py:3733: calling dropout (from tensorflow.python.ops.nn_ops) with keep_prob is deprecated and will be removed in a future version.\n",
      "Instructions for updating:\n",
      "Please use `rate` instead of `keep_prob`. Rate should be set to `rate = 1 - keep_prob`.\n",
      "Train on 60000 samples, validate on 10000 samples\n",
      "Epoch 1/10\n",
      "60000/60000 [==============================] - 47s 787us/step - loss: 0.3532 - acc: 0.8912 - val_loss: 0.0775 - val_acc: 0.9744\n",
      "Epoch 2/10\n",
      "60000/60000 [==============================] - 47s 777us/step - loss: 0.1150 - acc: 0.9670 - val_loss: 0.0585 - val_acc: 0.9832\n",
      "Epoch 3/10\n",
      "60000/60000 [==============================] - 47s 777us/step - loss: 0.0817 - acc: 0.9767 - val_loss: 0.0496 - val_acc: 0.9838\n",
      "Epoch 4/10\n",
      "60000/60000 [==============================] - 47s 782us/step - loss: 0.0661 - acc: 0.9807 - val_loss: 0.0408 - val_acc: 0.9888\n",
      "Epoch 5/10\n",
      "60000/60000 [==============================] - 47s 779us/step - loss: 0.0541 - acc: 0.9840 - val_loss: 0.0411 - val_acc: 0.9871\n",
      "Epoch 6/10\n",
      "60000/60000 [==============================] - 47s 779us/step - loss: 0.0477 - acc: 0.9863 - val_loss: 0.0370 - val_acc: 0.9896\n",
      "Epoch 7/10\n",
      "60000/60000 [==============================] - 47s 780us/step - loss: 0.0431 - acc: 0.9875 - val_loss: 0.0345 - val_acc: 0.9897\n",
      "Epoch 8/10\n",
      "60000/60000 [==============================] - 47s 777us/step - loss: 0.0371 - acc: 0.9887 - val_loss: 0.0352 - val_acc: 0.9889\n",
      "Epoch 9/10\n",
      "60000/60000 [==============================] - 47s 784us/step - loss: 0.0335 - acc: 0.9900 - val_loss: 0.0362 - val_acc: 0.9904\n",
      "Epoch 10/10\n",
      "60000/60000 [==============================] - 47s 780us/step - loss: 0.0327 - acc: 0.9902 - val_loss: 0.0440 - val_acc: 0.9882\n"
     ]
    }
   ],
   "source": [
    "from keras.models import Sequential\n",
    "model_3layer = Sequential()\n",
    "model_3layer.add(keras.layers.Conv2D(filters=8,kernel_size=(5,5),strides=(1,1),padding='same',activation='relu',kernel_initializer='he_normal',\\\n",
    "                                     input_shape = (X_train.shape[1],X_train.shape[2],1)))\n",
    "model_3layer.add(keras.layers.BatchNormalization())\n",
    "model_3layer.add(keras.layers.MaxPool2D(pool_size=(2,2)))\n",
    "model_3layer.add(keras.layers.Conv2D(filters=16,kernel_size=(3,3),kernel_initializer='he_normal',activation='relu'))\n",
    "model_3layer.add(keras.layers.MaxPool2D(pool_size=(2,2)))\n",
    "model_3layer.add(keras.layers.Conv2D(filters=32,kernel_size=(2,2),kernel_initializer='he_normal',activation='relu'))\n",
    "model_3layer.add(keras.layers.BatchNormalization())\n",
    "model_3layer.add(keras.layers.Flatten())\n",
    "model_3layer.add(keras.layers.Dense(128, activation='relu',kernel_initializer='he_normal'))\n",
    "model_3layer.add(keras.layers.Dropout(0.4))\n",
    "model_3layer.add(keras.layers.Dense(64, activation='relu',kernel_initializer='he_normal'))\n",
    "model_3layer.add(keras.layers.Dropout(0.2))\n",
    "model_3layer.add(keras.layers.Dense(10,activation='softmax'))\n",
    "\n",
    "model_3layer.compile(optimizer='adam', loss='categorical_crossentropy', metrics=['accuracy'])\n",
    "history = model_3layer.fit(X_train, Y_train, batch_size=128, epochs=10, verbose=1, validation_data=(X_test, Y_test))"
   ]
  },
  {
   "cell_type": "code",
   "execution_count": 12,
   "metadata": {
    "colab": {
     "base_uri": "https://localhost:8080/",
     "height": 330
    },
    "colab_type": "code",
    "id": "_PHGwsARK4Cd",
    "outputId": "6cc8cdae-0bf6-4d0a-b153-3a6ce874ec13"
   },
   "outputs": [
    {
     "name": "stdout",
     "output_type": "stream",
     "text": [
      "Test score: 0.04403250717676419\n",
      "Test accuracy: 0.9882\n"
     ]
    },
    {
     "data": {
      "image/png": "[encoded data removed]",
      "text/plain": [
       "<Figure size 432x288 with 1 Axes>"
      ]
     },
     "metadata": {
      "tags": []
     },
     "output_type": "display_data"
    }
   ],
   "source": [
    "score = model_3layer.evaluate(X_test, Y_test, verbose=0) \n",
    "print('Test score:', score[0]) \n",
    "print('Test accuracy:', score[1])\n",
    "\n",
    "fig,axis = plt.subplots(1,1)\n",
    "axis.set_title(\"model with 3 conv layers and followed by dense layers\")\n",
    "axis.set_xlabel('epoch') ; axis.set_ylabel('Categorical Crossentropy Loss')\n",
    "plt_epoch_vs_loss(list(range(1,11)), history.history['val_loss'], history.history['loss'], axis)\n",
    "table.add_row([\"model_3convlayer\",score[1],\"kernel-5X5X8(padding-same, relu, he_normal),\\n BatchNormalization(),\\n maxpool-(2,2),\\n \\\n",
    "kernel-3X3X16(relu, he_normal),\\n maxpool-(2,2),\\n \\\n",
    "kernel-2X2X32(relu, he_normal),\\n BatchNormalization,\\n \\\n",
    "flatten,\\n  Dense-128,\\n Dropout-0.4,\\n Dense-64,\\n Dropout-0.2,\\n softmax-10\"])"
   ]
  },
  {
   "cell_type": "code",
   "execution_count": 13,
   "metadata": {
    "colab": {
     "base_uri": "https://localhost:8080/",
     "height": 436
    },
    "colab_type": "code",
    "id": "TBRKSGeg8jcq",
    "outputId": "734d825b-ef23-45c3-e0ea-ae087857dc28"
   },
   "outputs": [
    {
     "name": "stdout",
     "output_type": "stream",
     "text": [
      "WARNING:tensorflow:From /usr/local/lib/python3.6/dist-packages/keras/backend/tensorflow_backend.py:4271: The name tf.nn.avg_pool is deprecated. Please use tf.nn.avg_pool2d instead.\n",
      "\n",
      "Train on 60000 samples, validate on 10000 samples\n",
      "Epoch 1/10\n",
      "60000/60000 [==============================] - 83s 1ms/step - loss: 134.6556 - acc: 0.4565 - val_loss: 5.6330 - val_acc: 0.8404\n",
      "Epoch 2/10\n",
      "60000/60000 [==============================] - 84s 1ms/step - loss: 4.9399 - acc: 0.8881 - val_loss: 4.3817 - val_acc: 0.9405\n",
      "Epoch 3/10\n",
      "60000/60000 [==============================] - 83s 1ms/step - loss: 4.2612 - acc: 0.9411 - val_loss: 3.8829 - val_acc: 0.9693\n",
      "Epoch 4/10\n",
      "60000/60000 [==============================] - 84s 1ms/step - loss: 3.9666 - acc: 0.9543 - val_loss: 3.7690 - val_acc: 0.9718\n",
      "Epoch 5/10\n",
      "60000/60000 [==============================] - 84s 1ms/step - loss: 3.8215 - acc: 0.9603 - val_loss: 3.7516 - val_acc: 0.9740\n",
      "Epoch 6/10\n",
      "60000/60000 [==============================] - 83s 1ms/step - loss: 3.6997 - acc: 0.9634 - val_loss: 3.5454 - val_acc: 0.9766\n",
      "Epoch 7/10\n",
      "60000/60000 [==============================] - 84s 1ms/step - loss: 3.6314 - acc: 0.9672 - val_loss: 3.5636 - val_acc: 0.9750\n",
      "Epoch 8/10\n",
      "60000/60000 [==============================] - 84s 1ms/step - loss: 3.5757 - acc: 0.9695 - val_loss: 3.5178 - val_acc: 0.9774\n",
      "Epoch 9/10\n",
      "60000/60000 [==============================] - 83s 1ms/step - loss: 3.5193 - acc: 0.9710 - val_loss: 3.4463 - val_acc: 0.9746\n",
      "Epoch 10/10\n",
      "60000/60000 [==============================] - 82s 1ms/step - loss: 3.4763 - acc: 0.9733 - val_loss: 3.3998 - val_acc: 0.9812\n"
     ]
    }
   ],
   "source": [
    "model_3layer = Sequential()\n",
    "model_3layer.add(keras.layers.Conv2D(filters=32,kernel_size=(7,7),strides=(1,1),padding='same',activation='relu',kernel_initializer='he_normal',\\\n",
    "                                     input_shape = (X_train.shape[1],X_train.shape[2],1)))\n",
    "model_3layer.add(keras.layers.AvgPool2D(pool_size=(2,2)))\n",
    "model_3layer.add(keras.layers.Conv2D(filters=8,kernel_size=(5,5),kernel_initializer='he_normal',activation='relu',kernel_regularizer=keras.regularizers.l2(0.001)))\n",
    "model_3layer.add(keras.layers.AvgPool2D(pool_size=(2,2)))\n",
    "model_3layer.add(keras.layers.Conv2D(filters=64,kernel_size=(3,3),kernel_initializer='he_normal',activation='relu',kernel_regularizer=keras.regularizers.l2(0.0001)))\n",
    "model_3layer.add(keras.layers.Flatten())\n",
    "model_3layer.add(keras.layers.Dense(512, activation='relu',kernel_initializer='he_normal',kernel_regularizer=keras.regularizers.l1(0.1)))\n",
    "model_3layer.add(keras.layers.Dense(32, activation='relu',kernel_initializer='he_normal'))\n",
    "model_3layer.add(keras.layers.Dropout(0.2))\n",
    "model_3layer.add(keras.layers.Dense(10,activation='softmax'))\n",
    "\n",
    "model_3layer.compile(optimizer='adam', loss='categorical_crossentropy', metrics=['accuracy'])\n",
    "history = model_3layer.fit(X_train, Y_train, batch_size=128, epochs=10, verbose=1, validation_data=(X_test, Y_test))"
   ]
  },
  {
   "cell_type": "code",
   "execution_count": 20,
   "metadata": {
    "colab": {
     "base_uri": "https://localhost:8080/",
     "height": 330
    },
    "colab_type": "code",
    "id": "UB3xaJ39K9OX",
    "outputId": "5ec80423-4d0c-418f-b9e9-4542f2b9c39a"
   },
   "outputs": [
    {
     "name": "stdout",
     "output_type": "stream",
     "text": [
      "Test score: 3.3998314212799072\n",
      "Test accuracy: 0.9812\n"
     ]
    },
    {
     "data": {
      "image/png": "[encoded data removed]",
      "text/plain": [
       "<Figure size 432x288 with 1 Axes>"
      ]
     },
     "metadata": {
      "tags": []
     },
     "output_type": "display_data"
    }
   ],
   "source": [
    "score = model_3layer.evaluate(X_test, Y_test, verbose=0) \n",
    "print('Test score:', score[0]) \n",
    "print('Test accuracy:', score[1])\n",
    "\n",
    "fig,axis = plt.subplots(1,1)\n",
    "axis.set_title(\"model with 3 conv layers and followed by dense layers\")\n",
    "axis.set_xlabel('epoch') ; axis.set_ylabel('log of Categorical Crossentropy Loss')\n",
    "plt_epoch_vs_loss(list(range(1,11)), np.log(history.history['val_loss']), np.log(history.history['loss']), axis)\n",
    "table.add_row([\"model_3convlayer\",score[1],\"kernel-7X7X32(padding-same, relu, he_normal),\\n AvgPool-(2,2),\\n \\\n",
    "kernel-5X5X8(relu, he_normal, L2_regularizer(0.001)),\\n AvgPool-(2,2),\\n \\\n",
    "kernel-3X3X64(relu, he_normal, L2_regularizer(0.0001)),\\n \\\n",
    "flatten,\\n  Dense-512(relu, he_normal, L1_regularizer(0.1)),\\n Dense-32(relu, he_normal),\\n Dropout-0.2,\\n softmax-10\"])"
   ]
  },
  {
   "cell_type": "code",
   "execution_count": 21,
   "metadata": {
    "colab": {
     "base_uri": "https://localhost:8080/",
     "height": 436
    },
    "colab_type": "code",
    "id": "Utu9F2W68lGm",
    "outputId": "5ffebf91-423b-4b48-d85c-b1794eabf68e"
   },
   "outputs": [
    {
     "name": "stdout",
     "output_type": "stream",
     "text": [
      "WARNING:tensorflow:From /usr/local/lib/python3.6/dist-packages/keras/backend/tensorflow_backend.py:4409: The name tf.random_normal is deprecated. Please use tf.random.normal instead.\n",
      "\n",
      "Train on 60000 samples, validate on 10000 samples\n",
      "Epoch 1/10\n",
      "60000/60000 [==============================] - 88s 1ms/step - loss: 0.3387 - acc: 0.9091 - val_loss: 0.0608 - val_acc: 0.9806\n",
      "Epoch 2/10\n",
      "60000/60000 [==============================] - 89s 1ms/step - loss: 0.0644 - acc: 0.9824 - val_loss: 0.1014 - val_acc: 0.9706\n",
      "Epoch 3/10\n",
      "60000/60000 [==============================] - 90s 1ms/step - loss: 0.0494 - acc: 0.9859 - val_loss: 0.0507 - val_acc: 0.9841\n",
      "Epoch 4/10\n",
      "60000/60000 [==============================] - 88s 1ms/step - loss: 0.0388 - acc: 0.9881 - val_loss: 0.0381 - val_acc: 0.9879\n",
      "Epoch 5/10\n",
      "60000/60000 [==============================] - 89s 1ms/step - loss: 0.0355 - acc: 0.9898 - val_loss: 0.0514 - val_acc: 0.9838\n",
      "Epoch 6/10\n",
      "60000/60000 [==============================] - 89s 1ms/step - loss: 0.0299 - acc: 0.9912 - val_loss: 0.0337 - val_acc: 0.9898\n",
      "Epoch 7/10\n",
      "60000/60000 [==============================] - 88s 1ms/step - loss: 0.0274 - acc: 0.9913 - val_loss: 0.0435 - val_acc: 0.9859\n",
      "Epoch 8/10\n",
      "60000/60000 [==============================] - 90s 1ms/step - loss: 0.0251 - acc: 0.9921 - val_loss: 0.0542 - val_acc: 0.9865\n",
      "Epoch 9/10\n",
      "60000/60000 [==============================] - 88s 1ms/step - loss: 0.0207 - acc: 0.9938 - val_loss: 0.0820 - val_acc: 0.9781\n",
      "Epoch 10/10\n",
      "60000/60000 [==============================] - 87s 1ms/step - loss: 0.0205 - acc: 0.9936 - val_loss: 0.0345 - val_acc: 0.9891\n"
     ]
    }
   ],
   "source": [
    "from keras.models import Sequential\n",
    "model_5layer = Sequential()\n",
    "model_5layer.add(keras.layers.Conv2D(filters=8,kernel_size=(7,7),strides=(1,1),padding='same',activation='relu',kernel_initializer='he_normal',\\\n",
    "                                     input_shape = (X_train.shape[1],X_train.shape[2],1)))\n",
    "model_5layer.add(keras.layers.BatchNormalization())\n",
    "model_5layer.add(keras.layers.Conv2D(filters=16,kernel_size=(5,5), strides=(2,2), padding='same', activation='relu', kernel_initializer='he_normal'))\n",
    "model_5layer.add(keras.layers.Conv2D(filters=32,kernel_size=(3,3), kernel_initializer='he_normal', activation='relu'))\n",
    "model_5layer.add(keras.layers.AvgPool2D(pool_size=(2,2)))\n",
    "model_5layer.add(keras.layers.Conv2D(filters=64,kernel_size=(1,1), kernel_initializer='he_normal', activation='relu'))\n",
    "model_5layer.add(keras.layers.MaxPool2D(pool_size=(2,2)))\n",
    "model_5layer.add(keras.layers.Conv2D(filters=128,kernel_size=(3,3),kernel_initializer='he_normal',activation='relu'))\n",
    "model_5layer.add(keras.layers.BatchNormalization())\n",
    "model_5layer.add(keras.layers.Flatten())\n",
    "model_5layer.add(keras.layers.Dense(128, activation='sigmoid',kernel_initializer=keras.initializers.RandomNormal()))\n",
    "model_5layer.add(keras.layers.Dropout(0.5))\n",
    "model_5layer.add(keras.layers.Dense(64, activation='tanh',kernel_initializer='glorot_normal'))\n",
    "model_5layer.add(keras.layers.Dense(10,activation='softmax'))\n",
    "\n",
    "model_5layer.compile(optimizer='adam', loss='categorical_crossentropy', metrics=['accuracy'])\n",
    "history = model_5layer.fit(X_train, Y_train, batch_size=128, epochs=10, verbose=1, validation_data=(X_test, Y_test))"
   ]
  },
  {
   "cell_type": "code",
   "execution_count": 22,
   "metadata": {
    "colab": {
     "base_uri": "https://localhost:8080/",
     "height": 330
    },
    "colab_type": "code",
    "id": "Xa_rDtYP81XE",
    "outputId": "0a9a9542-598d-4154-e97f-c711e4a7b227"
   },
   "outputs": [
    {
     "name": "stdout",
     "output_type": "stream",
     "text": [
      "Test score: 0.03454381320771354\n",
      "Test accuracy: 0.9891\n"
     ]
    },
    {
     "data": {
      "image/png": "[encoded data removed]",
      "text/plain": [
       "<Figure size 432x288 with 1 Axes>"
      ]
     },
     "metadata": {
      "tags": []
     },
     "output_type": "display_data"
    }
   ],
   "source": [
    "score = model_5layer.evaluate(X_test, Y_test, verbose=0) \n",
    "print('Test score:', score[0]) \n",
    "print('Test accuracy:', score[1])\n",
    "\n",
    "fig,axis = plt.subplots(1,1)\n",
    "axis.set_title(\"model with 5 conv layers and followed by dense layers\")\n",
    "axis.set_xlabel('epoch') ; axis.set_ylabel('Categorical Crossentropy Loss')\n",
    "plt_epoch_vs_loss(list(range(1,11)), history.history['val_loss'], history.history['loss'], axis)\n",
    "table.add_row([\"model_5convlayer\",score[1],\"kernel-7X7X8(padding-same, relu, he_normal),\\n BatchNormalization(),\\n \\\n",
    "kernel-5X5X16(stride=(2,2), padding-same, relu, he_normal),\\n \\\n",
    "kernel-3X3X32(relu, he_normal),\\n AvgPool-(2,2),\\n \\\n",
    "kernel-1X1X64(relu, he_normal),\\n MaxPool-(2,2),\\n \\\n",
    "kernel-3X3X128(relu, he_normal),\\n BatchNormalization(),\\n \\\n",
    "flatten,\\n  Dense-128(sigmoid, random_normal),\\n Dropout-0.5,\\n Dense-64(tanh, glorot_normal),\\n softmax-10\"])"
   ]
  },
  {
   "cell_type": "code",
   "execution_count": 23,
   "metadata": {
    "colab": {
     "base_uri": "https://localhost:8080/",
     "height": 436
    },
    "colab_type": "code",
    "id": "uNWiFCKySjdQ",
    "outputId": "98e5ef3f-b802-4489-c954-bf24148c588c"
   },
   "outputs": [
    {
     "name": "stderr",
     "output_type": "stream",
     "text": [
      "/usr/local/lib/python3.6/dist-packages/keras/activations.py:235: UserWarning: Do not pass a layer instance (such as LeakyReLU) as the activation argument of another layer. Instead, advanced activation layers should be used just like any other layer in a model.\n",
      "  identifier=identifier.__class__.__name__))\n"
     ]
    },
    {
     "name": "stdout",
     "output_type": "stream",
     "text": [
      "Train on 60000 samples, validate on 10000 samples\n",
      "Epoch 1/10\n",
      "60000/60000 [==============================] - 37s 612us/step - loss: 110.9730 - acc: 0.9134 - val_loss: 1.5035 - val_acc: 0.9580\n",
      "Epoch 2/10\n",
      "60000/60000 [==============================] - 35s 584us/step - loss: 1.3051 - acc: 0.9633 - val_loss: 1.1942 - val_acc: 0.9679\n",
      "Epoch 3/10\n",
      "60000/60000 [==============================] - 36s 593us/step - loss: 1.1374 - acc: 0.9708 - val_loss: 1.0935 - val_acc: 0.9696\n",
      "Epoch 4/10\n",
      "60000/60000 [==============================] - 36s 596us/step - loss: 1.0653 - acc: 0.9754 - val_loss: 1.0569 - val_acc: 0.9733\n",
      "Epoch 5/10\n",
      "60000/60000 [==============================] - 36s 598us/step - loss: 1.0273 - acc: 0.9788 - val_loss: 1.0323 - val_acc: 0.9721\n",
      "Epoch 6/10\n",
      "60000/60000 [==============================] - 36s 594us/step - loss: 0.9978 - acc: 0.9802 - val_loss: 0.9983 - val_acc: 0.9766\n",
      "Epoch 7/10\n",
      "60000/60000 [==============================] - 35s 581us/step - loss: 0.9895 - acc: 0.9800 - val_loss: 0.9678 - val_acc: 0.9794\n",
      "Epoch 8/10\n",
      "60000/60000 [==============================] - 35s 589us/step - loss: 0.9754 - acc: 0.9810 - val_loss: 0.9686 - val_acc: 0.9777\n",
      "Epoch 9/10\n",
      "60000/60000 [==============================] - 36s 597us/step - loss: 0.9571 - acc: 0.9835 - val_loss: 0.9660 - val_acc: 0.9775\n",
      "Epoch 10/10\n",
      "60000/60000 [==============================] - 36s 592us/step - loss: 0.9478 - acc: 0.9842 - val_loss: 0.9983 - val_acc: 0.9735\n"
     ]
    }
   ],
   "source": [
    "model_5layer = Sequential()\n",
    "model_5layer.add(keras.layers.Conv2D(filters=8,kernel_size=(11,11),strides=(2,2),padding='same',activation='sigmoid',kernel_initializer='glorot_normal',\\\n",
    "                                     input_shape = (X_train.shape[1],X_train.shape[2],1)))\n",
    "model_5layer.add(keras.layers.BatchNormalization())\n",
    "model_5layer.add(keras.layers.Conv2D(filters=16,kernel_size=(7,7), strides=(3,3), padding='same', activation='tanh', kernel_initializer='glorot_normal'))\n",
    "model_5layer.add(keras.layers.BatchNormalization())\n",
    "model_5layer.add(keras.layers.Conv2D(filters=32,kernel_size=(5,5), kernel_initializer='glorot_normal', activation='sigmoid'))\n",
    "model_5layer.add(keras.layers.BatchNormalization())\n",
    "model_5layer.add(keras.layers.Conv2D(filters=64,kernel_size=(1,1), kernel_initializer='glorot_normal', activation='sigmoid'))\n",
    "model_5layer.add(keras.layers.BatchNormalization())\n",
    "model_5layer.add(keras.layers.Conv2D(filters=128,kernel_size=(1,1),kernel_initializer='glorot_normal',activation='sigmoid'))\n",
    "model_5layer.add(keras.layers.BatchNormalization())\n",
    "model_5layer.add(keras.layers.Flatten())\n",
    "model_5layer.add(keras.layers.Dense(512, activation=keras.layers.LeakyReLU(alpha=0.3),kernel_initializer='he_normal',kernel_regularizer=keras.regularizers.l1(0.1)))\n",
    "model_5layer.add(keras.layers.Dense(32, activation='relu',kernel_initializer='he_normal'))\n",
    "model_5layer.add(keras.layers.Dense(10,activation='softmax'))\n",
    "\n",
    "model_5layer.compile(optimizer='adam', loss='categorical_crossentropy', metrics=['accuracy'])\n",
    "history = model_5layer.fit(X_train, Y_train, batch_size=128, epochs=10, verbose=1, validation_data=(X_test, Y_test))"
   ]
  },
  {
   "cell_type": "code",
   "execution_count": 24,
   "metadata": {
    "colab": {
     "base_uri": "https://localhost:8080/",
     "height": 330
    },
    "colab_type": "code",
    "id": "314bKTLNUMrf",
    "outputId": "6dedfcb6-117a-4743-dab4-12db776b65f3"
   },
   "outputs": [
    {
     "name": "stdout",
     "output_type": "stream",
     "text": [
      "Test score: 0.9983397294044495\n",
      "Test accuracy: 0.9735\n"
     ]
    },
    {
     "data": {
      "image/png": "[encoded data removed]",
      "text/plain": [
       "<Figure size 432x288 with 1 Axes>"
      ]
     },
     "metadata": {
      "tags": []
     },
     "output_type": "display_data"
    }
   ],
   "source": [
    "score = model_5layer.evaluate(X_test, Y_test, verbose=0) \n",
    "print('Test score:', score[0]) \n",
    "print('Test accuracy:', score[1])\n",
    "\n",
    "fig,axis = plt.subplots(1,1)\n",
    "axis.set_title(\"model with 5 conv layers and followed by dense layers\")\n",
    "axis.set_xlabel('epoch') ; axis.set_ylabel('log of Categorical Crossentropy Loss')\n",
    "plt_epoch_vs_loss(list(range(1,11)), np.log(history.history['val_loss']), np.log(history.history['loss']), axis)\n",
    "table.add_row([\"model_5convlayer\",score[1],\"kernel-11X11X8(strides-(2,2), padding-same, sigmoid, glorot_normal),\\n BatchNormalization(),\\n \\\n",
    "kernel-7X7X16(stride=(3,3), padding-same, tanh, glorot_normal),\\n BatchNormalization(),\\n \\\n",
    "kernel-5X5X32(sigmoid, glorot_normal),\\n BatchNormalization(),\\n \\\n",
    "kernel-1X1X64(sigmoid, glorot_normal),\\n BatchNormalization(),\\n \\\n",
    "kernel-1X1X128(sigmoid, glorot_normal),\\n BatchNormalization(),\\n \\\n",
    "flatten,\\n  Dense-512(LeakyRelu(alpha=0.3), he_normal, L1_regularizer(0.1)),\\n Dense-32(relu, he_normal),\\n softmax-10\"])"
   ]
  },
  {
   "cell_type": "code",
   "execution_count": 25,
   "metadata": {
    "colab": {
     "base_uri": "https://localhost:8080/",
     "height": 436
    },
    "colab_type": "code",
    "id": "I8k-Njl2erRM",
    "outputId": "817a515d-4654-4b5c-e5c2-a295c40c7dd3"
   },
   "outputs": [
    {
     "name": "stderr",
     "output_type": "stream",
     "text": [
      "/usr/local/lib/python3.6/dist-packages/keras/activations.py:235: UserWarning: Do not pass a layer instance (such as LeakyReLU) as the activation argument of another layer. Instead, advanced activation layers should be used just like any other layer in a model.\n",
      "  identifier=identifier.__class__.__name__))\n"
     ]
    },
    {
     "name": "stdout",
     "output_type": "stream",
     "text": [
      "Train on 60000 samples, validate on 10000 samples\n",
      "Epoch 1/10\n",
      "60000/60000 [==============================] - 39s 658us/step - loss: 114.3326 - acc: 0.8124 - val_loss: 2.5967 - val_acc: 0.9369\n",
      "Epoch 2/10\n",
      "60000/60000 [==============================] - 37s 618us/step - loss: 2.5513 - acc: 0.9288 - val_loss: 2.4331 - val_acc: 0.9416\n",
      "Epoch 3/10\n",
      "60000/60000 [==============================] - 37s 613us/step - loss: 2.3752 - acc: 0.9521 - val_loss: 2.3065 - val_acc: 0.9691\n",
      "Epoch 4/10\n",
      "60000/60000 [==============================] - 37s 613us/step - loss: 2.3214 - acc: 0.9614 - val_loss: 2.4855 - val_acc: 0.9742\n",
      "Epoch 5/10\n",
      "60000/60000 [==============================] - 36s 606us/step - loss: 2.2267 - acc: 0.9671 - val_loss: 2.2931 - val_acc: 0.9718\n",
      "Epoch 6/10\n",
      "60000/60000 [==============================] - 36s 607us/step - loss: 2.1223 - acc: 0.9729 - val_loss: 2.0710 - val_acc: 0.9813\n",
      "Epoch 7/10\n",
      "60000/60000 [==============================] - 37s 622us/step - loss: 2.0574 - acc: 0.9772 - val_loss: 2.2790 - val_acc: 0.8893\n",
      "Epoch 8/10\n",
      "60000/60000 [==============================] - 37s 624us/step - loss: 2.0629 - acc: 0.9787 - val_loss: 1.9981 - val_acc: 0.9771\n",
      "Epoch 9/10\n",
      "60000/60000 [==============================] - 37s 621us/step - loss: 2.0145 - acc: 0.9806 - val_loss: 2.1026 - val_acc: 0.9682\n",
      "Epoch 10/10\n",
      "60000/60000 [==============================] - 38s 631us/step - loss: 2.0093 - acc: 0.9819 - val_loss: 2.0750 - val_acc: 0.9734\n"
     ]
    }
   ],
   "source": [
    "model_7layer = Sequential()\n",
    "model_7layer.add(keras.layers.Conv2D(filters=4,kernel_size=(7,7),strides=(2,2),padding='same',activation='relu',kernel_initializer='he_normal',\\\n",
    "                                     input_shape = (X_train.shape[1],X_train.shape[2],1)))\n",
    "model_7layer.add(keras.layers.BatchNormalization())\n",
    "model_7layer.add(keras.layers.MaxPool2D(pool_size=(2,2)))\n",
    "model_7layer.add(keras.layers.Conv2D(filters=8,kernel_size=(5,5),padding='same',activation='relu',kernel_initializer='he_normal'))\n",
    "model_7layer.add(keras.layers.BatchNormalization())\n",
    "model_7layer.add(keras.layers.Conv2D(filters=16,kernel_size=(5,5),padding='same',kernel_initializer='he_normal',activation='relu'))\n",
    "model_7layer.add(keras.layers.AvgPool2D(pool_size=(2,2)))\n",
    "model_7layer.add(keras.layers.Conv2D(filters=32,kernel_size=(3,3),padding='same', activation='relu', kernel_initializer='he_normal'))\n",
    "model_7layer.add(keras.layers.BatchNormalization())\n",
    "model_7layer.add(keras.layers.Conv2D(filters=64,kernel_size=(3,3),padding='same',kernel_initializer='he_normal', activation='relu'))\n",
    "model_7layer.add(keras.layers.MaxPool2D(pool_size=(2,2)))\n",
    "model_7layer.add(keras.layers.Conv2D(filters=128,kernel_size=(1,1),padding='same',kernel_initializer='glorot_normal', activation='sigmoid'))\n",
    "model_7layer.add(keras.layers.BatchNormalization())\n",
    "model_7layer.add(keras.layers.Conv2D(filters=256,kernel_size=(1,1),padding='same',kernel_initializer='glorot_normal',activation='sigmoid'))\n",
    "model_7layer.add(keras.layers.BatchNormalization())\n",
    "model_7layer.add(keras.layers.Flatten())\n",
    "model_7layer.add(keras.layers.Dense(512, activation=keras.layers.LeakyReLU(alpha=0.3),kernel_initializer='he_normal',kernel_regularizer=keras.regularizers.l1(0.1)))\n",
    "model_7layer.add(keras.layers.Dropout(0.5))\n",
    "model_7layer.add(keras.layers.Dense(128, activation='tanh',kernel_initializer='glorot_normal'))\n",
    "model_7layer.add(keras.layers.Dropout(0.5))\n",
    "model_7layer.add(keras.layers.Dense(10,activation='softmax'))\n",
    "\n",
    "model_7layer.compile(optimizer='adam', loss='categorical_crossentropy', metrics=['accuracy'])\n",
    "history = model_7layer.fit(X_train, Y_train, batch_size=128, epochs=10, verbose=1, validation_data=(X_test, Y_test))"
   ]
  },
  {
   "cell_type": "code",
   "execution_count": 26,
   "metadata": {
    "colab": {
     "base_uri": "https://localhost:8080/",
     "height": 330
    },
    "colab_type": "code",
    "id": "bY5VCzzQhQva",
    "outputId": "e8f2c8a4-db47-4dc4-ec65-310f530edefa"
   },
   "outputs": [
    {
     "name": "stdout",
     "output_type": "stream",
     "text": [
      "Test score: 2.0750079093933107\n",
      "Test accuracy: 0.9734\n"
     ]
    },
    {
     "data": {
      "image/png": "[encoded data removed]",
      "text/plain": [
       "<Figure size 432x288 with 1 Axes>"
      ]
     },
     "metadata": {
      "tags": []
     },
     "output_type": "display_data"
    }
   ],
   "source": [
    "score = model_7layer.evaluate(X_test, Y_test, verbose=0) \n",
    "print('Test score:', score[0]) \n",
    "print('Test accuracy:', score[1])\n",
    "\n",
    "fig,axis = plt.subplots(1,1)\n",
    "axis.set_title(\"model with 7 conv layers and followed by dense layers\")\n",
    "axis.set_xlabel('epoch') ; axis.set_ylabel('log of Categorical Crossentropy Loss')\n",
    "plt_epoch_vs_loss(list(range(1,11)), np.log(history.history['val_loss']), np.log(history.history['loss']), axis)\n",
    "table.add_row([\"model_7convlayer\",score[1],\"kernel-7X7X4(strides-(2,2), padding-same, relu, he_normal),\\n BatchNormalization(),\\n MaxPool-(2,2)\\\n",
    "kernel-5X5X8(padding-same, relu, he_normal),\\n BatchNormalization(),\\n \\\n",
    "kernel-5X5X16(padding-same, relu, he_normal),\\n AvgPool-(2,2),\\n \\\n",
    "kernel-3X3X32(padding-same, relu, he_normal),\\n BatchNormalization(),\\n \\\n",
    "kernel-3X3X64(padding-same, relu, he_normal),\\n MaxPool-(2,2),\\n \\\n",
    "kernel-1X1X128(padding-same, sigmoid, glorot_normal),\\n BatchNormalization(),\\n \\\n",
    "kernel-1X1X256(padding-same, sigmoid, glorot_normal),\\n BatchNormalization(),\\n \\\n",
    "flatten,\\n  Dense-512(LeakyRelu(alpha=0.3), he_normal, L1_regularizer(0.1)),\\n Dropout-0.5,\\n Dense-128(tanh, glorot_normal),\\n Dropout-0.5,\\n softmax-10\"])"
   ]
  },
  {
   "cell_type": "code",
   "execution_count": 27,
   "metadata": {
    "colab": {
     "base_uri": "https://localhost:8080/",
     "height": 382
    },
    "colab_type": "code",
    "id": "_Egtb42Qlqzc",
    "outputId": "e0940e52-e486-452a-c85f-dbe7aef06fbe"
   },
   "outputs": [
    {
     "name": "stdout",
     "output_type": "stream",
     "text": [
      "Train on 60000 samples, validate on 10000 samples\n",
      "Epoch 1/10\n",
      "60000/60000 [==============================] - 77s 1ms/step - loss: 0.2631 - acc: 0.9191 - val_loss: 0.1737 - val_acc: 0.9451\n",
      "Epoch 2/10\n",
      "60000/60000 [==============================] - 75s 1ms/step - loss: 0.0926 - acc: 0.9711 - val_loss: 0.0653 - val_acc: 0.9787\n",
      "Epoch 3/10\n",
      "60000/60000 [==============================] - 75s 1ms/step - loss: 0.0660 - acc: 0.9798 - val_loss: 0.0878 - val_acc: 0.9715\n",
      "Epoch 4/10\n",
      "60000/60000 [==============================] - 75s 1ms/step - loss: 0.0540 - acc: 0.9835 - val_loss: 0.1774 - val_acc: 0.9446\n",
      "Epoch 5/10\n",
      "60000/60000 [==============================] - 74s 1ms/step - loss: 0.0441 - acc: 0.9861 - val_loss: 0.0494 - val_acc: 0.9845\n",
      "Epoch 6/10\n",
      "60000/60000 [==============================] - 74s 1ms/step - loss: 0.0380 - acc: 0.9878 - val_loss: 0.0898 - val_acc: 0.9733\n",
      "Epoch 7/10\n",
      "60000/60000 [==============================] - 75s 1ms/step - loss: 0.0326 - acc: 0.9899 - val_loss: 0.0492 - val_acc: 0.9851\n",
      "Epoch 8/10\n",
      "60000/60000 [==============================] - 75s 1ms/step - loss: 0.0302 - acc: 0.9904 - val_loss: 0.0817 - val_acc: 0.9751\n",
      "Epoch 9/10\n",
      "60000/60000 [==============================] - 76s 1ms/step - loss: 0.0262 - acc: 0.9914 - val_loss: 0.0863 - val_acc: 0.9725\n",
      "Epoch 10/10\n",
      "60000/60000 [==============================] - 75s 1ms/step - loss: 0.0243 - acc: 0.9923 - val_loss: 0.0474 - val_acc: 0.9853\n"
     ]
    }
   ],
   "source": [
    "model_7layer = Sequential()\n",
    "model_7layer.add(keras.layers.Conv2D(filters=4,kernel_size=(7,7),activation='relu',kernel_initializer='he_normal',\\\n",
    "                                     input_shape = (X_train.shape[1],X_train.shape[2],1)))\n",
    "model_7layer.add(keras.layers.BatchNormalization())\n",
    "model_7layer.add(keras.layers.MaxPool2D(pool_size=(2,2)))\n",
    "model_7layer.add(keras.layers.Conv2D(filters=8,kernel_size=(5,5),padding='same',activation='relu',kernel_initializer='he_normal'))\n",
    "model_7layer.add(keras.layers.Conv2D(filters=16,kernel_size=(5,5),padding='same',kernel_initializer='he_normal',activation='relu'))\n",
    "model_7layer.add(keras.layers.MaxPool2D(pool_size=(2,2)))\n",
    "model_7layer.add(keras.layers.Conv2D(filters=32,kernel_size=(3,3),padding='same', activation='relu', kernel_initializer='he_normal'))\n",
    "model_7layer.add(keras.layers.Conv2D(filters=64,kernel_size=(3,3),padding='same',kernel_initializer='he_normal', activation='relu'))\n",
    "model_7layer.add(keras.layers.MaxPool2D(pool_size=(2,2)))\n",
    "model_7layer.add(keras.layers.Conv2D(filters=128,kernel_size=(1,1),padding='same',kernel_initializer='he_normal', activation='relu'))\n",
    "model_7layer.add(keras.layers.Conv2D(filters=256,kernel_size=(1,1),padding='same',kernel_initializer='he_normal',activation='relu'))\n",
    "model_7layer.add(keras.layers.Flatten())\n",
    "model_7layer.add(keras.layers.Dense(512, activation='relu',kernel_initializer='he_normal'))\n",
    "model_7layer.add(keras.layers.BatchNormalization())\n",
    "model_7layer.add(keras.layers.Dropout(0.4))\n",
    "model_7layer.add(keras.layers.Dense(128, activation='relu',kernel_initializer='he_normal'))\n",
    "model_7layer.add(keras.layers.BatchNormalization())\n",
    "model_7layer.add(keras.layers.Dropout(0.2))\n",
    "model_7layer.add(keras.layers.Dense(10,activation='softmax'))\n",
    "\n",
    "model_7layer.compile(optimizer='adam', loss='categorical_crossentropy', metrics=['accuracy'])\n",
    "history = model_7layer.fit(X_train, Y_train, batch_size=128, epochs=10, verbose=1, validation_data=(X_test, Y_test))"
   ]
  },
  {
   "cell_type": "code",
   "execution_count": 28,
   "metadata": {
    "colab": {
     "base_uri": "https://localhost:8080/",
     "height": 330
    },
    "colab_type": "code",
    "id": "F2NhDgpxmSSJ",
    "outputId": "fd7a656d-b3a0-48d3-ce48-fb32064bc8d4"
   },
   "outputs": [
    {
     "name": "stdout",
     "output_type": "stream",
     "text": [
      "Test score: 0.04743871111291737\n",
      "Test accuracy: 0.9853\n"
     ]
    },
    {
     "data": {
      "image/png": "[encoded data removed]",
      "text/plain": [
       "<Figure size 432x288 with 1 Axes>"
      ]
     },
     "metadata": {
      "tags": []
     },
     "output_type": "display_data"
    }
   ],
   "source": [
    "score = model_7layer.evaluate(X_test, Y_test, verbose=0) \n",
    "print('Test score:', score[0]) \n",
    "print('Test accuracy:', score[1])\n",
    "\n",
    "fig,axis = plt.subplots(1,1)\n",
    "axis.set_title(\"model with 7 conv layers and followed by dense layers\")\n",
    "axis.set_xlabel('epoch') ; axis.set_ylabel('Categorical Crossentropy Loss')\n",
    "plt_epoch_vs_loss(list(range(1,11)), history.history['val_loss'], history.history['loss'], axis)\n",
    "table.add_row([\"model_7convlayer\",score[1],\"kernel-7X7X4(relu, he_normal),\\n BatchNormalization(),\\n MaxPool-(2,2)\\\n",
    "kernel-5X5X8(padding-same, relu, he_normal),\\n \\\n",
    "kernel-5X5X16(padding-same, relu, he_normal),\\n MaxPool-(2,2),\\n \\\n",
    "kernel-3X3X32(padding-same, relu, he_normal),\\n \\\n",
    "kernel-3X3X64(padding-same, relu, he_normal),\\n MaxPool-(2,2),\\n \\\n",
    "kernel-1X1X128(padding-same, relu, he_normal),\\n \\\n",
    "kernel-1X1X256(padding-same, relu, he_normal),\\n \\\n",
    "flatten,\\n  Dense-512(relu, he_normal),\\n BatchNormalization(),\\n Dropout-0.4,\\n Dense-128(relu, he_normal),\\n BatchNormalization(),\\n Dropout-0.2,\\n softmax-10\"])"
   ]
  },
  {
   "cell_type": "code",
   "execution_count": 29,
   "metadata": {
    "colab": {
     "base_uri": "https://localhost:8080/",
     "height": 1000
    },
    "colab_type": "code",
    "id": "SrrdP4ChpLDb",
    "outputId": "6becc2a7-9397-4067-c14d-885afc60eb54"
   },
   "outputs": [
    {
     "name": "stdout",
     "output_type": "stream",
     "text": [
      "+------------------+---------------+----------------------------------------------------------------------+\n",
      "|    model_name    | Test Accuracy |                             Description                              |\n",
      "+------------------+---------------+----------------------------------------------------------------------+\n",
      "| model_3convlayer |     0.9567    |                    kernel-5X5X3(relu, he_normal),                    |\n",
      "|                  |               |                            maxpool-(2,2),                            |\n",
      "|                  |               |                    kernel-3X3X3(relu, he_normal),                    |\n",
      "|                  |               |                            maxpool-(2,2),                            |\n",
      "|                  |               |                    kernel-2X2X3(relu, he_normal),                    |\n",
      "|                  |               |                               flatten,                               |\n",
      "|                  |               |                      Dense-128(relu, he_normal),                     |\n",
      "|                  |               |                              softmax-10                              |\n",
      "| model_3convlayer |     0.9882    |             kernel-5X5X8(padding-same, relu, he_normal),             |\n",
      "|                  |               |                         BatchNormalization(),                        |\n",
      "|                  |               |                            maxpool-(2,2),                            |\n",
      "|                  |               |                    kernel-3X3X16(relu, he_normal),                   |\n",
      "|                  |               |                            maxpool-(2,2),                            |\n",
      "|                  |               |                    kernel-2X2X32(relu, he_normal),                   |\n",
      "|                  |               |                          BatchNormalization,                         |\n",
      "|                  |               |                               flatten,                               |\n",
      "|                  |               |                               Dense-128,                             |\n",
      "|                  |               |                             Dropout-0.4,                             |\n",
      "|                  |               |                               Dense-64,                              |\n",
      "|                  |               |                             Dropout-0.2,                             |\n",
      "|                  |               |                              softmax-10                              |\n",
      "| model_3convlayer |     0.9812    |            kernel-7X7X32(padding-same, relu, he_normal),             |\n",
      "|                  |               |                            AvgPool-(2,2),                            |\n",
      "|                  |               |         kernel-5X5X8(relu, he_normal, L2_regularizer(0.001)),        |\n",
      "|                  |               |                            AvgPool-(2,2),                            |\n",
      "|                  |               |        kernel-3X3X64(relu, he_normal, L2_regularizer(0.0001)),       |\n",
      "|                  |               |                               flatten,                               |\n",
      "|                  |               |            Dense-512(relu, he_normal, L1_regularizer(0.1)),          |\n",
      "|                  |               |                      Dense-32(relu, he_normal),                      |\n",
      "|                  |               |                             Dropout-0.2,                             |\n",
      "|                  |               |                              softmax-10                              |\n",
      "| model_5convlayer |     0.9891    |             kernel-7X7X8(padding-same, relu, he_normal),             |\n",
      "|                  |               |                         BatchNormalization(),                        |\n",
      "|                  |               |      kernel-5X5X16(stride=(2,2), padding-same, relu, he_normal),     |\n",
      "|                  |               |                    kernel-3X3X32(relu, he_normal),                   |\n",
      "|                  |               |                            AvgPool-(2,2),                            |\n",
      "|                  |               |                    kernel-1X1X64(relu, he_normal),                   |\n",
      "|                  |               |                            MaxPool-(2,2),                            |\n",
      "|                  |               |                   kernel-3X3X128(relu, he_normal),                   |\n",
      "|                  |               |                         BatchNormalization(),                        |\n",
      "|                  |               |                               flatten,                               |\n",
      "|                  |               |                   Dense-128(sigmoid, random_normal),                 |\n",
      "|                  |               |                             Dropout-0.5,                             |\n",
      "|                  |               |                    Dense-64(tanh, glorot_normal),                    |\n",
      "|                  |               |                              softmax-10                              |\n",
      "| model_5convlayer |     0.9735    | kernel-11X11X8(strides-(2,2), padding-same, sigmoid, glorot_normal), |\n",
      "|                  |               |                         BatchNormalization(),                        |\n",
      "|                  |               |    kernel-7X7X16(stride=(3,3), padding-same, tanh, glorot_normal),   |\n",
      "|                  |               |                         BatchNormalization(),                        |\n",
      "|                  |               |                kernel-5X5X32(sigmoid, glorot_normal),                |\n",
      "|                  |               |                         BatchNormalization(),                        |\n",
      "|                  |               |                kernel-1X1X64(sigmoid, glorot_normal),                |\n",
      "|                  |               |                         BatchNormalization(),                        |\n",
      "|                  |               |                kernel-1X1X128(sigmoid, glorot_normal),               |\n",
      "|                  |               |                         BatchNormalization(),                        |\n",
      "|                  |               |                               flatten,                               |\n",
      "|                  |               |    Dense-512(LeakyRelu(alpha=0.3), he_normal, L1_regularizer(0.1)),  |\n",
      "|                  |               |                      Dense-32(relu, he_normal),                      |\n",
      "|                  |               |                              softmax-10                              |\n",
      "| model_7convlayer |     0.9734    |     kernel-7X7X4(strides-(2,2), padding-same, relu, he_normal),      |\n",
      "|                  |               |                         BatchNormalization(),                        |\n",
      "|                  |               |       MaxPool-(2,2)kernel-5X5X8(padding-same, relu, he_normal),      |\n",
      "|                  |               |                         BatchNormalization(),                        |\n",
      "|                  |               |             kernel-5X5X16(padding-same, relu, he_normal),            |\n",
      "|                  |               |                            AvgPool-(2,2),                            |\n",
      "|                  |               |             kernel-3X3X32(padding-same, relu, he_normal),            |\n",
      "|                  |               |                         BatchNormalization(),                        |\n",
      "|                  |               |             kernel-3X3X64(padding-same, relu, he_normal),            |\n",
      "|                  |               |                            MaxPool-(2,2),                            |\n",
      "|                  |               |         kernel-1X1X128(padding-same, sigmoid, glorot_normal),        |\n",
      "|                  |               |                         BatchNormalization(),                        |\n",
      "|                  |               |         kernel-1X1X256(padding-same, sigmoid, glorot_normal),        |\n",
      "|                  |               |                         BatchNormalization(),                        |\n",
      "|                  |               |                               flatten,                               |\n",
      "|                  |               |    Dense-512(LeakyRelu(alpha=0.3), he_normal, L1_regularizer(0.1)),  |\n",
      "|                  |               |                             Dropout-0.5,                             |\n",
      "|                  |               |                    Dense-128(tanh, glorot_normal),                   |\n",
      "|                  |               |                             Dropout-0.5,                             |\n",
      "|                  |               |                              softmax-10                              |\n",
      "| model_7convlayer |     0.9853    |                    kernel-7X7X4(relu, he_normal),                    |\n",
      "|                  |               |                         BatchNormalization(),                        |\n",
      "|                  |               |       MaxPool-(2,2)kernel-5X5X8(padding-same, relu, he_normal),      |\n",
      "|                  |               |             kernel-5X5X16(padding-same, relu, he_normal),            |\n",
      "|                  |               |                            MaxPool-(2,2),                            |\n",
      "|                  |               |             kernel-3X3X32(padding-same, relu, he_normal),            |\n",
      "|                  |               |             kernel-3X3X64(padding-same, relu, he_normal),            |\n",
      "|                  |               |                            MaxPool-(2,2),                            |\n",
      "|                  |               |            kernel-1X1X128(padding-same, relu, he_normal),            |\n",
      "|                  |               |            kernel-1X1X256(padding-same, relu, he_normal),            |\n",
      "|                  |               |                               flatten,                               |\n",
      "|                  |               |                      Dense-512(relu, he_normal),                     |\n",
      "|                  |               |                         BatchNormalization(),                        |\n",
      "|                  |               |                             Dropout-0.4,                             |\n",
      "|                  |               |                      Dense-128(relu, he_normal),                     |\n",
      "|                  |               |                         BatchNormalization(),                        |\n",
      "|                  |               |                             Dropout-0.2,                             |\n",
      "|                  |               |                              softmax-10                              |\n",
      "+------------------+---------------+----------------------------------------------------------------------+\n"
     ]
    }
   ],
   "source": [
    "print(table)"
   ]
  },
  {
   "cell_type": "code",
   "execution_count": 0,
   "metadata": {
    "colab": {},
    "colab_type": "code",
    "id": "f-csUoe5BRaH"
   },
   "outputs": [],
   "source": []
  }
 ],
 "metadata": {
  "colab": {
   "name": "MNIST classification using Convnets.ipynb",
   "provenance": []
  },
  "kernelspec": {
   "display_name": "Python 3",
   "language": "python",
   "name": "python3"
  },
  "language_info": {
   "codemirror_mode": {
    "name": "ipython",
    "version": 3
   },
   "file_extension": ".py",
   "mimetype": "text/x-python",
   "name": "python",
   "nbconvert_exporter": "python",
   "pygments_lexer": "ipython3",
   "version": "3.7.4"
  }
 },
 "nbformat": 4,
 "nbformat_minor": 1
}
