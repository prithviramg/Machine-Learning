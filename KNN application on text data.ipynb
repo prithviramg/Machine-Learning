{
 "cells": [
  {
   "cell_type": "markdown",
   "metadata": {
    "colab_type": "text",
    "id": "IXmtUCbYiWM3"
   },
   "source": [
    "# Amazon Fine Food Reviews Analysis\n",
    "\n",
    "\n",
    "Data Source: https://www.kaggle.com/snap/amazon-fine-food-reviews <br>\n",
    "\n",
    "EDA: https://nycdatascience.com/blog/student-works/amazon-fine-foods-visualization/\n",
    "\n",
    "\n",
    "The Amazon Fine Food Reviews dataset consists of reviews of fine foods from Amazon.<br>\n",
    "\n",
    "Number of reviews: 568,454<br>\n",
    "Number of users: 256,059<br>\n",
    "Number of products: 74,258<br>\n",
    "Timespan: Oct 1999 - Oct 2012<br>\n",
    "Number of Attributes/Columns in data: 10 \n",
    "\n",
    "Attribute Information:\n",
    "\n",
    "1. Id\n",
    "2. ProductId - unique identifier for the product\n",
    "3. UserId - unqiue identifier for the user\n",
    "4. ProfileName\n",
    "5. HelpfulnessNumerator - number of users who found the review helpful\n",
    "6. HelpfulnessDenominator - number of users who indicated whether they found the review helpful or not\n",
    "7. Score - rating between 1 and 5\n",
    "8. Time - timestamp for the review\n",
    "9. Summary - brief summary of the review\n",
    "10. Text - text of the review\n",
    "\n",
    "\n",
    "#### Objective:\n",
    "Given a review, determine whether the review is positive (rating of 4 or 5) or negative (rating of 1 or 2).\n",
    "\n",
    "<br>\n",
    "[Q] How to determine if a review is positive or negative?<br>\n",
    "<br> \n",
    "[Ans] I could use Score/Rating. A rating of 4 or 5 can be cosnidered as a positive review. A rating of 1 or 2 can be considered as negative one. A review of rating 3 is considered nuetral and such reviews are ignored from my analysis. This is an approximate and proxy way of determining the polarity (positivity/negativity) of a review.\n",
    "\n",
    "\n"
   ]
  },
  {
   "cell_type": "markdown",
   "metadata": {
    "colab_type": "text",
    "id": "syeYHDR_iWM7"
   },
   "source": [
    "# [1]. Reading Data"
   ]
  },
  {
   "cell_type": "markdown",
   "metadata": {
    "colab_type": "text",
    "id": "D_eZrQC0iWM9"
   },
   "source": [
    "## [1.1] Loading the data\n",
    "\n",
    "The dataset is available in two forms\n",
    "1. .csv file\n",
    "2. SQLite Database\n",
    "\n",
    "In order to load the data, I have used the SQLITE dataset as it is easier to query the data and visualise the data efficiently.\n",
    "<br> \n",
    "\n",
    "Here as we only want to get the global sentiment of the recommendations (positive or negative), we will purposefully ignore all Scores equal to 3. If the score is above 3, then the recommendation wil be set to \"positive\". Otherwise, it will be set to \"negative\"."
   ]
  },
  {
   "cell_type": "code",
   "execution_count": 1,
   "metadata": {
    "colab": {},
    "colab_type": "code",
    "id": "53fLFqf8iWNA"
   },
   "outputs": [],
   "source": [
    "%matplotlib inline\n",
    "import warnings\n",
    "warnings.filterwarnings(\"ignore\")\n",
    "\n",
    "\n",
    "import sqlite3\n",
    "import pandas as pd\n",
    "import numpy as np\n",
    "import nltk\n",
    "import string\n",
    "import matplotlib.pyplot as plt\n",
    "import seaborn as sns\n",
    "from sklearn.feature_extraction.text import TfidfTransformer\n",
    "from sklearn.feature_extraction.text import TfidfVectorizer\n",
    "\n",
    "from sklearn.feature_extraction.text import CountVectorizer\n",
    "from sklearn.metrics import confusion_matrix\n",
    "from sklearn import metrics\n",
    "from sklearn.metrics import roc_curve, auc\n",
    "from nltk.stem.porter import PorterStemmer\n",
    "\n",
    "import re\n",
    "# Tutorial about Python regular expressions: https://pymotw.com/2/re/\n",
    "import string\n",
    "from nltk.corpus import stopwords\n",
    "from nltk.stem import PorterStemmer\n",
    "from nltk.stem.wordnet import WordNetLemmatizer\n",
    "\n",
    "from gensim.models import Word2Vec\n",
    "from gensim.models import KeyedVectors\n",
    "import pickle\n",
    "\n",
    "from tqdm import tqdm\n",
    "import os"
   ]
  },
  {
   "cell_type": "code",
   "execution_count": 2,
   "metadata": {
    "colab": {},
    "colab_type": "code",
    "id": "j3kshrC-iWNI",
    "outputId": "07826916-2c3f-4a0a-e928-ddbc6d567a11"
   },
   "outputs": [
    {
     "name": "stdout",
     "output_type": "stream",
     "text": [
      "Number of data points in our data (525814, 10)\n"
     ]
    },
    {
     "data": {
      "text/html": [
       "<div>\n",
       "<style scoped>\n",
       "    .dataframe tbody tr th:only-of-type {\n",
       "        vertical-align: middle;\n",
       "    }\n",
       "\n",
       "    .dataframe tbody tr th {\n",
       "        vertical-align: top;\n",
       "    }\n",
       "\n",
       "    .dataframe thead th {\n",
       "        text-align: right;\n",
       "    }\n",
       "</style>\n",
       "<table border=\"1\" class=\"dataframe\">\n",
       "  <thead>\n",
       "    <tr style=\"text-align: right;\">\n",
       "      <th></th>\n",
       "      <th>Id</th>\n",
       "      <th>ProductId</th>\n",
       "      <th>UserId</th>\n",
       "      <th>ProfileName</th>\n",
       "      <th>HelpfulnessNumerator</th>\n",
       "      <th>HelpfulnessDenominator</th>\n",
       "      <th>Score</th>\n",
       "      <th>Time</th>\n",
       "      <th>Summary</th>\n",
       "      <th>Text</th>\n",
       "    </tr>\n",
       "  </thead>\n",
       "  <tbody>\n",
       "    <tr>\n",
       "      <th>0</th>\n",
       "      <td>1</td>\n",
       "      <td>B001E4KFG0</td>\n",
       "      <td>A3SGXH7AUHU8GW</td>\n",
       "      <td>delmartian</td>\n",
       "      <td>1</td>\n",
       "      <td>1</td>\n",
       "      <td>1</td>\n",
       "      <td>1303862400</td>\n",
       "      <td>Good Quality Dog Food</td>\n",
       "      <td>I have bought several of the Vitality canned d...</td>\n",
       "    </tr>\n",
       "    <tr>\n",
       "      <th>1</th>\n",
       "      <td>2</td>\n",
       "      <td>B00813GRG4</td>\n",
       "      <td>A1D87F6ZCVE5NK</td>\n",
       "      <td>dll pa</td>\n",
       "      <td>0</td>\n",
       "      <td>0</td>\n",
       "      <td>0</td>\n",
       "      <td>1346976000</td>\n",
       "      <td>Not as Advertised</td>\n",
       "      <td>Product arrived labeled as Jumbo Salted Peanut...</td>\n",
       "    </tr>\n",
       "    <tr>\n",
       "      <th>2</th>\n",
       "      <td>3</td>\n",
       "      <td>B000LQOCH0</td>\n",
       "      <td>ABXLMWJIXXAIN</td>\n",
       "      <td>Natalia Corres \"Natalia Corres\"</td>\n",
       "      <td>1</td>\n",
       "      <td>1</td>\n",
       "      <td>1</td>\n",
       "      <td>1219017600</td>\n",
       "      <td>\"Delight\" says it all</td>\n",
       "      <td>This is a confection that has been around a fe...</td>\n",
       "    </tr>\n",
       "  </tbody>\n",
       "</table>\n",
       "</div>"
      ],
      "text/plain": [
       "   Id   ProductId          UserId                      ProfileName  \\\n",
       "0   1  B001E4KFG0  A3SGXH7AUHU8GW                       delmartian   \n",
       "1   2  B00813GRG4  A1D87F6ZCVE5NK                           dll pa   \n",
       "2   3  B000LQOCH0   ABXLMWJIXXAIN  Natalia Corres \"Natalia Corres\"   \n",
       "\n",
       "   HelpfulnessNumerator  HelpfulnessDenominator  Score        Time  \\\n",
       "0                     1                       1      1  1303862400   \n",
       "1                     0                       0      0  1346976000   \n",
       "2                     1                       1      1  1219017600   \n",
       "\n",
       "                 Summary                                               Text  \n",
       "0  Good Quality Dog Food  I have bought several of the Vitality canned d...  \n",
       "1      Not as Advertised  Product arrived labeled as Jumbo Salted Peanut...  \n",
       "2  \"Delight\" says it all  This is a confection that has been around a fe...  "
      ]
     },
     "execution_count": 2,
     "metadata": {},
     "output_type": "execute_result"
    }
   ],
   "source": [
    "# using SQLite Table to read data.\n",
    "con = sqlite3.connect(\"database.sqlite\") \n",
    "\n",
    "# filtering only positive and negative reviews i.e. \n",
    "# not taking into consideration those reviews with Score=3\n",
    "# SELECT * FROM Reviews WHERE Score != 3 LIMIT 500000, will give top 500000 data points\n",
    "# you can change the number to any other number based on your computing power\n",
    "\n",
    "# filtered_data = pd.read_sql_query(\"\"\" SELECT * FROM Reviews WHERE Score != 3 LIMIT 500000\"\"\", con) \n",
    "# for tsne assignment you can take 5k data points\n",
    "\n",
    "filtered_data = pd.read_sql_query(\"\"\" SELECT * FROM Reviews WHERE Score != 3 \"\"\", con) \n",
    "\n",
    "# Give reviews with Score>3 a positive rating(1), and reviews with a score<3 a negative rating(0).\n",
    "def partition(x):\n",
    "    if x < 3:\n",
    "        return 0\n",
    "    return 1\n",
    "\n",
    "#changing reviews with score less than 3 to be positive and vice-versa\n",
    "actualScore = filtered_data['Score']\n",
    "positiveNegative = actualScore.map(partition) \n",
    "filtered_data['Score'] = positiveNegative\n",
    "print(\"Number of data points in our data\", filtered_data.shape)\n",
    "filtered_data.head(3)"
   ]
  },
  {
   "cell_type": "code",
   "execution_count": 3,
   "metadata": {
    "colab": {},
    "colab_type": "code",
    "id": "-7Iy8yWfiWNR"
   },
   "outputs": [],
   "source": [
    "display = pd.read_sql_query(\"\"\"\n",
    "SELECT UserId, ProductId, ProfileName, Time, Score, Text, COUNT(*)\n",
    "FROM Reviews\n",
    "GROUP BY UserId\n",
    "HAVING COUNT(*)>1\n",
    "\"\"\", con)"
   ]
  },
  {
   "cell_type": "code",
   "execution_count": 4,
   "metadata": {
    "colab": {},
    "colab_type": "code",
    "id": "wuK6OYpOiWNV",
    "outputId": "5cb5082e-47b9-4d4b-cf90-fc6ffe0dceeb",
    "scrolled": true
   },
   "outputs": [
    {
     "name": "stdout",
     "output_type": "stream",
     "text": [
      "(80668, 7)\n"
     ]
    },
    {
     "data": {
      "text/html": [
       "<div>\n",
       "<style scoped>\n",
       "    .dataframe tbody tr th:only-of-type {\n",
       "        vertical-align: middle;\n",
       "    }\n",
       "\n",
       "    .dataframe tbody tr th {\n",
       "        vertical-align: top;\n",
       "    }\n",
       "\n",
       "    .dataframe thead th {\n",
       "        text-align: right;\n",
       "    }\n",
       "</style>\n",
       "<table border=\"1\" class=\"dataframe\">\n",
       "  <thead>\n",
       "    <tr style=\"text-align: right;\">\n",
       "      <th></th>\n",
       "      <th>UserId</th>\n",
       "      <th>ProductId</th>\n",
       "      <th>ProfileName</th>\n",
       "      <th>Time</th>\n",
       "      <th>Score</th>\n",
       "      <th>Text</th>\n",
       "      <th>COUNT(*)</th>\n",
       "    </tr>\n",
       "  </thead>\n",
       "  <tbody>\n",
       "    <tr>\n",
       "      <th>0</th>\n",
       "      <td>#oc-R115TNMSPFT9I7</td>\n",
       "      <td>B007Y59HVM</td>\n",
       "      <td>Breyton</td>\n",
       "      <td>1331510400</td>\n",
       "      <td>2</td>\n",
       "      <td>Overall its just OK when considering the price...</td>\n",
       "      <td>2</td>\n",
       "    </tr>\n",
       "    <tr>\n",
       "      <th>1</th>\n",
       "      <td>#oc-R11D9D7SHXIJB9</td>\n",
       "      <td>B005HG9ET0</td>\n",
       "      <td>Louis E. Emory \"hoppy\"</td>\n",
       "      <td>1342396800</td>\n",
       "      <td>5</td>\n",
       "      <td>My wife has recurring extreme muscle spasms, u...</td>\n",
       "      <td>3</td>\n",
       "    </tr>\n",
       "    <tr>\n",
       "      <th>2</th>\n",
       "      <td>#oc-R11DNU2NBKQ23Z</td>\n",
       "      <td>B007Y59HVM</td>\n",
       "      <td>Kim Cieszykowski</td>\n",
       "      <td>1348531200</td>\n",
       "      <td>1</td>\n",
       "      <td>This coffee is horrible and unfortunately not ...</td>\n",
       "      <td>2</td>\n",
       "    </tr>\n",
       "    <tr>\n",
       "      <th>3</th>\n",
       "      <td>#oc-R11O5J5ZVQE25C</td>\n",
       "      <td>B005HG9ET0</td>\n",
       "      <td>Penguin Chick</td>\n",
       "      <td>1346889600</td>\n",
       "      <td>5</td>\n",
       "      <td>This will be the bottle that you grab from the...</td>\n",
       "      <td>3</td>\n",
       "    </tr>\n",
       "    <tr>\n",
       "      <th>4</th>\n",
       "      <td>#oc-R12KPBODL2B5ZD</td>\n",
       "      <td>B007OSBE1U</td>\n",
       "      <td>Christopher P. Presta</td>\n",
       "      <td>1348617600</td>\n",
       "      <td>1</td>\n",
       "      <td>I didnt like this coffee. Instead of telling y...</td>\n",
       "      <td>2</td>\n",
       "    </tr>\n",
       "  </tbody>\n",
       "</table>\n",
       "</div>"
      ],
      "text/plain": [
       "               UserId   ProductId             ProfileName        Time  Score  \\\n",
       "0  #oc-R115TNMSPFT9I7  B007Y59HVM                 Breyton  1331510400      2   \n",
       "1  #oc-R11D9D7SHXIJB9  B005HG9ET0  Louis E. Emory \"hoppy\"  1342396800      5   \n",
       "2  #oc-R11DNU2NBKQ23Z  B007Y59HVM        Kim Cieszykowski  1348531200      1   \n",
       "3  #oc-R11O5J5ZVQE25C  B005HG9ET0           Penguin Chick  1346889600      5   \n",
       "4  #oc-R12KPBODL2B5ZD  B007OSBE1U   Christopher P. Presta  1348617600      1   \n",
       "\n",
       "                                                Text  COUNT(*)  \n",
       "0  Overall its just OK when considering the price...         2  \n",
       "1  My wife has recurring extreme muscle spasms, u...         3  \n",
       "2  This coffee is horrible and unfortunately not ...         2  \n",
       "3  This will be the bottle that you grab from the...         3  \n",
       "4  I didnt like this coffee. Instead of telling y...         2  "
      ]
     },
     "execution_count": 4,
     "metadata": {},
     "output_type": "execute_result"
    }
   ],
   "source": [
    "print(display.shape)\n",
    "display.head()"
   ]
  },
  {
   "cell_type": "code",
   "execution_count": 5,
   "metadata": {
    "colab": {},
    "colab_type": "code",
    "id": "OMKVKkH7iWNZ",
    "outputId": "acc9d31a-27a1-48a1-d2f2-ce1f2e511793"
   },
   "outputs": [
    {
     "data": {
      "text/html": [
       "<div>\n",
       "<style scoped>\n",
       "    .dataframe tbody tr th:only-of-type {\n",
       "        vertical-align: middle;\n",
       "    }\n",
       "\n",
       "    .dataframe tbody tr th {\n",
       "        vertical-align: top;\n",
       "    }\n",
       "\n",
       "    .dataframe thead th {\n",
       "        text-align: right;\n",
       "    }\n",
       "</style>\n",
       "<table border=\"1\" class=\"dataframe\">\n",
       "  <thead>\n",
       "    <tr style=\"text-align: right;\">\n",
       "      <th></th>\n",
       "      <th>UserId</th>\n",
       "      <th>ProductId</th>\n",
       "      <th>ProfileName</th>\n",
       "      <th>Time</th>\n",
       "      <th>Score</th>\n",
       "      <th>Text</th>\n",
       "      <th>COUNT(*)</th>\n",
       "    </tr>\n",
       "  </thead>\n",
       "  <tbody>\n",
       "    <tr>\n",
       "      <th>80638</th>\n",
       "      <td>AZY10LLTJ71NX</td>\n",
       "      <td>B006P7E5ZI</td>\n",
       "      <td>undertheshrine \"undertheshrine\"</td>\n",
       "      <td>1334707200</td>\n",
       "      <td>5</td>\n",
       "      <td>I was recommended to try green tea extract to ...</td>\n",
       "      <td>5</td>\n",
       "    </tr>\n",
       "  </tbody>\n",
       "</table>\n",
       "</div>"
      ],
      "text/plain": [
       "              UserId   ProductId                      ProfileName        Time  \\\n",
       "80638  AZY10LLTJ71NX  B006P7E5ZI  undertheshrine \"undertheshrine\"  1334707200   \n",
       "\n",
       "       Score                                               Text  COUNT(*)  \n",
       "80638      5  I was recommended to try green tea extract to ...         5  "
      ]
     },
     "execution_count": 5,
     "metadata": {},
     "output_type": "execute_result"
    }
   ],
   "source": [
    "display[display['UserId']=='AZY10LLTJ71NX']"
   ]
  },
  {
   "cell_type": "code",
   "execution_count": 6,
   "metadata": {
    "colab": {},
    "colab_type": "code",
    "id": "s37uqS_jiWNe",
    "outputId": "489f08d4-48a2-4e82-bfc1-4f982f35b2e4"
   },
   "outputs": [
    {
     "data": {
      "text/plain": [
       "393063"
      ]
     },
     "execution_count": 6,
     "metadata": {},
     "output_type": "execute_result"
    }
   ],
   "source": [
    "display['COUNT(*)'].sum()"
   ]
  },
  {
   "cell_type": "markdown",
   "metadata": {
    "colab_type": "text",
    "id": "efnNNqNfiWNh"
   },
   "source": [
    "#  [2] Exploratory Data Analysis"
   ]
  },
  {
   "cell_type": "markdown",
   "metadata": {
    "colab_type": "text",
    "id": "Eq0hnbxhiWNi"
   },
   "source": [
    "## [2.1] Data Cleaning: Deduplication\n",
    "\n",
    "It is observed (as shown in the table below) that the reviews data had many duplicate entries. Hence it was necessary to remove duplicates in order to get unbiased results for the analysis of the data.  Following is an example:"
   ]
  },
  {
   "cell_type": "code",
   "execution_count": 7,
   "metadata": {
    "colab": {},
    "colab_type": "code",
    "id": "3CKLJ2FFiWNj",
    "outputId": "c995e0c8-7ef1-48a0-d7a9-b0cc50efaa83",
    "scrolled": false
   },
   "outputs": [
    {
     "data": {
      "text/html": [
       "<div>\n",
       "<style scoped>\n",
       "    .dataframe tbody tr th:only-of-type {\n",
       "        vertical-align: middle;\n",
       "    }\n",
       "\n",
       "    .dataframe tbody tr th {\n",
       "        vertical-align: top;\n",
       "    }\n",
       "\n",
       "    .dataframe thead th {\n",
       "        text-align: right;\n",
       "    }\n",
       "</style>\n",
       "<table border=\"1\" class=\"dataframe\">\n",
       "  <thead>\n",
       "    <tr style=\"text-align: right;\">\n",
       "      <th></th>\n",
       "      <th>Id</th>\n",
       "      <th>ProductId</th>\n",
       "      <th>UserId</th>\n",
       "      <th>ProfileName</th>\n",
       "      <th>HelpfulnessNumerator</th>\n",
       "      <th>HelpfulnessDenominator</th>\n",
       "      <th>Score</th>\n",
       "      <th>Time</th>\n",
       "      <th>Summary</th>\n",
       "      <th>Text</th>\n",
       "    </tr>\n",
       "  </thead>\n",
       "  <tbody>\n",
       "    <tr>\n",
       "      <th>0</th>\n",
       "      <td>78445</td>\n",
       "      <td>B000HDL1RQ</td>\n",
       "      <td>AR5J8UI46CURR</td>\n",
       "      <td>Geetha Krishnan</td>\n",
       "      <td>2</td>\n",
       "      <td>2</td>\n",
       "      <td>5</td>\n",
       "      <td>1199577600</td>\n",
       "      <td>LOACKER QUADRATINI VANILLA WAFERS</td>\n",
       "      <td>DELICIOUS WAFERS. I FIND THAT EUROPEAN WAFERS ...</td>\n",
       "    </tr>\n",
       "    <tr>\n",
       "      <th>1</th>\n",
       "      <td>138317</td>\n",
       "      <td>B000HDOPYC</td>\n",
       "      <td>AR5J8UI46CURR</td>\n",
       "      <td>Geetha Krishnan</td>\n",
       "      <td>2</td>\n",
       "      <td>2</td>\n",
       "      <td>5</td>\n",
       "      <td>1199577600</td>\n",
       "      <td>LOACKER QUADRATINI VANILLA WAFERS</td>\n",
       "      <td>DELICIOUS WAFERS. I FIND THAT EUROPEAN WAFERS ...</td>\n",
       "    </tr>\n",
       "    <tr>\n",
       "      <th>2</th>\n",
       "      <td>138277</td>\n",
       "      <td>B000HDOPYM</td>\n",
       "      <td>AR5J8UI46CURR</td>\n",
       "      <td>Geetha Krishnan</td>\n",
       "      <td>2</td>\n",
       "      <td>2</td>\n",
       "      <td>5</td>\n",
       "      <td>1199577600</td>\n",
       "      <td>LOACKER QUADRATINI VANILLA WAFERS</td>\n",
       "      <td>DELICIOUS WAFERS. I FIND THAT EUROPEAN WAFERS ...</td>\n",
       "    </tr>\n",
       "    <tr>\n",
       "      <th>3</th>\n",
       "      <td>73791</td>\n",
       "      <td>B000HDOPZG</td>\n",
       "      <td>AR5J8UI46CURR</td>\n",
       "      <td>Geetha Krishnan</td>\n",
       "      <td>2</td>\n",
       "      <td>2</td>\n",
       "      <td>5</td>\n",
       "      <td>1199577600</td>\n",
       "      <td>LOACKER QUADRATINI VANILLA WAFERS</td>\n",
       "      <td>DELICIOUS WAFERS. I FIND THAT EUROPEAN WAFERS ...</td>\n",
       "    </tr>\n",
       "    <tr>\n",
       "      <th>4</th>\n",
       "      <td>155049</td>\n",
       "      <td>B000PAQ75C</td>\n",
       "      <td>AR5J8UI46CURR</td>\n",
       "      <td>Geetha Krishnan</td>\n",
       "      <td>2</td>\n",
       "      <td>2</td>\n",
       "      <td>5</td>\n",
       "      <td>1199577600</td>\n",
       "      <td>LOACKER QUADRATINI VANILLA WAFERS</td>\n",
       "      <td>DELICIOUS WAFERS. I FIND THAT EUROPEAN WAFERS ...</td>\n",
       "    </tr>\n",
       "  </tbody>\n",
       "</table>\n",
       "</div>"
      ],
      "text/plain": [
       "       Id   ProductId         UserId      ProfileName  HelpfulnessNumerator  \\\n",
       "0   78445  B000HDL1RQ  AR5J8UI46CURR  Geetha Krishnan                     2   \n",
       "1  138317  B000HDOPYC  AR5J8UI46CURR  Geetha Krishnan                     2   \n",
       "2  138277  B000HDOPYM  AR5J8UI46CURR  Geetha Krishnan                     2   \n",
       "3   73791  B000HDOPZG  AR5J8UI46CURR  Geetha Krishnan                     2   \n",
       "4  155049  B000PAQ75C  AR5J8UI46CURR  Geetha Krishnan                     2   \n",
       "\n",
       "   HelpfulnessDenominator  Score        Time  \\\n",
       "0                       2      5  1199577600   \n",
       "1                       2      5  1199577600   \n",
       "2                       2      5  1199577600   \n",
       "3                       2      5  1199577600   \n",
       "4                       2      5  1199577600   \n",
       "\n",
       "                             Summary  \\\n",
       "0  LOACKER QUADRATINI VANILLA WAFERS   \n",
       "1  LOACKER QUADRATINI VANILLA WAFERS   \n",
       "2  LOACKER QUADRATINI VANILLA WAFERS   \n",
       "3  LOACKER QUADRATINI VANILLA WAFERS   \n",
       "4  LOACKER QUADRATINI VANILLA WAFERS   \n",
       "\n",
       "                                                Text  \n",
       "0  DELICIOUS WAFERS. I FIND THAT EUROPEAN WAFERS ...  \n",
       "1  DELICIOUS WAFERS. I FIND THAT EUROPEAN WAFERS ...  \n",
       "2  DELICIOUS WAFERS. I FIND THAT EUROPEAN WAFERS ...  \n",
       "3  DELICIOUS WAFERS. I FIND THAT EUROPEAN WAFERS ...  \n",
       "4  DELICIOUS WAFERS. I FIND THAT EUROPEAN WAFERS ...  "
      ]
     },
     "execution_count": 7,
     "metadata": {},
     "output_type": "execute_result"
    }
   ],
   "source": [
    "display= pd.read_sql_query(\"\"\"\n",
    "SELECT *\n",
    "FROM Reviews\n",
    "WHERE Score != 3 AND UserId=\"AR5J8UI46CURR\"\n",
    "ORDER BY ProductID\n",
    "\"\"\", con)\n",
    "display.head()"
   ]
  },
  {
   "cell_type": "markdown",
   "metadata": {
    "colab_type": "text",
    "id": "GmHe67iviWNn"
   },
   "source": [
    "As it can be seen above that same user has multiple reviews with same values for HelpfulnessNumerator, HelpfulnessDenominator, Score, Time, Summary and Text and on doing analysis it was found that <br>\n",
    "<br> \n",
    "ProductId=B000HDOPZG was Loacker Quadratini Vanilla Wafer Cookies, 8.82-Ounce Packages (Pack of 8)<br>\n",
    "<br> \n",
    "ProductId=B000HDL1RQ was Loacker Quadratini Lemon Wafer Cookies, 8.82-Ounce Packages (Pack of 8) and so on<br>\n",
    "\n",
    "It was inferred after analysis that reviews with same parameters other than ProductId belonged to the same product just having different flavour or quantity. Hence in order to reduce redundancy it was decided to eliminate the rows having same parameters.<br>\n",
    "\n",
    "The method used for the same was that we first sort the data according to ProductId and then just keep the first similar product review and delelte the others. for eg. in the above just the review for ProductId=B000HDL1RQ remains. This method ensures that there is only one representative for each product and deduplication without sorting would lead to possibility of different representatives still existing for the same product."
   ]
  },
  {
   "cell_type": "code",
   "execution_count": 8,
   "metadata": {
    "colab": {},
    "colab_type": "code",
    "id": "wgmdXIJviWNn"
   },
   "outputs": [],
   "source": [
    "#Sorting data according to ProductId in ascending order\n",
    "sorted_data=filtered_data.sort_values('ProductId', axis=0, ascending=True, inplace=False, kind='quicksort', na_position='last')"
   ]
  },
  {
   "cell_type": "code",
   "execution_count": 9,
   "metadata": {
    "colab": {},
    "colab_type": "code",
    "id": "ComjQ0rHiWNp",
    "outputId": "1c155404-4bb7-4078-c46b-1a9a33ac0602"
   },
   "outputs": [
    {
     "data": {
      "text/plain": [
       "(364173, 10)"
      ]
     },
     "execution_count": 9,
     "metadata": {},
     "output_type": "execute_result"
    }
   ],
   "source": [
    "#Deduplication of entries\n",
    "final=sorted_data.drop_duplicates(subset={\"UserId\",\"ProfileName\",\"Time\",\"Text\"}, keep='first', inplace=False)\n",
    "final.shape"
   ]
  },
  {
   "cell_type": "code",
   "execution_count": 10,
   "metadata": {
    "colab": {},
    "colab_type": "code",
    "id": "yFrWiU23iWNt",
    "outputId": "b9d26952-d8af-4fbb-eb3d-c6a28abcc029"
   },
   "outputs": [
    {
     "data": {
      "text/plain": [
       "69.25890143662969"
      ]
     },
     "execution_count": 10,
     "metadata": {},
     "output_type": "execute_result"
    }
   ],
   "source": [
    "#Checking to see how much % of data still remains\n",
    "(final['Id'].size*1.0)/(filtered_data['Id'].size*1.0)*100"
   ]
  },
  {
   "cell_type": "markdown",
   "metadata": {
    "colab_type": "text",
    "id": "g4lvCHn6iWNw"
   },
   "source": [
    "<b>Observation:-</b> It was also seen that in two rows given below the value of HelpfulnessNumerator is greater than HelpfulnessDenominator which is not practically possible hence these two rows too are removed from calcualtions"
   ]
  },
  {
   "cell_type": "code",
   "execution_count": 11,
   "metadata": {
    "colab": {},
    "colab_type": "code",
    "id": "6ehzwEdgiWNw",
    "outputId": "60e18da4-784f-49d8-84b7-59823cfa3e85"
   },
   "outputs": [
    {
     "data": {
      "text/html": [
       "<div>\n",
       "<style scoped>\n",
       "    .dataframe tbody tr th:only-of-type {\n",
       "        vertical-align: middle;\n",
       "    }\n",
       "\n",
       "    .dataframe tbody tr th {\n",
       "        vertical-align: top;\n",
       "    }\n",
       "\n",
       "    .dataframe thead th {\n",
       "        text-align: right;\n",
       "    }\n",
       "</style>\n",
       "<table border=\"1\" class=\"dataframe\">\n",
       "  <thead>\n",
       "    <tr style=\"text-align: right;\">\n",
       "      <th></th>\n",
       "      <th>Id</th>\n",
       "      <th>ProductId</th>\n",
       "      <th>UserId</th>\n",
       "      <th>ProfileName</th>\n",
       "      <th>HelpfulnessNumerator</th>\n",
       "      <th>HelpfulnessDenominator</th>\n",
       "      <th>Score</th>\n",
       "      <th>Time</th>\n",
       "      <th>Summary</th>\n",
       "      <th>Text</th>\n",
       "    </tr>\n",
       "  </thead>\n",
       "  <tbody>\n",
       "    <tr>\n",
       "      <th>0</th>\n",
       "      <td>64422</td>\n",
       "      <td>B000MIDROQ</td>\n",
       "      <td>A161DK06JJMCYF</td>\n",
       "      <td>J. E. Stephens \"Jeanne\"</td>\n",
       "      <td>3</td>\n",
       "      <td>1</td>\n",
       "      <td>5</td>\n",
       "      <td>1224892800</td>\n",
       "      <td>Bought This for My Son at College</td>\n",
       "      <td>My son loves spaghetti so I didn't hesitate or...</td>\n",
       "    </tr>\n",
       "    <tr>\n",
       "      <th>1</th>\n",
       "      <td>44737</td>\n",
       "      <td>B001EQ55RW</td>\n",
       "      <td>A2V0I904FH7ABY</td>\n",
       "      <td>Ram</td>\n",
       "      <td>3</td>\n",
       "      <td>2</td>\n",
       "      <td>4</td>\n",
       "      <td>1212883200</td>\n",
       "      <td>Pure cocoa taste with crunchy almonds inside</td>\n",
       "      <td>It was almost a 'love at first bite' - the per...</td>\n",
       "    </tr>\n",
       "  </tbody>\n",
       "</table>\n",
       "</div>"
      ],
      "text/plain": [
       "      Id   ProductId          UserId              ProfileName  \\\n",
       "0  64422  B000MIDROQ  A161DK06JJMCYF  J. E. Stephens \"Jeanne\"   \n",
       "1  44737  B001EQ55RW  A2V0I904FH7ABY                      Ram   \n",
       "\n",
       "   HelpfulnessNumerator  HelpfulnessDenominator  Score        Time  \\\n",
       "0                     3                       1      5  1224892800   \n",
       "1                     3                       2      4  1212883200   \n",
       "\n",
       "                                        Summary  \\\n",
       "0             Bought This for My Son at College   \n",
       "1  Pure cocoa taste with crunchy almonds inside   \n",
       "\n",
       "                                                Text  \n",
       "0  My son loves spaghetti so I didn't hesitate or...  \n",
       "1  It was almost a 'love at first bite' - the per...  "
      ]
     },
     "execution_count": 11,
     "metadata": {},
     "output_type": "execute_result"
    }
   ],
   "source": [
    "display= pd.read_sql_query(\"\"\"\n",
    "SELECT *\n",
    "FROM Reviews\n",
    "WHERE Score != 3 AND Id=44737 OR Id=64422\n",
    "ORDER BY ProductID\n",
    "\"\"\", con)\n",
    "\n",
    "display.head()"
   ]
  },
  {
   "cell_type": "code",
   "execution_count": 12,
   "metadata": {
    "colab": {},
    "colab_type": "code",
    "id": "EBa1d6gViWNz"
   },
   "outputs": [],
   "source": [
    "final=final[final.HelpfulnessNumerator<=final.HelpfulnessDenominator]"
   ]
  },
  {
   "cell_type": "code",
   "execution_count": 13,
   "metadata": {
    "colab": {},
    "colab_type": "code",
    "id": "KNQ01asjiWN1",
    "outputId": "0d2433fb-dd33-41cd-a18d-110d776f60b4"
   },
   "outputs": [
    {
     "name": "stdout",
     "output_type": "stream",
     "text": [
      "(364171, 10)\n"
     ]
    },
    {
     "data": {
      "text/plain": [
       "1    50000\n",
       "0    50000\n",
       "Name: Score, dtype: int64"
      ]
     },
     "execution_count": 13,
     "metadata": {},
     "output_type": "execute_result"
    }
   ],
   "source": [
    "#Before starting the next phase of preprocessing lets see the number of entries left\n",
    "print(final.shape)\n",
    "\n",
    "#How many positive and negative reviews are present in our dataset?\n",
    "final = pd.concat([final[final['Score']==1].sample(50000),final[final['Score']==0].sample(50000)],ignore_index=True)\n",
    "final = final.sample(frac=1).reset_index(drop=True)\n",
    "final['Score'].value_counts()"
   ]
  },
  {
   "cell_type": "markdown",
   "metadata": {
    "colab_type": "text",
    "id": "92IZ5ea0iWN4"
   },
   "source": [
    "#  [3] Preprocessing"
   ]
  },
  {
   "cell_type": "markdown",
   "metadata": {
    "colab_type": "text",
    "id": "NTwQITJKiWN5"
   },
   "source": [
    "## [3.1].  Preprocessing Review Text\n",
    "\n",
    "Now that deduplication is finished for our data and requires some preprocessing before we go on further with analysis and making the prediction model.\n",
    "\n",
    "Hence in the Preprocessing phase we do the following in the order below:-\n",
    "\n",
    "1. Begin by removing the html tags\n",
    "2. Remove any punctuations or limited set of special characters like , or . or # etc.\n",
    "3. Check if the word is made up of english letters and is not alpha-numeric\n",
    "4. Check to see if the length of the word is greater than 2 (as it was researched that there is no adjective in 2-letters)\n",
    "5. Convert the word to lowercase\n",
    "6. Remove Stopwords\n",
    "7. Finally Snowball Stemming the word (it was obsereved to be better than Porter Stemming)<br>\n",
    "\n",
    "After which we collect the words used to describe positive and negative reviews"
   ]
  },
  {
   "cell_type": "code",
   "execution_count": 14,
   "metadata": {
    "colab": {},
    "colab_type": "code",
    "id": "kTCxT5aWiWN5",
    "outputId": "64588cda-64b3-47f0-8d01-941e1cc85cc5"
   },
   "outputs": [
    {
     "name": "stdout",
     "output_type": "stream",
     "text": [
      "These pods are rather bland. I purchased them because I thought they would make a nice dessert coffee. They do not taste much different than regular coffee pods. I would not purchase them again, nor do I recommend them.\n",
      "==================================================\n",
      "First off, I have to thank Amazon for getting this product to me.  My shipment got lost in the mail (sent via 2-day shipping), and Amazon overnighted me another shipment no questions asked.  The product itself is very good.  I use it mostly to sweeten green tea, and it has a very light flavor.  I tried it in my coffee, and it worked very well  I recommend this to anyone interested in a natural, healthier way to sweeten drinks or bake.\n",
      "==================================================\n",
      "Sweet and Hot! These are so good I always eat too many and pay the price. You gotta try these! I put them on home made nachos. You know I think I may have to stop doing these reviews and have some.\n",
      "==================================================\n",
      "The gum was in a nice red, white and blue bucket that contained 380 pieces, not just 360. A good value, and the flavor is just as you remember it from when you were a kid. Very highly recommended for us grown up bubble gum lovers.\n",
      "==================================================\n"
     ]
    }
   ],
   "source": [
    "# printing some random reviews\n",
    "sent_0 = final['Text'].values[0]\n",
    "print(sent_0)\n",
    "print(\"=\"*50)\n",
    "\n",
    "sent_1000 = final['Text'].values[1000]\n",
    "print(sent_1000)\n",
    "print(\"=\"*50)\n",
    "\n",
    "sent_1500 = final['Text'].values[1500]\n",
    "print(sent_1500)\n",
    "print(\"=\"*50)\n",
    "\n",
    "sent_4900 = final['Text'].values[4900]\n",
    "print(sent_4900)\n",
    "print(\"=\"*50)"
   ]
  },
  {
   "cell_type": "code",
   "execution_count": 15,
   "metadata": {
    "colab": {},
    "colab_type": "code",
    "id": "iX3VndCPiWN8",
    "outputId": "7f8cad02-65a6-4530-e7e1-bb6775877737"
   },
   "outputs": [
    {
     "name": "stdout",
     "output_type": "stream",
     "text": [
      "The gum was in a nice red, white and blue bucket that contained 380 pieces, not just 360. A good value, and the flavor is just as you remember it from when you were a kid. Very highly recommended for us grown up bubble gum lovers.\n"
     ]
    }
   ],
   "source": [
    "# remove urls from text python: https://stackoverflow.com/a/40823105/4084039\n",
    "sent_0 = re.sub(r\"http\\S+\", \"\", sent_0)\n",
    "sent_1000 = re.sub(r\"http\\S+\", \"\", sent_1000)\n",
    "sent_150 = re.sub(r\"http\\S+\", \"\", sent_1500)\n",
    "sent_4900 = re.sub(r\"http\\S+\", \"\", sent_4900)\n",
    "\n",
    "print(sent_4900)"
   ]
  },
  {
   "cell_type": "code",
   "execution_count": 16,
   "metadata": {
    "colab": {},
    "colab_type": "code",
    "id": "DyO7iqEriWN_",
    "outputId": "2a010a1c-574d-409f-d725-c726a25d3e70"
   },
   "outputs": [
    {
     "name": "stdout",
     "output_type": "stream",
     "text": [
      "These pods are rather bland. I purchased them because I thought they would make a nice dessert coffee. They do not taste much different than regular coffee pods. I would not purchase them again, nor do I recommend them.\n",
      "==================================================\n",
      "First off, I have to thank Amazon for getting this product to me.  My shipment got lost in the mail (sent via 2-day shipping), and Amazon overnighted me another shipment no questions asked.  The product itself is very good.  I use it mostly to sweeten green tea, and it has a very light flavor.  I tried it in my coffee, and it worked very well  I recommend this to anyone interested in a natural, healthier way to sweeten drinks or bake.\n",
      "==================================================\n",
      "Sweet and Hot! These are so good I always eat too many and pay the price. You gotta try these! I put them on home made nachos. You know I think I may have to stop doing these reviews and have some.\n",
      "==================================================\n",
      "The gum was in a nice red, white and blue bucket that contained 380 pieces, not just 360. A good value, and the flavor is just as you remember it from when you were a kid. Very highly recommended for us grown up bubble gum lovers.\n"
     ]
    }
   ],
   "source": [
    "# https://stackoverflow.com/questions/16206380/python-beautifulsoup-how-to-remove-all-tags-from-an-element\n",
    "from bs4 import BeautifulSoup\n",
    "\n",
    "soup = BeautifulSoup(sent_0, 'lxml')\n",
    "text = soup.get_text()\n",
    "print(text)\n",
    "print(\"=\"*50)\n",
    "\n",
    "soup = BeautifulSoup(sent_1000, 'lxml')\n",
    "text = soup.get_text()\n",
    "print(text)\n",
    "print(\"=\"*50)\n",
    "\n",
    "soup = BeautifulSoup(sent_1500, 'lxml')\n",
    "text = soup.get_text()\n",
    "print(text)\n",
    "print(\"=\"*50)\n",
    "\n",
    "soup = BeautifulSoup(sent_4900, 'lxml')\n",
    "text = soup.get_text()\n",
    "print(text)"
   ]
  },
  {
   "cell_type": "code",
   "execution_count": 17,
   "metadata": {
    "colab": {},
    "colab_type": "code",
    "id": "qzIaKh8niWOC"
   },
   "outputs": [],
   "source": [
    "# https://stackoverflow.com/a/47091490/4084039\n",
    "import re\n",
    "\n",
    "def decontracted(phrase):\n",
    "    # specific\n",
    "    phrase = re.sub(r\"won't\", \"will not\", phrase)\n",
    "    phrase = re.sub(r\"can\\'t\", \"can not\", phrase)\n",
    "\n",
    "    # general\n",
    "    phrase = re.sub(r\"n\\'t\", \" not\", phrase)\n",
    "    phrase = re.sub(r\"\\'re\", \" are\", phrase)\n",
    "    phrase = re.sub(r\"\\'s\", \" is\", phrase)\n",
    "    phrase = re.sub(r\"\\'d\", \" would\", phrase)\n",
    "    phrase = re.sub(r\"\\'ll\", \" will\", phrase)\n",
    "    phrase = re.sub(r\"\\'t\", \" not\", phrase)\n",
    "    phrase = re.sub(r\"\\'ve\", \" have\", phrase)\n",
    "    phrase = re.sub(r\"\\'m\", \" am\", phrase)\n",
    "    return phrase"
   ]
  },
  {
   "cell_type": "code",
   "execution_count": 18,
   "metadata": {
    "colab": {},
    "colab_type": "code",
    "id": "Esa29-JwiWOD",
    "outputId": "be726596-752d-489b-d311-f4180ac83ac4"
   },
   "outputs": [
    {
     "name": "stdout",
     "output_type": "stream",
     "text": [
      "Sweet and Hot! These are so good I always eat too many and pay the price. You gotta try these! I put them on home made nachos. You know I think I may have to stop doing these reviews and have some.\n",
      "==================================================\n"
     ]
    }
   ],
   "source": [
    "sent_1500 = decontracted(sent_1500)\n",
    "print(sent_1500)\n",
    "print(\"=\"*50)"
   ]
  },
  {
   "cell_type": "code",
   "execution_count": 19,
   "metadata": {
    "colab": {},
    "colab_type": "code",
    "id": "qf0c7-nXiWOG",
    "outputId": "6104976d-bda8-4de1-9d91-808f3661d53b"
   },
   "outputs": [
    {
     "name": "stdout",
     "output_type": "stream",
     "text": [
      "Sweet and Hot! These are so good I always eat too many and pay the price. You gotta try these! I put them on home made nachos. You know I think I may have to stop doing these reviews and have some.\n"
     ]
    }
   ],
   "source": [
    "#remove words with numbers python: https://stackoverflow.com/a/18082370/4084039\n",
    "sent_1500 = re.sub(\"\\S*\\d\\S*\", \"\", sent_1500).strip()\n",
    "print(sent_1500)"
   ]
  },
  {
   "cell_type": "code",
   "execution_count": 20,
   "metadata": {
    "colab": {},
    "colab_type": "code",
    "id": "1Z5VK6wxiWOI",
    "outputId": "d3405347-aa6a-4df5-c3d9-2c11441c2385"
   },
   "outputs": [
    {
     "name": "stdout",
     "output_type": "stream",
     "text": [
      "The gum was in a nice red white and blue bucket that contained 380 pieces not just 360 A good value and the flavor is just as you remember it from when you were a kid Very highly recommended for us grown up bubble gum lovers \n"
     ]
    }
   ],
   "source": [
    "#remove spacial character: https://stackoverflow.com/a/5843547/4084039\n",
    "sent_4900 = re.sub('[^A-Za-z0-9]+', ' ', sent_4900)\n",
    "print(sent_4900)"
   ]
  },
  {
   "cell_type": "code",
   "execution_count": 21,
   "metadata": {
    "colab": {},
    "colab_type": "code",
    "id": "MfzZtIP1iWOL"
   },
   "outputs": [],
   "source": [
    "# https://gist.github.com/sebleier/554280\n",
    "# removing the words from the stop words list: 'no', 'nor', 'not'\n",
    "# <br /><br /> ==> after the above steps, \"br\" is present in reviews\n",
    "# we are including them into stop words list\n",
    "# instead of <br /> if we have <br/> these tags would have revmoved in the 1st step\n",
    "\n",
    "stopwords= set(['br', 'the', 'i', 'me', 'my', 'myself', 'we', 'our', 'ours', 'ourselves', 'you', \"you're\", \"you've\",\\\n",
    "            \"you'll\", \"you'd\", 'your', 'yours', 'yourself', 'yourselves', 'he', 'him', 'his', 'himself', \\\n",
    "            'she', \"she's\", 'her', 'hers', 'herself', 'it', \"it's\", 'its', 'itself', 'they', 'them', 'their',\\\n",
    "            'theirs', 'themselves', 'what', 'which', 'who', 'whom', 'this', 'that', \"that'll\", 'these', 'those', \\\n",
    "            'am', 'is', 'are', 'was', 'were', 'be', 'been', 'being', 'have', 'has', 'had', 'having', 'do', 'does', \\\n",
    "            'did', 'doing', 'a', 'an', 'the', 'and', 'but', 'if', 'or', 'because', 'as', 'until', 'while', 'of', \\\n",
    "            'at', 'by', 'for', 'with', 'about', 'against', 'between', 'into', 'through', 'during', 'before', 'after',\\\n",
    "            'above', 'below', 'to', 'from', 'up', 'down', 'in', 'out', 'on', 'off', 'over', 'under', 'again', 'further',\\\n",
    "            'then', 'once', 'here', 'there', 'when', 'where', 'why', 'how', 'all', 'any', 'both', 'each', 'few', 'more',\\\n",
    "            'most', 'other', 'some', 'such', 'only', 'own', 'same', 'so', 'than', 'too', 'very', \\\n",
    "            's', 't', 'can', 'will', 'just', 'don', \"don't\", 'should', \"should've\", 'now', 'd', 'll', 'm', 'o', 're', \\\n",
    "            've', 'y', 'ain', 'aren', \"aren't\", 'couldn', \"couldn't\", 'didn', \"didn't\", 'doesn', \"doesn't\", 'hadn',\\\n",
    "            \"hadn't\", 'hasn', \"hasn't\", 'haven', \"haven't\", 'isn', \"isn't\", 'ma', 'mightn', \"mightn't\", 'mustn',\\\n",
    "            \"mustn't\", 'needn', \"needn't\", 'shan', \"shan't\", 'shouldn', \"shouldn't\", 'wasn', \"wasn't\", 'weren', \"weren't\", \\\n",
    "            'won', \"won't\", 'wouldn', \"wouldn't\"])"
   ]
  },
  {
   "cell_type": "code",
   "execution_count": 22,
   "metadata": {
    "colab": {},
    "colab_type": "code",
    "id": "g1C43tjNiWOM",
    "outputId": "a997afc9-894c-4a56-d538-dadea8a21e6d"
   },
   "outputs": [
    {
     "name": "stderr",
     "output_type": "stream",
     "text": [
      "100%|██████████| 100000/100000 [00:43<00:00, 2296.73it/s]\n"
     ]
    }
   ],
   "source": [
    "# Combining all the above preprocessing steps \n",
    "from tqdm import tqdm\n",
    "preprocessed_reviews = []\n",
    "# tqdm is for printing the status bar\n",
    "for sentance in tqdm(final['Text'].values):\n",
    "    sentance = re.sub(r\"http\\S+\", \"\", sentance)\n",
    "    sentance = BeautifulSoup(sentance, 'lxml').get_text()\n",
    "    sentance = decontracted(sentance)\n",
    "    sentance = re.sub(\"\\S*\\d\\S*\", \"\", sentance).strip()\n",
    "    sentance = re.sub('[^A-Za-z]+', ' ', sentance)\n",
    "    # https://gist.github.com/sebleier/554280\n",
    "    sentance = ' '.join(e.lower() for e in sentance.split() if e.lower() not in stopwords)\n",
    "    preprocessed_reviews.append(sentance.strip())"
   ]
  },
  {
   "cell_type": "code",
   "execution_count": 23,
   "metadata": {
    "colab": {},
    "colab_type": "code",
    "id": "MWDrCFxViWOP",
    "outputId": "5618c9c3-a86a-42a4-e9c4-d24d93fd5a7a"
   },
   "outputs": [
    {
     "data": {
      "text/plain": [
       "'gum nice red white blue bucket contained pieces not good value flavor remember kid highly recommended us grown bubble gum lovers'"
      ]
     },
     "execution_count": 23,
     "metadata": {},
     "output_type": "execute_result"
    }
   ],
   "source": [
    "preprocessed_reviews[4900]"
   ]
  },
  {
   "cell_type": "markdown",
   "metadata": {},
   "source": [
    "## Splitting Data - Train(70%) & Test(30%)\n",
    "\n",
    "Source: __https://towardsdatascience.com/train-test-split-and-cross-validation-in-python-80b61beca4b6__\n",
    "![](https://miro.medium.com/max/1420/1*-8_kogvwmL1H6ooN1A1tsQ.png)"
   ]
  },
  {
   "cell_type": "code",
   "execution_count": 24,
   "metadata": {},
   "outputs": [],
   "source": [
    "from sklearn.model_selection import train_test_split\n",
    "x_train,x_test,y_train,y_test = train_test_split(preprocessed_reviews,final['Score'],test_size = 0.3, shuffle = False)"
   ]
  },
  {
   "cell_type": "markdown",
   "metadata": {
    "colab_type": "text",
    "id": "p2lyiwJ_iWOW"
   },
   "source": [
    "# [4] Featurization"
   ]
  },
  {
   "cell_type": "markdown",
   "metadata": {
    "colab_type": "text",
    "id": "T_LFck8iiWOX"
   },
   "source": [
    "## [4.1] BAG OF WORDS\n",
    "\n",
    "Reference : \n",
    "1. __https://en.wikipedia.org/wiki/Bag-of-words_model#Example_implementation__\n",
    "2. __http://scikit-learn.org/stable/modules/generated/sklearn.feature_extraction.text.CountVectorizer.html__"
   ]
  },
  {
   "cell_type": "markdown",
   "metadata": {
    "colab_type": "text",
    "id": "mjfrB76yiWOa"
   },
   "source": [
    "## [4.2] Bi-Grams and n-Grams.\n",
    "\n",
    "Reference : __https://en.wikipedia.org/wiki/Bag-of-words_model#n-gram_model__"
   ]
  },
  {
   "cell_type": "code",
   "execution_count": 25,
   "metadata": {
    "colab": {},
    "colab_type": "code",
    "id": "mzOdOY6MiWOb",
    "outputId": "5ca07a6a-fb12-4deb-b0f4-21cdb42ccb7a"
   },
   "outputs": [
    {
     "name": "stdout",
     "output_type": "stream",
     "text": [
      "some feature names  ['always order', 'always seem', 'always stock', 'always thought', 'always try', 'always trying', 'always use', 'always used', 'amaranth', 'amaretto']\n",
      "==================================================\n",
      "the type of count vectorizer  <class 'scipy.sparse.csr.csr_matrix'>\n",
      "the shape of out text BOW vectorizer for Train set  (70000, 19815)\n",
      "the number of unique words including both unigrams and bigrams in Train set  19815\n",
      "==================================================\n",
      "the shape of out text BOW vectorizer for Test set  (30000, 19815)\n",
      "the number of unique words including both unigrams and bigrams Test set  19815\n"
     ]
    }
   ],
   "source": [
    "#bi-gram\n",
    "#removing stop words like \"not\" should be avoided before building n-grams\n",
    "#CountVectorizer documentation http://scikit-learn.org/stable/modules/generated/sklearn.feature_extraction.text.CountVectorizer.html\n",
    "from sklearn.preprocessing import StandardScaler \n",
    "count_vect = CountVectorizer(ngram_range=(1,2), min_df=20)\n",
    "standardizer = StandardScaler(with_mean=False)\n",
    "bigrams_train = standardizer.fit_transform(count_vect.fit_transform(x_train))\n",
    "bigrams_test = standardizer.transform(count_vect.transform(x_test))\n",
    "print(\"some feature names \", count_vect.get_feature_names()[489:499])\n",
    "print('='*50)\n",
    "\n",
    "print(\"the type of count vectorizer \",type(bigrams_train))\n",
    "print(\"the shape of out text BOW vectorizer for Train set \",bigrams_train.get_shape())\n",
    "print(\"the number of unique words including both unigrams and bigrams in Train set \", bigrams_train.get_shape()[1])\n",
    "print('='*50)                                             \n",
    "print(\"the shape of out text BOW vectorizer for Test set \",bigrams_test.get_shape())\n",
    "print(\"the number of unique words including both unigrams and bigrams Test set \", bigrams_test.get_shape()[1])                                              "
   ]
  },
  {
   "cell_type": "markdown",
   "metadata": {
    "colab_type": "text",
    "id": "0tcbbZxSiWOd"
   },
   "source": [
    "## [4.3] TF-IDF\n",
    "\n",
    "Reference : \n",
    "1. __https://en.wikipedia.org/wiki/Tf%E2%80%93idf#Definition__\n",
    "2. __https://scikit-learn.org/stable/modules/generated/sklearn.feature_extraction.text.TfidfVectorizer.html__"
   ]
  },
  {
   "cell_type": "code",
   "execution_count": 26,
   "metadata": {
    "colab": {},
    "colab_type": "code",
    "id": "mQ3EDEsoiWOd",
    "outputId": "b305ed29-861d-40e9-c1df-b12c4e6492a8"
   },
   "outputs": [
    {
     "name": "stdout",
     "output_type": "stream",
     "text": [
      "some feature names  ['enjoyed much', 'enjoyed not', 'enjoyed product', 'enjoying', 'enjoyment', 'enjoys', 'enormous', 'enough', 'enough eat', 'enough flavor']\n",
      "==================================================\n",
      "the type of count vectorizer  <class 'scipy.sparse.csr.csr_matrix'>\n",
      "the shape of out text Tfidf vectorizer for Train set  (70000, 19815)\n",
      "the number of unique words including both unigrams and bigrams in Train set  19815\n",
      "==================================================\n",
      "the shape of out text Tfidf vectorizer for Test set  (30000, 19815)\n",
      "the number of unique words including both unigrams and bigrams Test set  19815\n"
     ]
    }
   ],
   "source": [
    "tfidf_vect = TfidfVectorizer(ngram_range=(1,2), min_df=20)\n",
    "standardizer = StandardScaler(with_mean=False)\n",
    "tfidf_bigrams_train = standardizer.fit_transform(tfidf_vect.fit_transform(x_train))\n",
    "tfidf_bigrams_test = standardizer.transform(tfidf_vect.transform(x_test))\n",
    "print(\"some feature names \", tfidf_vect.get_feature_names()[5000:5010])\n",
    "print('='*50)\n",
    "\n",
    "print(\"the type of count vectorizer \",type(tfidf_bigrams_train))\n",
    "print(\"the shape of out text Tfidf vectorizer for Train set \",tfidf_bigrams_train.get_shape())\n",
    "print(\"the number of unique words including both unigrams and bigrams in Train set \", tfidf_bigrams_train.get_shape()[1])\n",
    "print('='*50)                                             \n",
    "print(\"the shape of out text Tfidf vectorizer for Test set \",tfidf_bigrams_test.get_shape())\n",
    "print(\"the number of unique words including both unigrams and bigrams Test set \", tfidf_bigrams_test.get_shape()[1]) "
   ]
  },
  {
   "cell_type": "markdown",
   "metadata": {
    "colab_type": "text",
    "id": "u566lt93iWOf"
   },
   "source": [
    "## [4.4] Word2Vec"
   ]
  },
  {
   "cell_type": "code",
   "execution_count": 27,
   "metadata": {
    "colab": {},
    "colab_type": "code",
    "id": "pxlbMwFjiWOg"
   },
   "outputs": [],
   "source": [
    "# Train our own Word2Vec model using preprocessed reviews\n",
    "sentancesListTrain=[]\n",
    "for eachSentance in x_train:\n",
    "    sentancesListTrain.append(eachSentance.split())\n",
    "sentancesListTest=[]\n",
    "for eachSentance in x_test:\n",
    "    sentancesListTest.append(eachSentance.split())"
   ]
  },
  {
   "cell_type": "markdown",
   "metadata": {},
   "source": [
    "Reference: \n",
    "\n",
    "1. __https://towardsdatascience.com/a-beginners-guide-to-word-embedding-with-gensim-word2vec-model-5970fa56cc92__\n",
    "2. __https://kavita-ganesan.com/gensim-word2vec-tutorial-starter-code/__\n"
   ]
  },
  {
   "cell_type": "markdown",
   "metadata": {},
   "source": [
    "![](https://miro.medium.com/max/1080/1*HmmFCZpKk3i4EvMYZ855tg.png)"
   ]
  },
  {
   "cell_type": "code",
   "execution_count": 28,
   "metadata": {
    "colab": {},
    "colab_type": "code",
    "id": "NOd5wp0yiWOh",
    "outputId": "ae28439d-438c-4d88-ed12-db5f3317218f",
    "scrolled": true
   },
   "outputs": [
    {
     "name": "stdout",
     "output_type": "stream",
     "text": [
      "[('favorably', 0.3707137703895569), ('accustomed', 0.36834192276000977), ('spirits', 0.3566123843193054), ('whisked', 0.3520267903804779), ('iodate', 0.3479880690574646), ('revv', 0.342900812625885), ('kipper', 0.34073328971862793), ('neutralize', 0.3350059688091278), ('jar', 0.3325083553791046), ('detectable', 0.33089423179626465)]\n",
      "==================================================\n",
      "[('container', 0.4101524353027344), ('conducted', 0.33599990606307983), ('weight', 0.321274071931839), ('sceptical', 0.3180943727493286), ('scratching', 0.3171932101249695), ('untried', 0.3150271475315094), ('met', 0.31086596846580505), ('redi', 0.3090115487575531), ('convienient', 0.3039918541908264), ('satisfying', 0.30293363332748413)]\n"
     ]
    }
   ],
   "source": [
    "# http://kavita-ganesan.com/gensim-word2vec-tutorial-starter-code/#.W17SRFAzZPY\n",
    "w2v_model=Word2Vec(sentancesListTrain,min_count=5,size=100, workers=-1)\n",
    "print(w2v_model.wv.most_similar('tasty'))\n",
    "print('='*50)\n",
    "print(w2v_model.wv.most_similar('horrible'))"
   ]
  },
  {
   "cell_type": "code",
   "execution_count": 29,
   "metadata": {
    "colab": {},
    "colab_type": "code",
    "id": "teE01Qk2iWOj",
    "outputId": "f063436c-8b62-49d3-e093-723395e66ccd"
   },
   "outputs": [
    {
     "name": "stdout",
     "output_type": "stream",
     "text": [
      "number of words that occured minimum 5 times  16515\n",
      "sample words :  ['completely', 'unacceptable', 'cruel', 'closer', 'shampoo', 'uses', 'espresso', 'machine', 'cocoa', 'powder']\n"
     ]
    }
   ],
   "source": [
    "w2v_words = list(w2v_model.wv.vocab)\n",
    "print(\"number of words that occured minimum 5 times \",len(w2v_words))\n",
    "print(\"sample words : \", w2v_words[840:850])"
   ]
  },
  {
   "cell_type": "markdown",
   "metadata": {
    "colab_type": "text",
    "id": "mUNnof40iWOl"
   },
   "source": [
    "## [4.4.1] Converting text into vectors using Avg W2V, TFIDF-W2V"
   ]
  },
  {
   "cell_type": "markdown",
   "metadata": {
    "colab_type": "text",
    "id": "heHLB_FCiWOm"
   },
   "source": [
    "#### [4.4.1.1] Avg W2v"
   ]
  },
  {
   "cell_type": "code",
   "execution_count": 30,
   "metadata": {
    "colab": {},
    "colab_type": "code",
    "id": "iCYoNRANiWOm",
    "outputId": "96ebb104-44d7-4b7d-aa45-62614bbfcf44"
   },
   "outputs": [
    {
     "name": "stderr",
     "output_type": "stream",
     "text": [
      "100%|██████████| 70000/70000 [02:10<00:00, 537.18it/s]\n"
     ]
    }
   ],
   "source": [
    "# average Word2Vec\n",
    "# computing average word2vec for each review.\n",
    "trainWord2Vectors = [] # the avg-w2v for each train sentence/review is stored in this list\n",
    "for eachSentance in tqdm(sentancesListTrain): \n",
    "    sentanceVector = np.zeros(100) # as word vectors are of zero length 50\n",
    "    validWordCounts =0 # num of words with a valid vector in the sentence/review\n",
    "    for eachWord in eachSentance: \n",
    "        if eachWord in w2v_words:\n",
    "            vector = w2v_model.wv[eachWord]\n",
    "            sentanceVector += vector\n",
    "            validWordCounts += 1\n",
    "    if validWordCounts != 0:\n",
    "        sentanceVector /= validWordCounts\n",
    "    trainWord2Vectors.append(sentanceVector)\n",
    "    \n"
   ]
  },
  {
   "cell_type": "code",
   "execution_count": 31,
   "metadata": {},
   "outputs": [
    {
     "name": "stdout",
     "output_type": "stream",
     "text": [
      "70000\n",
      "100\n"
     ]
    }
   ],
   "source": [
    "standardizer = StandardScaler()\n",
    "trainWord2Vectors = standardizer.fit_transform(trainWord2Vectors)\n",
    "print(len(trainWord2Vectors))\n",
    "print(len(trainWord2Vectors[0]))"
   ]
  },
  {
   "cell_type": "code",
   "execution_count": 32,
   "metadata": {},
   "outputs": [
    {
     "name": "stderr",
     "output_type": "stream",
     "text": [
      "100%|██████████| 30000/30000 [00:56<00:00, 532.56it/s]\n"
     ]
    },
    {
     "name": "stdout",
     "output_type": "stream",
     "text": [
      "30000\n",
      "100\n"
     ]
    }
   ],
   "source": [
    "testWord2Vectors = []; # the avg-w2v for each test sentence/review is stored in this list\n",
    "for eachSentance in tqdm(sentancesListTest): \n",
    "    sentanceVector = np.zeros(100)\n",
    "    validWordCounts =0\n",
    "    for eachWord in eachSentance: \n",
    "        if eachWord in w2v_words:\n",
    "            vector = w2v_model.wv[eachWord]\n",
    "            sentanceVector += vector\n",
    "            validWordCounts += 1\n",
    "    if validWordCounts != 0:\n",
    "        sentanceVector /= validWordCounts\n",
    "    testWord2Vectors.append(sentanceVector)\n",
    "    \n",
    "testWord2Vectors = standardizer.transform(testWord2Vectors)\n",
    "print(len(testWord2Vectors))\n",
    "print(len(testWord2Vectors[0]))"
   ]
  },
  {
   "cell_type": "markdown",
   "metadata": {
    "colab_type": "text",
    "id": "ylTn3LgiiWOo"
   },
   "source": [
    "#### [4.4.1.2] TFIDF weighted W2v"
   ]
  },
  {
   "cell_type": "code",
   "execution_count": 33,
   "metadata": {
    "colab": {},
    "colab_type": "code",
    "id": "XBxf_qKSiWOo"
   },
   "outputs": [],
   "source": [
    "tfidfW2VModel = TfidfVectorizer(ngram_range=(1,2), min_df=10, max_features=5000)\n",
    "tfidfW2VModelVectors = tfidfW2VModel.fit_transform(x_train)\n",
    "# creating hashmap with word as key and inverse document frequency as value\n",
    "wordsHashMap = dict(zip(tfidfW2VModel.get_feature_names(), list(tfidfW2VModel.idf_)))"
   ]
  },
  {
   "cell_type": "code",
   "execution_count": 34,
   "metadata": {
    "colab": {},
    "colab_type": "code",
    "id": "5FHQMSyUiWOp",
    "outputId": "6b5b71be-e3f7-4933-cd74-f78fb703132d",
    "scrolled": true
   },
   "outputs": [
    {
     "name": "stderr",
     "output_type": "stream",
     "text": [
      "100%|██████████| 70000/70000 [05:11<00:00, 224.53it/s]\n"
     ]
    },
    {
     "name": "stdout",
     "output_type": "stream",
     "text": [
      "70000\n",
      "100\n"
     ]
    }
   ],
   "source": [
    "# TF-IDF weighted Word2Vec\n",
    "tfidfWords = tfidfW2VModel.get_feature_names() # tfidf words\n",
    "\n",
    "trainTfidfWord2Vectors = []; # the tfidf-w2v for each sentence/review is stored in this list\n",
    "for eachSentance in tqdm(sentancesListTrain): \n",
    "    sentanceVector = np.zeros(100) # as word vectors are of zero length\n",
    "    weightedSum =0; # num of words with a valid vector in the sentence/review\n",
    "    for eachWord in eachSentance: \n",
    "        if eachWord in w2v_words and eachWord in tfidfWords:\n",
    "            vector = w2v_model.wv[eachWord]\n",
    "            tf_idf = wordsHashMap[eachWord]*(eachSentance.count(eachWord)/len(eachSentance))\n",
    "            sentanceVector += (vector * tf_idf)\n",
    "            weightedSum += tf_idf\n",
    "    if weightedSum != 0:\n",
    "        sentanceVector /= weightedSum\n",
    "    trainTfidfWord2Vectors.append(sentanceVector)\n",
    "standardizer = StandardScaler()   \n",
    "trainTfidfWord2Vectors = standardizer.fit_transform(trainTfidfWord2Vectors)\n",
    "print(len(trainTfidfWord2Vectors))\n",
    "print(len(trainTfidfWord2Vectors[0]))"
   ]
  },
  {
   "cell_type": "code",
   "execution_count": 35,
   "metadata": {},
   "outputs": [
    {
     "name": "stderr",
     "output_type": "stream",
     "text": [
      "100%|██████████| 30000/30000 [02:13<00:00, 225.51it/s]\n"
     ]
    },
    {
     "name": "stdout",
     "output_type": "stream",
     "text": [
      "30000\n",
      "100\n"
     ]
    }
   ],
   "source": [
    "testTfidfWord2Vectors = []; # the tfidf-w2v for each sentence/review is stored in this list\n",
    "for eachSentance in tqdm(sentancesListTest): \n",
    "    sentanceVector = np.zeros(100) # as word vectors are of zero length\n",
    "    weightedSum =0; # num of words with a valid vector in the sentence/review\n",
    "    for eachWord in eachSentance: \n",
    "        if eachWord in w2v_words and eachWord in tfidfWords:\n",
    "            vector = w2v_model.wv[eachWord]\n",
    "            tf_idf = wordsHashMap[eachWord]*(eachSentance.count(eachWord)/len(eachSentance))\n",
    "            sentanceVector += (vector * tf_idf)\n",
    "            weightedSum += tf_idf\n",
    "    if weightedSum != 0:\n",
    "        sentanceVector /= weightedSum\n",
    "    testTfidfWord2Vectors.append(sentanceVector)\n",
    "    \n",
    "testTfidfWord2Vectors = standardizer.transform(testTfidfWord2Vectors)\n",
    "print(len(testTfidfWord2Vectors))\n",
    "print(len(testTfidfWord2Vectors[0]))"
   ]
  },
  {
   "cell_type": "markdown",
   "metadata": {},
   "source": [
    "# K Nearest Neighbors"
   ]
  },
  {
   "cell_type": "markdown",
   "metadata": {},
   "source": [
    "The ***k-nearest neighbors algorithm (k-NN)*** is a non-parametric method used for classification. In both cases, the input consists of the k closest training examples in the feature space. \n",
    "\n",
    "In ***k-NN classification***, the output is a class membership. An object is classified by a plurality vote of its neighbors, with the object being assigned to the class most common among its k nearest neighbors (k is a positive integer, typically small). k-NN is a type of instance-based learning, or lazy learning, where the function is only approximated locally and all computation is deferred until function evaluation. The neighbors are taken from a set of objects for which the class (for k-NN classification) or the object property value (for k-NN regression) is known. This can be thought of as the training set for the algorithm, though no explicit training step is required. **A peculiarity of the k-NN algorithm is that it is sensitive to the local structure of the data.** \n",
    "\n",
    "### Algorithm\n",
    "- The training examples are vectors in a multidimensional feature space, each with a class label. The training phase of the algorithm consists only of storing the feature vectors and class labels of the training samples.\n",
    "\n",
    "- In the classification phase, k is a user-defined constant, and an unlabeled vector (a query or test point) is classified by assigning the label which is most frequent among the k training samples nearest to that query point.\n",
    "\n",
    "- A commonly used distance metric **is Euclidean distance**. For discrete variables, such as for text classification, another metric can be used, such as the overlap metric (or Hamming distance). \n",
    "\n",
    "- A **drawback of the basic \"majority voting\"** classification occurs when the *class distribution is skewed*. That is, examples of a more frequent class tend to dominate the prediction of the new example, because they tend to be common among the k nearest neighbors due to their large number.[4] **One way to overcome this problem is to weight** the classification, taking into account the distance from the test point to each of its k nearest neighbors. The class (or value, in regression problems) of each of the k nearest points is multiplied by a weight proportional to the inverse of the distance from that point to the test point.\n",
    "\n",
    "### Stastical Setting\n",
    "\n",
    "Suppose we have pairs ${\\displaystyle (X_{1},Y_{1}),(X_{2},Y_{2}),\\dots ,(X_{n},Y_{n})}$ taking values in ${\\displaystyle \\mathbb {R} ^{d}\\times \\{1,2\\}}$, where $Y$ is the class label of $X$, so that ${\\displaystyle X|Y=r\\sim P_{r}} X|Y=r\\sim P_{r}$ for $r = 1 , 2$ (and probability distributions ${\\displaystyle P_{r}}$). Given some norm ${\\displaystyle \\|\\cdot \\|}$ on ${\\displaystyle \\mathbb {R} ^{d}}$ and a point ${\\displaystyle x\\in \\mathbb {R} ^{d}}$, let ${\\displaystyle (X_{(1)},Y_{(1)}),\\dots ,(X_{(n)},Y_{(n)})}$ be a reordering of the training data such that ${\\displaystyle \\|X_{(1)}-x\\|\\leq \\dots \\leq \\|X_{(n)}-x\\|} $\n",
    "\n",
    "\n",
    "<div align=\"right\"><font size=2>Source: Wikipedia</div>"
   ]
  },
  {
   "cell_type": "code",
   "execution_count": 36,
   "metadata": {},
   "outputs": [],
   "source": [
    "#source - \n",
    "#https://scikit-learn.org/stable/modules/generated/sklearn.model_selection.GridSearchCV.html\n",
    "from sklearn.model_selection import GridSearchCV\n",
    "def gridSearcher(model,parameters,inputs,outputs):\n",
    "    clf = GridSearchCV(model,\n",
    "                       param_grid = parameters,\n",
    "                       return_train_score = True,\n",
    "                       scoring='roc_auc',\n",
    "                       verbose = 10,\n",
    "                       cv=5)\n",
    "    clf.fit(inputs,outputs)\n",
    "    return clf"
   ]
  },
  {
   "cell_type": "code",
   "execution_count": 37,
   "metadata": {},
   "outputs": [],
   "source": [
    "#https://stackoverflow.com/a/42712772/12901493\n",
    "import seaborn as sns\n",
    "def plotAUCvsHyperParam(model):\n",
    "    plt.figure(figsize=(10,10))\n",
    "    f,(ax1,ax2) = plt.subplots(1,2,figsize=(20,5))\n",
    "    \n",
    "    testScore = model.cv_results_[\"mean_test_score\"]\n",
    "    testScore = testScore.reshape(len(model.param_grid[\"n_neighbors\"]),len(model.param_grid[\"weights\"]))\n",
    "    g1 = sns.heatmap(testScore, \n",
    "                     annot = True,\n",
    "                     fmt=\".4f\",\n",
    "                     ax = ax1,\n",
    "                     cmap = sns.color_palette(\"Paired\"),\n",
    "                     xticklabels=model.param_grid[\"weights\"],\n",
    "                     yticklabels=np.round(model.param_grid[\"n_neighbors\"], 3))\n",
    "    g1.set_xlabel(\"weights\") \n",
    "    g1.set_ylabel(\"n_neighbors\")\n",
    "    title = \"Best Cross Validation Score = \"+\\\n",
    "            str(model.best_score_)+\"\\n\"\\\n",
    "            \" at \"+\\\n",
    "            \"n_neighbors \"+str(model.best_params_[\"n_neighbors\"])+\\\n",
    "            \" , \"+\\\n",
    "            \"weights \"+str(model.best_params_[\"weights\"])\n",
    "    ax1.title.set_text(title)\n",
    "    ax1.title.set_fontsize(15)\n",
    "    \n",
    "    trainScore = model.cv_results_[\"mean_train_score\"]\n",
    "    trainScore = trainScore.reshape(len(model.param_grid[\"n_neighbors\"]),len(model.param_grid[\"weights\"]))\n",
    "    indices = np.unravel_index(np.argmax(trainScore, axis=None), trainScore.shape)\n",
    "    g2 = sns.heatmap(trainScore, \n",
    "                     annot = True,\n",
    "                     fmt=\".4f\",\n",
    "                     ax = ax2,\n",
    "                     cmap = sns.color_palette(\"Paired\"),\n",
    "                     xticklabels=model.param_grid[\"weights\"],\n",
    "                     yticklabels=np.round(model.param_grid[\"n_neighbors\"], 3))\n",
    "    g2.set_xlabel(\"weights\")\n",
    "    g2.set_ylabel(\"n_neighbors\")\n",
    "    title = \"Best Train Score = \"+\\\n",
    "            str(trainScore.max())+\"\\n\"\\\n",
    "            \" at \"+\\\n",
    "            \"n_neighbors \"+str(model.param_grid[\"n_neighbors\"][indices[0]])+\\\n",
    "            \" , \"+\\\n",
    "            \"weights \"+str(model.param_grid[\"weights\"][indices[1]])\n",
    "    ax2.title.set_text(title)\n",
    "    ax2.title.set_fontsize(15)"
   ]
  },
  {
   "cell_type": "code",
   "execution_count": 38,
   "metadata": {},
   "outputs": [],
   "source": [
    "#source - https://scikit-learn.org/stable/modules/generated/sklearn.metrics.roc_curve.html\n",
    "from sklearn import metrics\n",
    "def rocCurve(model,trainData,trainLabels,testData,testLabels):\n",
    "    predictedProbabilities = model.predict_proba(testData)\n",
    "    fpr, tpr, thresholds = metrics.roc_curve(testLabels, predictedProbabilities[:,1])\n",
    "    plt.plot(fpr,tpr,label='Test AUC is %0.3f' %(metrics.auc(fpr,tpr)))\n",
    "    predictedProbabilities = model.predict_proba(trainData)\n",
    "    fpr, tpr, thresholds = metrics.roc_curve(trainLabels, predictedProbabilities[:,1])\n",
    "    plt.plot(fpr,tpr,label='Train AUC is %0.3f' %(metrics.auc(fpr,tpr)))\n",
    "    plt.legend()\n",
    "    plt.xlabel(\"False Positive Rate\")\n",
    "    plt.ylabel(\"True Positive Rate\")\n",
    "    plt.show()"
   ]
  },
  {
   "cell_type": "code",
   "execution_count": 39,
   "metadata": {},
   "outputs": [],
   "source": [
    "#source - https://scikit-learn.org/stable/modules/generated/sklearn.metrics.confusion_matrix.html\n",
    "from sklearn.metrics import confusion_matrix\n",
    "def confusionMatrix(model,testData,testLabels):\n",
    "    tn, fp, fn, tp = confusion_matrix(testLabels,model.predict(testData)).ravel()\n",
    "    sns.heatmap([[tn,fp],[fn,tp]],yticklabels=[\"Actual 0\",\"Actual 1\"],\\\n",
    "                 xticklabels=[\"Predicted 0\",\"Predicted 1\"],annot = True,fmt='d')"
   ]
  },
  {
   "cell_type": "markdown",
   "metadata": {
    "colab_type": "text",
    "id": "ayLYlocviWOs"
   },
   "source": [
    "# Applying K Nearest Neighbors"
   ]
  },
  {
   "cell_type": "markdown",
   "metadata": {
    "colab_type": "text",
    "id": "fvKQwJMWiWOt"
   },
   "source": [
    "## [5.1] Applying Brute Force KNN on BOW"
   ]
  },
  {
   "cell_type": "code",
   "execution_count": 40,
   "metadata": {
    "colab": {},
    "colab_type": "code",
    "id": "vnSi4W-iiWOt"
   },
   "outputs": [
    {
     "name": "stdout",
     "output_type": "stream",
     "text": [
      "Fitting 5 folds for each of 10 candidates, totalling 50 fits\n",
      "[CV] n_neighbors=3, weights=uniform ..................................\n",
      "[CV]  n_neighbors=3, weights=uniform, score=(train=0.896, test=0.666), total=  16.1s\n",
      "[CV] n_neighbors=3, weights=uniform ..................................\n"
     ]
    },
    {
     "name": "stderr",
     "output_type": "stream",
     "text": [
      "[Parallel(n_jobs=None)]: Done   1 out of   1 | elapsed:  1.3min remaining:    0.0s\n"
     ]
    },
    {
     "name": "stdout",
     "output_type": "stream",
     "text": [
      "[CV]  n_neighbors=3, weights=uniform, score=(train=0.916, test=0.686), total=  15.7s\n",
      "[CV] n_neighbors=3, weights=uniform ..................................\n"
     ]
    },
    {
     "name": "stderr",
     "output_type": "stream",
     "text": [
      "[Parallel(n_jobs=None)]: Done   2 out of   2 | elapsed:  2.6min remaining:    0.0s\n"
     ]
    },
    {
     "name": "stdout",
     "output_type": "stream",
     "text": [
      "[CV]  n_neighbors=3, weights=uniform, score=(train=0.912, test=0.679), total=  15.7s\n",
      "[CV] n_neighbors=3, weights=uniform ..................................\n"
     ]
    },
    {
     "name": "stderr",
     "output_type": "stream",
     "text": [
      "[Parallel(n_jobs=None)]: Done   3 out of   3 | elapsed:  4.0min remaining:    0.0s\n"
     ]
    },
    {
     "name": "stdout",
     "output_type": "stream",
     "text": [
      "[CV]  n_neighbors=3, weights=uniform, score=(train=0.912, test=0.676), total=  15.8s\n",
      "[CV] n_neighbors=3, weights=uniform ..................................\n"
     ]
    },
    {
     "name": "stderr",
     "output_type": "stream",
     "text": [
      "[Parallel(n_jobs=None)]: Done   4 out of   4 | elapsed:  5.3min remaining:    0.0s\n"
     ]
    },
    {
     "name": "stdout",
     "output_type": "stream",
     "text": [
      "[CV]  n_neighbors=3, weights=uniform, score=(train=0.911, test=0.668), total=  15.9s\n",
      "[CV] n_neighbors=3, weights=distance .................................\n"
     ]
    },
    {
     "name": "stderr",
     "output_type": "stream",
     "text": [
      "[Parallel(n_jobs=None)]: Done   5 out of   5 | elapsed:  6.6min remaining:    0.0s\n"
     ]
    },
    {
     "name": "stdout",
     "output_type": "stream",
     "text": [
      "[CV]  n_neighbors=3, weights=distance, score=(train=1.000, test=0.685), total=  15.7s\n",
      "[CV] n_neighbors=3, weights=distance .................................\n"
     ]
    },
    {
     "name": "stderr",
     "output_type": "stream",
     "text": [
      "[Parallel(n_jobs=None)]: Done   6 out of   6 | elapsed:  7.9min remaining:    0.0s\n"
     ]
    },
    {
     "name": "stdout",
     "output_type": "stream",
     "text": [
      "[CV]  n_neighbors=3, weights=distance, score=(train=1.000, test=0.702), total=  15.8s\n",
      "[CV] n_neighbors=3, weights=distance .................................\n"
     ]
    },
    {
     "name": "stderr",
     "output_type": "stream",
     "text": [
      "[Parallel(n_jobs=None)]: Done   7 out of   7 | elapsed:  9.2min remaining:    0.0s\n"
     ]
    },
    {
     "name": "stdout",
     "output_type": "stream",
     "text": [
      "[CV]  n_neighbors=3, weights=distance, score=(train=1.000, test=0.699), total=  15.9s\n",
      "[CV] n_neighbors=3, weights=distance .................................\n"
     ]
    },
    {
     "name": "stderr",
     "output_type": "stream",
     "text": [
      "[Parallel(n_jobs=None)]: Done   8 out of   8 | elapsed: 10.6min remaining:    0.0s\n"
     ]
    },
    {
     "name": "stdout",
     "output_type": "stream",
     "text": [
      "[CV]  n_neighbors=3, weights=distance, score=(train=1.000, test=0.692), total=  15.8s\n",
      "[CV] n_neighbors=3, weights=distance .................................\n"
     ]
    },
    {
     "name": "stderr",
     "output_type": "stream",
     "text": [
      "[Parallel(n_jobs=None)]: Done   9 out of   9 | elapsed: 11.9min remaining:    0.0s\n"
     ]
    },
    {
     "name": "stdout",
     "output_type": "stream",
     "text": [
      "[CV]  n_neighbors=3, weights=distance, score=(train=1.000, test=0.688), total=  16.0s\n",
      "[CV] n_neighbors=5, weights=uniform ..................................\n",
      "[CV]  n_neighbors=5, weights=uniform, score=(train=0.851, test=0.651), total=  22.6s\n",
      "[CV] n_neighbors=5, weights=uniform ..................................\n",
      "[CV]  n_neighbors=5, weights=uniform, score=(train=0.856, test=0.663), total=  22.8s\n",
      "[CV] n_neighbors=5, weights=uniform ..................................\n",
      "[CV]  n_neighbors=5, weights=uniform, score=(train=0.852, test=0.665), total=  21.4s\n",
      "[CV] n_neighbors=5, weights=uniform ..................................\n",
      "[CV]  n_neighbors=5, weights=uniform, score=(train=0.852, test=0.653), total=  22.5s\n",
      "[CV] n_neighbors=5, weights=uniform ..................................\n",
      "[CV]  n_neighbors=5, weights=uniform, score=(train=0.853, test=0.653), total=  19.2s\n",
      "[CV] n_neighbors=5, weights=distance .................................\n",
      "[CV]  n_neighbors=5, weights=distance, score=(train=1.000, test=0.675), total=  22.5s\n",
      "[CV] n_neighbors=5, weights=distance .................................\n",
      "[CV]  n_neighbors=5, weights=distance, score=(train=1.000, test=0.687), total=  22.9s\n",
      "[CV] n_neighbors=5, weights=distance .................................\n",
      "[CV]  n_neighbors=5, weights=distance, score=(train=1.000, test=0.690), total=  21.6s\n",
      "[CV] n_neighbors=5, weights=distance .................................\n",
      "[CV]  n_neighbors=5, weights=distance, score=(train=1.000, test=0.674), total=  22.2s\n",
      "[CV] n_neighbors=5, weights=distance .................................\n",
      "[CV]  n_neighbors=5, weights=distance, score=(train=1.000, test=0.675), total=  19.1s\n",
      "[CV] n_neighbors=7, weights=uniform ..................................\n",
      "[CV]  n_neighbors=7, weights=uniform, score=(train=0.818, test=0.638), total=  22.7s\n",
      "[CV] n_neighbors=7, weights=uniform ..................................\n",
      "[CV]  n_neighbors=7, weights=uniform, score=(train=0.826, test=0.653), total=  23.1s\n",
      "[CV] n_neighbors=7, weights=uniform ..................................\n",
      "[CV]  n_neighbors=7, weights=uniform, score=(train=0.822, test=0.656), total=  21.4s\n",
      "[CV] n_neighbors=7, weights=uniform ..................................\n",
      "[CV]  n_neighbors=7, weights=uniform, score=(train=0.822, test=0.647), total=  22.5s\n",
      "[CV] n_neighbors=7, weights=uniform ..................................\n",
      "[CV]  n_neighbors=7, weights=uniform, score=(train=0.823, test=0.644), total=  19.2s\n",
      "[CV] n_neighbors=7, weights=distance .................................\n",
      "[CV]  n_neighbors=7, weights=distance, score=(train=1.000, test=0.663), total=  22.8s\n",
      "[CV] n_neighbors=7, weights=distance .................................\n",
      "[CV]  n_neighbors=7, weights=distance, score=(train=1.000, test=0.678), total=  22.7s\n",
      "[CV] n_neighbors=7, weights=distance .................................\n",
      "[CV]  n_neighbors=7, weights=distance, score=(train=1.000, test=0.680), total=  21.5s\n",
      "[CV] n_neighbors=7, weights=distance .................................\n",
      "[CV]  n_neighbors=7, weights=distance, score=(train=1.000, test=0.669), total=  22.3s\n",
      "[CV] n_neighbors=7, weights=distance .................................\n",
      "[CV]  n_neighbors=7, weights=distance, score=(train=1.000, test=0.668), total=  19.3s\n",
      "[CV] n_neighbors=9, weights=uniform ..................................\n",
      "[CV]  n_neighbors=9, weights=uniform, score=(train=0.793, test=0.630), total=  22.8s\n",
      "[CV] n_neighbors=9, weights=uniform ..................................\n",
      "[CV]  n_neighbors=9, weights=uniform, score=(train=0.801, test=0.645), total=  23.0s\n",
      "[CV] n_neighbors=9, weights=uniform ..................................\n",
      "[CV]  n_neighbors=9, weights=uniform, score=(train=0.796, test=0.650), total=  21.3s\n",
      "[CV] n_neighbors=9, weights=uniform ..................................\n",
      "[CV]  n_neighbors=9, weights=uniform, score=(train=0.797, test=0.639), total=  22.4s\n",
      "[CV] n_neighbors=9, weights=uniform ..................................\n",
      "[CV]  n_neighbors=9, weights=uniform, score=(train=0.800, test=0.633), total=  19.3s\n",
      "[CV] n_neighbors=9, weights=distance .................................\n",
      "[CV]  n_neighbors=9, weights=distance, score=(train=1.000, test=0.654), total=  22.6s\n",
      "[CV] n_neighbors=9, weights=distance .................................\n",
      "[CV]  n_neighbors=9, weights=distance, score=(train=1.000, test=0.669), total=  23.0s\n",
      "[CV] n_neighbors=9, weights=distance .................................\n",
      "[CV]  n_neighbors=9, weights=distance, score=(train=1.000, test=0.674), total=  21.7s\n",
      "[CV] n_neighbors=9, weights=distance .................................\n",
      "[CV]  n_neighbors=9, weights=distance, score=(train=1.000, test=0.661), total=  22.5s\n",
      "[CV] n_neighbors=9, weights=distance .................................\n",
      "[CV]  n_neighbors=9, weights=distance, score=(train=1.000, test=0.657), total=  19.2s\n",
      "[CV] n_neighbors=11, weights=uniform .................................\n",
      "[CV]  n_neighbors=11, weights=uniform, score=(train=0.774, test=0.624), total=  22.8s\n",
      "[CV] n_neighbors=11, weights=uniform .................................\n",
      "[CV]  n_neighbors=11, weights=uniform, score=(train=0.781, test=0.637), total=  22.7s\n",
      "[CV] n_neighbors=11, weights=uniform .................................\n",
      "[CV]  n_neighbors=11, weights=uniform, score=(train=0.776, test=0.639), total=  21.4s\n",
      "[CV] n_neighbors=11, weights=uniform .................................\n",
      "[CV]  n_neighbors=11, weights=uniform, score=(train=0.778, test=0.635), total=  22.4s\n",
      "[CV] n_neighbors=11, weights=uniform .................................\n",
      "[CV]  n_neighbors=11, weights=uniform, score=(train=0.780, test=0.624), total=  19.3s\n",
      "[CV] n_neighbors=11, weights=distance ................................\n",
      "[CV]  n_neighbors=11, weights=distance, score=(train=1.000, test=0.648), total=  22.8s\n",
      "[CV] n_neighbors=11, weights=distance ................................\n",
      "[CV]  n_neighbors=11, weights=distance, score=(train=1.000, test=0.661), total=  22.8s\n",
      "[CV] n_neighbors=11, weights=distance ................................\n",
      "[CV]  n_neighbors=11, weights=distance, score=(train=1.000, test=0.663), total=  21.5s\n",
      "[CV] n_neighbors=11, weights=distance ................................\n",
      "[CV]  n_neighbors=11, weights=distance, score=(train=1.000, test=0.657), total=  22.5s\n",
      "[CV] n_neighbors=11, weights=distance ................................\n",
      "[CV]  n_neighbors=11, weights=distance, score=(train=1.000, test=0.648), total=  19.2s\n"
     ]
    },
    {
     "name": "stderr",
     "output_type": "stream",
     "text": [
      "[Parallel(n_jobs=None)]: Done  50 out of  50 | elapsed: 85.8min finished\n"
     ]
    }
   ],
   "source": [
    "from sklearn.neighbors import KNeighborsClassifier\n",
    "#https://scikit-learn.org/stable/modules/generated/sklearn.linear_model.SGDClassifier.html\n",
    "knn_bigram_model = gridSearcher(KNeighborsClassifier(n_jobs=-1),\n",
    "                                   {\"n_neighbors\":[3,5,7,9,11],\"weights\":['uniform', 'distance']},\n",
    "                                   bigrams_train,\n",
    "                                   y_train)"
   ]
  },
  {
   "cell_type": "code",
   "execution_count": 41,
   "metadata": {},
   "outputs": [
    {
     "data": {
      "text/plain": [
       "Text(0.49, 1, 'Bag of Words - Bigram')"
      ]
     },
     "execution_count": 41,
     "metadata": {},
     "output_type": "execute_result"
    },
    {
     "data": {
      "text/plain": [
       "<Figure size 720x720 with 0 Axes>"
      ]
     },
     "metadata": {},
     "output_type": "display_data"
    },
    {
     "data": {
      "image/png": "[encoded data removed]",
      "text/plain": [
       "<Figure size 1440x360 with 4 Axes>"
      ]
     },
     "metadata": {
      "needs_background": "light"
     },
     "output_type": "display_data"
    }
   ],
   "source": [
    "plotAUCvsHyperParam(knn_bigram_model)\n",
    "plt.suptitle('Bag of Words - Bigram',fontsize=17,x=0.49,y = 1)"
   ]
  },
  {
   "cell_type": "code",
   "execution_count": 42,
   "metadata": {},
   "outputs": [
    {
     "data": {
      "image/png": "[encoded data removed]",
      "text/plain": [
       "<Figure size 432x288 with 1 Axes>"
      ]
     },
     "metadata": {
      "needs_background": "light"
     },
     "output_type": "display_data"
    }
   ],
   "source": [
    "plt.title(\"Bag of Words - Bigram\")\n",
    "rocCurve(knn_bigram_model,bigrams_train,y_train,bigrams_test,y_test)"
   ]
  },
  {
   "cell_type": "code",
   "execution_count": 43,
   "metadata": {},
   "outputs": [
    {
     "data": {
      "image/png": "[encoded data removed]",
      "text/plain": [
       "<Figure size 432x288 with 2 Axes>"
      ]
     },
     "metadata": {
      "needs_background": "light"
     },
     "output_type": "display_data"
    }
   ],
   "source": [
    "plt.title(\"Bag of Words - Bigram\")\n",
    "confusionMatrix(knn_bigram_model,bigrams_test,y_test)"
   ]
  },
  {
   "cell_type": "markdown",
   "metadata": {
    "colab_type": "text",
    "id": "5przjMTbiWOz"
   },
   "source": [
    "## [5.2] Applying Brute Force KNN on TFIDF"
   ]
  },
  {
   "cell_type": "code",
   "execution_count": 44,
   "metadata": {
    "colab": {},
    "colab_type": "code",
    "id": "Bm3mfI7miWOz"
   },
   "outputs": [
    {
     "name": "stdout",
     "output_type": "stream",
     "text": [
      "Fitting 5 folds for each of 10 candidates, totalling 50 fits\n",
      "[CV] n_neighbors=3, weights=uniform ..................................\n",
      "[CV]  n_neighbors=3, weights=uniform, score=(train=0.971, test=0.536), total=  15.8s\n",
      "[CV] n_neighbors=3, weights=uniform ..................................\n"
     ]
    },
    {
     "name": "stderr",
     "output_type": "stream",
     "text": [
      "[Parallel(n_jobs=None)]: Done   1 out of   1 | elapsed:  1.3min remaining:    0.0s\n"
     ]
    },
    {
     "name": "stdout",
     "output_type": "stream",
     "text": [
      "[CV]  n_neighbors=3, weights=uniform, score=(train=0.976, test=0.534), total=  15.7s\n",
      "[CV] n_neighbors=3, weights=uniform ..................................\n"
     ]
    },
    {
     "name": "stderr",
     "output_type": "stream",
     "text": [
      "[Parallel(n_jobs=None)]: Done   2 out of   2 | elapsed:  2.7min remaining:    0.0s\n"
     ]
    },
    {
     "name": "stdout",
     "output_type": "stream",
     "text": [
      "[CV]  n_neighbors=3, weights=uniform, score=(train=0.977, test=0.533), total=  16.3s\n",
      "[CV] n_neighbors=3, weights=uniform ..................................\n"
     ]
    },
    {
     "name": "stderr",
     "output_type": "stream",
     "text": [
      "[Parallel(n_jobs=None)]: Done   3 out of   3 | elapsed:  4.0min remaining:    0.0s\n"
     ]
    },
    {
     "name": "stdout",
     "output_type": "stream",
     "text": [
      "[CV]  n_neighbors=3, weights=uniform, score=(train=0.977, test=0.529), total=  15.9s\n",
      "[CV] n_neighbors=3, weights=uniform ..................................\n"
     ]
    },
    {
     "name": "stderr",
     "output_type": "stream",
     "text": [
      "[Parallel(n_jobs=None)]: Done   4 out of   4 | elapsed:  5.3min remaining:    0.0s\n"
     ]
    },
    {
     "name": "stdout",
     "output_type": "stream",
     "text": [
      "[CV]  n_neighbors=3, weights=uniform, score=(train=0.977, test=0.529), total=  16.0s\n",
      "[CV] n_neighbors=3, weights=distance .................................\n"
     ]
    },
    {
     "name": "stderr",
     "output_type": "stream",
     "text": [
      "[Parallel(n_jobs=None)]: Done   5 out of   5 | elapsed:  6.6min remaining:    0.0s\n"
     ]
    },
    {
     "name": "stdout",
     "output_type": "stream",
     "text": [
      "[CV]  n_neighbors=3, weights=distance, score=(train=1.000, test=0.548), total=  15.9s\n",
      "[CV] n_neighbors=3, weights=distance .................................\n"
     ]
    },
    {
     "name": "stderr",
     "output_type": "stream",
     "text": [
      "[Parallel(n_jobs=None)]: Done   6 out of   6 | elapsed:  8.0min remaining:    0.0s\n"
     ]
    },
    {
     "name": "stdout",
     "output_type": "stream",
     "text": [
      "[CV]  n_neighbors=3, weights=distance, score=(train=1.000, test=0.554), total=  16.0s\n",
      "[CV] n_neighbors=3, weights=distance .................................\n"
     ]
    },
    {
     "name": "stderr",
     "output_type": "stream",
     "text": [
      "[Parallel(n_jobs=None)]: Done   7 out of   7 | elapsed:  9.3min remaining:    0.0s\n"
     ]
    },
    {
     "name": "stdout",
     "output_type": "stream",
     "text": [
      "[CV]  n_neighbors=3, weights=distance, score=(train=1.000, test=0.551), total=  15.8s\n",
      "[CV] n_neighbors=3, weights=distance .................................\n"
     ]
    },
    {
     "name": "stderr",
     "output_type": "stream",
     "text": [
      "[Parallel(n_jobs=None)]: Done   8 out of   8 | elapsed: 10.6min remaining:    0.0s\n"
     ]
    },
    {
     "name": "stdout",
     "output_type": "stream",
     "text": [
      "[CV]  n_neighbors=3, weights=distance, score=(train=1.000, test=0.548), total=  16.0s\n",
      "[CV] n_neighbors=3, weights=distance .................................\n"
     ]
    },
    {
     "name": "stderr",
     "output_type": "stream",
     "text": [
      "[Parallel(n_jobs=None)]: Done   9 out of   9 | elapsed: 12.0min remaining:    0.0s\n"
     ]
    },
    {
     "name": "stdout",
     "output_type": "stream",
     "text": [
      "[CV]  n_neighbors=3, weights=distance, score=(train=1.000, test=0.549), total=  15.9s\n",
      "[CV] n_neighbors=5, weights=uniform ..................................\n",
      "[CV]  n_neighbors=5, weights=uniform, score=(train=0.763, test=0.517), total=  22.7s\n",
      "[CV] n_neighbors=5, weights=uniform ..................................\n",
      "[CV]  n_neighbors=5, weights=uniform, score=(train=0.763, test=0.523), total=  23.2s\n",
      "[CV] n_neighbors=5, weights=uniform ..................................\n",
      "[CV]  n_neighbors=5, weights=uniform, score=(train=0.775, test=0.526), total=  17.4s\n",
      "[CV] n_neighbors=5, weights=uniform ..................................\n",
      "[CV]  n_neighbors=5, weights=uniform, score=(train=0.767, test=0.514), total=  22.6s\n",
      "[CV] n_neighbors=5, weights=uniform ..................................\n",
      "[CV]  n_neighbors=5, weights=uniform, score=(train=0.770, test=0.514), total=  16.9s\n",
      "[CV] n_neighbors=5, weights=distance .................................\n",
      "[CV]  n_neighbors=5, weights=distance, score=(train=0.999, test=0.530), total=  23.1s\n",
      "[CV] n_neighbors=5, weights=distance .................................\n",
      "[CV]  n_neighbors=5, weights=distance, score=(train=1.000, test=0.537), total=  23.0s\n",
      "[CV] n_neighbors=5, weights=distance .................................\n",
      "[CV]  n_neighbors=5, weights=distance, score=(train=1.000, test=0.539), total=  17.0s\n",
      "[CV] n_neighbors=5, weights=distance .................................\n",
      "[CV]  n_neighbors=5, weights=distance, score=(train=1.000, test=0.527), total=  22.5s\n",
      "[CV] n_neighbors=5, weights=distance .................................\n",
      "[CV]  n_neighbors=5, weights=distance, score=(train=1.000, test=0.528), total=  17.0s\n",
      "[CV] n_neighbors=7, weights=uniform ..................................\n",
      "[CV]  n_neighbors=7, weights=uniform, score=(train=0.726, test=0.515), total=  23.1s\n",
      "[CV] n_neighbors=7, weights=uniform ..................................\n",
      "[CV]  n_neighbors=7, weights=uniform, score=(train=0.726, test=0.523), total=  23.2s\n",
      "[CV] n_neighbors=7, weights=uniform ..................................\n",
      "[CV]  n_neighbors=7, weights=uniform, score=(train=0.741, test=0.527), total=  17.3s\n",
      "[CV] n_neighbors=7, weights=uniform ..................................\n",
      "[CV]  n_neighbors=7, weights=uniform, score=(train=0.729, test=0.510), total=  22.7s\n",
      "[CV] n_neighbors=7, weights=uniform ..................................\n",
      "[CV]  n_neighbors=7, weights=uniform, score=(train=0.735, test=0.516), total=  17.0s\n",
      "[CV] n_neighbors=7, weights=distance .................................\n",
      "[CV]  n_neighbors=7, weights=distance, score=(train=1.000, test=0.526), total=  22.8s\n",
      "[CV] n_neighbors=7, weights=distance .................................\n",
      "[CV]  n_neighbors=7, weights=distance, score=(train=1.000, test=0.537), total=  22.9s\n",
      "[CV] n_neighbors=7, weights=distance .................................\n",
      "[CV]  n_neighbors=7, weights=distance, score=(train=1.000, test=0.539), total=  17.2s\n",
      "[CV] n_neighbors=7, weights=distance .................................\n",
      "[CV]  n_neighbors=7, weights=distance, score=(train=1.000, test=0.521), total=  22.3s\n",
      "[CV] n_neighbors=7, weights=distance .................................\n",
      "[CV]  n_neighbors=7, weights=distance, score=(train=1.000, test=0.527), total=  17.0s\n",
      "[CV] n_neighbors=9, weights=uniform ..................................\n",
      "[CV]  n_neighbors=9, weights=uniform, score=(train=0.702, test=0.515), total=  23.0s\n",
      "[CV] n_neighbors=9, weights=uniform ..................................\n",
      "[CV]  n_neighbors=9, weights=uniform, score=(train=0.703, test=0.523), total=  23.2s\n",
      "[CV] n_neighbors=9, weights=uniform ..................................\n",
      "[CV]  n_neighbors=9, weights=uniform, score=(train=0.718, test=0.528), total=  17.5s\n",
      "[CV] n_neighbors=9, weights=uniform ..................................\n",
      "[CV]  n_neighbors=9, weights=uniform, score=(train=0.703, test=0.508), total=  22.7s\n",
      "[CV] n_neighbors=9, weights=uniform ..................................\n",
      "[CV]  n_neighbors=9, weights=uniform, score=(train=0.712, test=0.518), total=  17.1s\n",
      "[CV] n_neighbors=9, weights=distance .................................\n",
      "[CV]  n_neighbors=9, weights=distance, score=(train=1.000, test=0.525), total=  22.9s\n",
      "[CV] n_neighbors=9, weights=distance .................................\n",
      "[CV]  n_neighbors=9, weights=distance, score=(train=1.000, test=0.536), total=  23.3s\n",
      "[CV] n_neighbors=9, weights=distance .................................\n",
      "[CV]  n_neighbors=9, weights=distance, score=(train=1.000, test=0.539), total=  17.1s\n",
      "[CV] n_neighbors=9, weights=distance .................................\n",
      "[CV]  n_neighbors=9, weights=distance, score=(train=1.000, test=0.519), total=  22.6s\n",
      "[CV] n_neighbors=9, weights=distance .................................\n",
      "[CV]  n_neighbors=9, weights=distance, score=(train=1.000, test=0.528), total=  17.2s\n",
      "[CV] n_neighbors=11, weights=uniform .................................\n",
      "[CV]  n_neighbors=11, weights=uniform, score=(train=0.687, test=0.515), total=  22.9s\n",
      "[CV] n_neighbors=11, weights=uniform .................................\n",
      "[CV]  n_neighbors=11, weights=uniform, score=(train=0.685, test=0.523), total=  23.1s\n",
      "[CV] n_neighbors=11, weights=uniform .................................\n",
      "[CV]  n_neighbors=11, weights=uniform, score=(train=0.701, test=0.522), total=  17.5s\n",
      "[CV] n_neighbors=11, weights=uniform .................................\n",
      "[CV]  n_neighbors=11, weights=uniform, score=(train=0.685, test=0.507), total=  22.5s\n",
      "[CV] n_neighbors=11, weights=uniform .................................\n",
      "[CV]  n_neighbors=11, weights=uniform, score=(train=0.695, test=0.514), total=  17.1s\n",
      "[CV] n_neighbors=11, weights=distance ................................\n",
      "[CV]  n_neighbors=11, weights=distance, score=(train=1.000, test=0.524), total=  23.0s\n",
      "[CV] n_neighbors=11, weights=distance ................................\n",
      "[CV]  n_neighbors=11, weights=distance, score=(train=1.000, test=0.534), total=  23.0s\n",
      "[CV] n_neighbors=11, weights=distance ................................\n",
      "[CV]  n_neighbors=11, weights=distance, score=(train=1.000, test=0.534), total=  17.2s\n",
      "[CV] n_neighbors=11, weights=distance ................................\n",
      "[CV]  n_neighbors=11, weights=distance, score=(train=1.000, test=0.516), total=  22.5s\n",
      "[CV] n_neighbors=11, weights=distance ................................\n",
      "[CV]  n_neighbors=11, weights=distance, score=(train=1.000, test=0.524), total=  17.1s\n"
     ]
    },
    {
     "name": "stderr",
     "output_type": "stream",
     "text": [
      "[Parallel(n_jobs=None)]: Done  50 out of  50 | elapsed: 82.0min finished\n"
     ]
    }
   ],
   "source": [
    "knn_tfidf_bigram_model = gridSearcher(KNeighborsClassifier(n_jobs=-1),\n",
    "                                   {\"n_neighbors\":[3,5,7,9,11],\"weights\":['uniform', 'distance']},\n",
    "                                         tfidf_bigrams_train,\n",
    "                                         y_train)"
   ]
  },
  {
   "cell_type": "code",
   "execution_count": 45,
   "metadata": {},
   "outputs": [
    {
     "data": {
      "text/plain": [
       "Text(0.49, 1, 'Tfidf - Bigram')"
      ]
     },
     "execution_count": 45,
     "metadata": {},
     "output_type": "execute_result"
    },
    {
     "data": {
      "text/plain": [
       "<Figure size 720x720 with 0 Axes>"
      ]
     },
     "metadata": {},
     "output_type": "display_data"
    },
    {
     "data": {
      "image/png": "[encoded data removed]",
      "text/plain": [
       "<Figure size 1440x360 with 4 Axes>"
      ]
     },
     "metadata": {
      "needs_background": "light"
     },
     "output_type": "display_data"
    }
   ],
   "source": [
    "plotAUCvsHyperParam(knn_tfidf_bigram_model)\n",
    "plt.suptitle('Tfidf - Bigram',fontsize=17,x=0.49,y = 1)"
   ]
  },
  {
   "cell_type": "code",
   "execution_count": 46,
   "metadata": {},
   "outputs": [
    {
     "data": {
      "image/png": "[encoded data removed]",
      "text/plain": [
       "<Figure size 432x288 with 1 Axes>"
      ]
     },
     "metadata": {
      "needs_background": "light"
     },
     "output_type": "display_data"
    }
   ],
   "source": [
    "plt.title(\"tfidf - Bigram\")\n",
    "rocCurve(knn_tfidf_bigram_model,tfidf_bigrams_train,y_train,tfidf_bigrams_test,y_test)"
   ]
  },
  {
   "cell_type": "code",
   "execution_count": 47,
   "metadata": {},
   "outputs": [
    {
     "data": {
      "image/png": "[encoded data removed]",
      "text/plain": [
       "<Figure size 432x288 with 2 Axes>"
      ]
     },
     "metadata": {
      "needs_background": "light"
     },
     "output_type": "display_data"
    }
   ],
   "source": [
    "plt.title(\"TfIdf - Bigram\")\n",
    "confusionMatrix(knn_tfidf_bigram_model,tfidf_bigrams_test,y_test)"
   ]
  },
  {
   "cell_type": "markdown",
   "metadata": {},
   "source": [
    "## [5.3] Applying Brute Force KNN on Average Word2VEC"
   ]
  },
  {
   "cell_type": "code",
   "execution_count": 48,
   "metadata": {
    "colab": {},
    "colab_type": "code",
    "id": "uYDXnzMmiWO5"
   },
   "outputs": [
    {
     "name": "stdout",
     "output_type": "stream",
     "text": [
      "Fitting 5 folds for each of 10 candidates, totalling 50 fits\n",
      "[CV] n_neighbors=3, weights=uniform ..................................\n",
      "[CV]  n_neighbors=3, weights=uniform, score=(train=0.867, test=0.620), total=  30.4s\n",
      "[CV] n_neighbors=3, weights=uniform ..................................\n"
     ]
    },
    {
     "name": "stderr",
     "output_type": "stream",
     "text": [
      "[Parallel(n_jobs=None)]: Done   1 out of   1 | elapsed:  2.5min remaining:    0.0s\n"
     ]
    },
    {
     "name": "stdout",
     "output_type": "stream",
     "text": [
      "[CV]  n_neighbors=3, weights=uniform, score=(train=0.870, test=0.621), total=  38.0s\n",
      "[CV] n_neighbors=3, weights=uniform ..................................\n"
     ]
    },
    {
     "name": "stderr",
     "output_type": "stream",
     "text": [
      "[Parallel(n_jobs=None)]: Done   2 out of   2 | elapsed:  5.7min remaining:    0.0s\n"
     ]
    },
    {
     "name": "stdout",
     "output_type": "stream",
     "text": [
      "[CV]  n_neighbors=3, weights=uniform, score=(train=0.867, test=0.622), total=  35.7s\n",
      "[CV] n_neighbors=3, weights=uniform ..................................\n"
     ]
    },
    {
     "name": "stderr",
     "output_type": "stream",
     "text": [
      "[Parallel(n_jobs=None)]: Done   3 out of   3 | elapsed:  8.6min remaining:    0.0s\n"
     ]
    },
    {
     "name": "stdout",
     "output_type": "stream",
     "text": [
      "[CV]  n_neighbors=3, weights=uniform, score=(train=0.866, test=0.626), total=  35.7s\n",
      "[CV] n_neighbors=3, weights=uniform ..................................\n"
     ]
    },
    {
     "name": "stderr",
     "output_type": "stream",
     "text": [
      "[Parallel(n_jobs=None)]: Done   4 out of   4 | elapsed: 11.5min remaining:    0.0s\n"
     ]
    },
    {
     "name": "stdout",
     "output_type": "stream",
     "text": [
      "[CV]  n_neighbors=3, weights=uniform, score=(train=0.866, test=0.619), total=  35.7s\n",
      "[CV] n_neighbors=3, weights=distance .................................\n"
     ]
    },
    {
     "name": "stderr",
     "output_type": "stream",
     "text": [
      "[Parallel(n_jobs=None)]: Done   5 out of   5 | elapsed: 14.5min remaining:    0.0s\n"
     ]
    },
    {
     "name": "stdout",
     "output_type": "stream",
     "text": [
      "[CV]  n_neighbors=3, weights=distance, score=(train=1.000, test=0.626), total=  35.7s\n",
      "[CV] n_neighbors=3, weights=distance .................................\n"
     ]
    },
    {
     "name": "stderr",
     "output_type": "stream",
     "text": [
      "[Parallel(n_jobs=None)]: Done   6 out of   6 | elapsed: 17.4min remaining:    0.0s\n"
     ]
    },
    {
     "name": "stdout",
     "output_type": "stream",
     "text": [
      "[CV]  n_neighbors=3, weights=distance, score=(train=1.000, test=0.628), total=  21.4s\n",
      "[CV] n_neighbors=3, weights=distance .................................\n"
     ]
    },
    {
     "name": "stderr",
     "output_type": "stream",
     "text": [
      "[Parallel(n_jobs=None)]: Done   7 out of   7 | elapsed: 19.2min remaining:    0.0s\n"
     ]
    },
    {
     "name": "stdout",
     "output_type": "stream",
     "text": [
      "[CV]  n_neighbors=3, weights=distance, score=(train=1.000, test=0.629), total=  40.2s\n",
      "[CV] n_neighbors=3, weights=distance .................................\n"
     ]
    },
    {
     "name": "stderr",
     "output_type": "stream",
     "text": [
      "[Parallel(n_jobs=None)]: Done   8 out of   8 | elapsed: 22.5min remaining:    0.0s\n"
     ]
    },
    {
     "name": "stdout",
     "output_type": "stream",
     "text": [
      "[CV]  n_neighbors=3, weights=distance, score=(train=0.999, test=0.632), total=  20.4s\n",
      "[CV] n_neighbors=3, weights=distance .................................\n"
     ]
    },
    {
     "name": "stderr",
     "output_type": "stream",
     "text": [
      "[Parallel(n_jobs=None)]: Done   9 out of   9 | elapsed: 24.2min remaining:    0.0s\n"
     ]
    },
    {
     "name": "stdout",
     "output_type": "stream",
     "text": [
      "[CV]  n_neighbors=3, weights=distance, score=(train=0.999, test=0.625), total=  20.3s\n",
      "[CV] n_neighbors=5, weights=uniform ..................................\n",
      "[CV]  n_neighbors=5, weights=uniform, score=(train=0.827, test=0.639), total=  20.4s\n",
      "[CV] n_neighbors=5, weights=uniform ..................................\n",
      "[CV]  n_neighbors=5, weights=uniform, score=(train=0.827, test=0.640), total=  39.7s\n",
      "[CV] n_neighbors=5, weights=uniform ..................................\n",
      "[CV]  n_neighbors=5, weights=uniform, score=(train=0.826, test=0.637), total=  39.7s\n",
      "[CV] n_neighbors=5, weights=uniform ..................................\n",
      "[CV]  n_neighbors=5, weights=uniform, score=(train=0.822, test=0.644), total=  39.7s\n",
      "[CV] n_neighbors=5, weights=uniform ..................................\n",
      "[CV]  n_neighbors=5, weights=uniform, score=(train=0.825, test=0.639), total=  39.7s\n",
      "[CV] n_neighbors=5, weights=distance .................................\n",
      "[CV]  n_neighbors=5, weights=distance, score=(train=1.000, test=0.646), total=  38.4s\n",
      "[CV] n_neighbors=5, weights=distance .................................\n",
      "[CV]  n_neighbors=5, weights=distance, score=(train=1.000, test=0.647), total=  38.3s\n",
      "[CV] n_neighbors=5, weights=distance .................................\n",
      "[CV]  n_neighbors=5, weights=distance, score=(train=1.000, test=0.645), total=  26.1s\n",
      "[CV] n_neighbors=5, weights=distance .................................\n",
      "[CV]  n_neighbors=5, weights=distance, score=(train=1.000, test=0.652), total=  20.3s\n",
      "[CV] n_neighbors=5, weights=distance .................................\n",
      "[CV]  n_neighbors=5, weights=distance, score=(train=0.999, test=0.644), total=  37.9s\n",
      "[CV] n_neighbors=7, weights=uniform ..................................\n",
      "[CV]  n_neighbors=7, weights=uniform, score=(train=0.805, test=0.651), total=  39.6s\n",
      "[CV] n_neighbors=7, weights=uniform ..................................\n",
      "[CV]  n_neighbors=7, weights=uniform, score=(train=0.804, test=0.647), total=  45.8s\n",
      "[CV] n_neighbors=7, weights=uniform ..................................\n",
      "[CV]  n_neighbors=7, weights=uniform, score=(train=0.800, test=0.646), total=  45.9s\n",
      "[CV] n_neighbors=7, weights=uniform ..................................\n",
      "[CV]  n_neighbors=7, weights=uniform, score=(train=0.806, test=0.656), total=  26.2s\n",
      "[CV] n_neighbors=7, weights=uniform ..................................\n",
      "[CV]  n_neighbors=7, weights=uniform, score=(train=0.806, test=0.654), total=  20.2s\n",
      "[CV] n_neighbors=7, weights=distance .................................\n",
      "[CV]  n_neighbors=7, weights=distance, score=(train=1.000, test=0.658), total=  39.6s\n",
      "[CV] n_neighbors=7, weights=distance .................................\n",
      "[CV]  n_neighbors=7, weights=distance, score=(train=1.000, test=0.654), total=  39.5s\n",
      "[CV] n_neighbors=7, weights=distance .................................\n",
      "[CV]  n_neighbors=7, weights=distance, score=(train=1.000, test=0.653), total=  23.7s\n",
      "[CV] n_neighbors=7, weights=distance .................................\n",
      "[CV]  n_neighbors=7, weights=distance, score=(train=1.000, test=0.664), total=  30.1s\n",
      "[CV] n_neighbors=7, weights=distance .................................\n",
      "[CV]  n_neighbors=7, weights=distance, score=(train=1.000, test=0.659), total=  37.0s\n",
      "[CV] n_neighbors=9, weights=uniform ..................................\n",
      "[CV]  n_neighbors=9, weights=uniform, score=(train=0.792, test=0.659), total=  39.6s\n",
      "[CV] n_neighbors=9, weights=uniform ..................................\n",
      "[CV]  n_neighbors=9, weights=uniform, score=(train=0.789, test=0.652), total=  39.5s\n",
      "[CV] n_neighbors=9, weights=uniform ..................................\n",
      "[CV]  n_neighbors=9, weights=uniform, score=(train=0.783, test=0.651), total=  26.4s\n",
      "[CV] n_neighbors=9, weights=uniform ..................................\n",
      "[CV]  n_neighbors=9, weights=uniform, score=(train=0.794, test=0.661), total=  26.2s\n",
      "[CV] n_neighbors=9, weights=uniform ..................................\n",
      "[CV]  n_neighbors=9, weights=uniform, score=(train=0.794, test=0.663), total=  26.3s\n",
      "[CV] n_neighbors=9, weights=distance .................................\n",
      "[CV]  n_neighbors=9, weights=distance, score=(train=1.000, test=0.665), total=  26.3s\n",
      "[CV] n_neighbors=9, weights=distance .................................\n",
      "[CV]  n_neighbors=9, weights=distance, score=(train=1.000, test=0.659), total=  26.2s\n",
      "[CV] n_neighbors=9, weights=distance .................................\n",
      "[CV]  n_neighbors=9, weights=distance, score=(train=1.000, test=0.658), total=  26.3s\n",
      "[CV] n_neighbors=9, weights=distance .................................\n",
      "[CV]  n_neighbors=9, weights=distance, score=(train=1.000, test=0.669), total=  26.2s\n",
      "[CV] n_neighbors=9, weights=distance .................................\n",
      "[CV]  n_neighbors=9, weights=distance, score=(train=1.000, test=0.668), total=  26.2s\n",
      "[CV] n_neighbors=11, weights=uniform .................................\n",
      "[CV]  n_neighbors=11, weights=uniform, score=(train=0.784, test=0.665), total=  26.3s\n",
      "[CV] n_neighbors=11, weights=uniform .................................\n",
      "[CV]  n_neighbors=11, weights=uniform, score=(train=0.779, test=0.655), total=  26.3s\n",
      "[CV] n_neighbors=11, weights=uniform .................................\n",
      "[CV]  n_neighbors=11, weights=uniform, score=(train=0.771, test=0.654), total=  20.8s\n",
      "[CV] n_neighbors=11, weights=uniform .................................\n",
      "[CV]  n_neighbors=11, weights=uniform, score=(train=0.785, test=0.668), total=  20.8s\n",
      "[CV] n_neighbors=11, weights=uniform .................................\n",
      "[CV]  n_neighbors=11, weights=uniform, score=(train=0.786, test=0.667), total=  20.3s\n",
      "[CV] n_neighbors=11, weights=distance ................................\n",
      "[CV]  n_neighbors=11, weights=distance, score=(train=1.000, test=0.672), total=  26.3s\n",
      "[CV] n_neighbors=11, weights=distance ................................\n",
      "[CV]  n_neighbors=11, weights=distance, score=(train=1.000, test=0.662), total=  26.3s\n",
      "[CV] n_neighbors=11, weights=distance ................................\n",
      "[CV]  n_neighbors=11, weights=distance, score=(train=1.000, test=0.661), total=  45.9s\n",
      "[CV] n_neighbors=11, weights=distance ................................\n",
      "[CV]  n_neighbors=11, weights=distance, score=(train=1.000, test=0.674), total=  45.8s\n",
      "[CV] n_neighbors=11, weights=distance ................................\n",
      "[CV]  n_neighbors=11, weights=distance, score=(train=1.000, test=0.673), total=  39.6s\n"
     ]
    },
    {
     "name": "stderr",
     "output_type": "stream",
     "text": [
      "[Parallel(n_jobs=None)]: Done  50 out of  50 | elapsed: 131.1min finished\n"
     ]
    }
   ],
   "source": [
    "knn_avgW2v_model = gridSearcher(KNeighborsClassifier(n_jobs=-1),\n",
    "                                   {\"n_neighbors\":[3,5,7,9,11],\"weights\":['uniform', 'distance']},\n",
    "                                   trainWord2Vectors,\n",
    "                                   y_train)"
   ]
  },
  {
   "cell_type": "code",
   "execution_count": 49,
   "metadata": {},
   "outputs": [
    {
     "data": {
      "text/plain": [
       "Text(0.49, 1, 'Average Word2Vec')"
      ]
     },
     "execution_count": 49,
     "metadata": {},
     "output_type": "execute_result"
    },
    {
     "data": {
      "text/plain": [
       "<Figure size 720x720 with 0 Axes>"
      ]
     },
     "metadata": {},
     "output_type": "display_data"
    },
    {
     "data": {
      "image/png": "[encoded data removed]",
      "text/plain": [
       "<Figure size 1440x360 with 4 Axes>"
      ]
     },
     "metadata": {
      "needs_background": "light"
     },
     "output_type": "display_data"
    }
   ],
   "source": [
    "plotAUCvsHyperParam(knn_avgW2v_model)\n",
    "plt.suptitle('Average Word2Vec',fontsize=17,x=0.49,y = 1)"
   ]
  },
  {
   "cell_type": "code",
   "execution_count": 50,
   "metadata": {},
   "outputs": [
    {
     "data": {
      "image/png": "[encoded data removed]",
      "text/plain": [
       "<Figure size 432x288 with 1 Axes>"
      ]
     },
     "metadata": {
      "needs_background": "light"
     },
     "output_type": "display_data"
    }
   ],
   "source": [
    "plt.title(\"Average Word2Vec\")\n",
    "rocCurve(knn_avgW2v_model,trainWord2Vectors,y_train,testWord2Vectors,y_test)"
   ]
  },
  {
   "cell_type": "code",
   "execution_count": 51,
   "metadata": {},
   "outputs": [
    {
     "data": {
      "image/png": "[encoded data removed]",
      "text/plain": [
       "<Figure size 432x288 with 2 Axes>"
      ]
     },
     "metadata": {
      "needs_background": "light"
     },
     "output_type": "display_data"
    }
   ],
   "source": [
    "plt.title(\"Average Word2vec\")\n",
    "confusionMatrix(knn_avgW2v_model,testWord2Vectors,y_test)"
   ]
  },
  {
   "cell_type": "markdown",
   "metadata": {
    "colab_type": "text",
    "id": "PnwVzXytiWO7"
   },
   "source": [
    "## [5.4] Applying Brute Force KNN on TFIDF Weighted W2V"
   ]
  },
  {
   "cell_type": "code",
   "execution_count": 52,
   "metadata": {
    "colab": {},
    "colab_type": "code",
    "id": "YqODkVCgiWO7"
   },
   "outputs": [
    {
     "name": "stdout",
     "output_type": "stream",
     "text": [
      "Fitting 5 folds for each of 10 candidates, totalling 50 fits\n",
      "[CV] n_neighbors=3, weights=uniform ..................................\n",
      "[CV]  n_neighbors=3, weights=uniform, score=(train=0.868, test=0.624), total=  37.2s\n",
      "[CV] n_neighbors=3, weights=uniform ..................................\n"
     ]
    },
    {
     "name": "stderr",
     "output_type": "stream",
     "text": [
      "[Parallel(n_jobs=None)]: Done   1 out of   1 | elapsed:  3.1min remaining:    0.0s\n"
     ]
    },
    {
     "name": "stdout",
     "output_type": "stream",
     "text": [
      "[CV]  n_neighbors=3, weights=uniform, score=(train=0.872, test=0.620), total=  34.5s\n",
      "[CV] n_neighbors=3, weights=uniform ..................................\n"
     ]
    },
    {
     "name": "stderr",
     "output_type": "stream",
     "text": [
      "[Parallel(n_jobs=None)]: Done   2 out of   2 | elapsed:  5.9min remaining:    0.0s\n"
     ]
    },
    {
     "name": "stdout",
     "output_type": "stream",
     "text": [
      "[CV]  n_neighbors=3, weights=uniform, score=(train=0.871, test=0.617), total=  34.5s\n",
      "[CV] n_neighbors=3, weights=uniform ..................................\n"
     ]
    },
    {
     "name": "stderr",
     "output_type": "stream",
     "text": [
      "[Parallel(n_jobs=None)]: Done   3 out of   3 | elapsed:  8.8min remaining:    0.0s\n"
     ]
    },
    {
     "name": "stdout",
     "output_type": "stream",
     "text": [
      "[CV]  n_neighbors=3, weights=uniform, score=(train=0.874, test=0.631), total=  36.2s\n",
      "[CV] n_neighbors=3, weights=uniform ..................................\n"
     ]
    },
    {
     "name": "stderr",
     "output_type": "stream",
     "text": [
      "[Parallel(n_jobs=None)]: Done   4 out of   4 | elapsed: 11.8min remaining:    0.0s\n"
     ]
    },
    {
     "name": "stdout",
     "output_type": "stream",
     "text": [
      "[CV]  n_neighbors=3, weights=uniform, score=(train=0.873, test=0.622), total=  36.2s\n",
      "[CV] n_neighbors=3, weights=distance .................................\n"
     ]
    },
    {
     "name": "stderr",
     "output_type": "stream",
     "text": [
      "[Parallel(n_jobs=None)]: Done   5 out of   5 | elapsed: 14.8min remaining:    0.0s\n"
     ]
    },
    {
     "name": "stdout",
     "output_type": "stream",
     "text": [
      "[CV]  n_neighbors=3, weights=distance, score=(train=0.999, test=0.631), total=  36.2s\n",
      "[CV] n_neighbors=3, weights=distance .................................\n"
     ]
    },
    {
     "name": "stderr",
     "output_type": "stream",
     "text": [
      "[Parallel(n_jobs=None)]: Done   6 out of   6 | elapsed: 17.8min remaining:    0.0s\n"
     ]
    },
    {
     "name": "stdout",
     "output_type": "stream",
     "text": [
      "[CV]  n_neighbors=3, weights=distance, score=(train=0.999, test=0.626), total=  37.5s\n",
      "[CV] n_neighbors=3, weights=distance .................................\n"
     ]
    },
    {
     "name": "stderr",
     "output_type": "stream",
     "text": [
      "[Parallel(n_jobs=None)]: Done   7 out of   7 | elapsed: 20.8min remaining:    0.0s\n"
     ]
    },
    {
     "name": "stdout",
     "output_type": "stream",
     "text": [
      "[CV]  n_neighbors=3, weights=distance, score=(train=1.000, test=0.625), total=  34.5s\n",
      "[CV] n_neighbors=3, weights=distance .................................\n"
     ]
    },
    {
     "name": "stderr",
     "output_type": "stream",
     "text": [
      "[Parallel(n_jobs=None)]: Done   8 out of   8 | elapsed: 23.7min remaining:    0.0s\n"
     ]
    },
    {
     "name": "stdout",
     "output_type": "stream",
     "text": [
      "[CV]  n_neighbors=3, weights=distance, score=(train=1.000, test=0.636), total=  36.2s\n",
      "[CV] n_neighbors=3, weights=distance .................................\n"
     ]
    },
    {
     "name": "stderr",
     "output_type": "stream",
     "text": [
      "[Parallel(n_jobs=None)]: Done   9 out of   9 | elapsed: 26.7min remaining:    0.0s\n"
     ]
    },
    {
     "name": "stdout",
     "output_type": "stream",
     "text": [
      "[CV]  n_neighbors=3, weights=distance, score=(train=1.000, test=0.629), total=  36.2s\n",
      "[CV] n_neighbors=5, weights=uniform ..................................\n",
      "[CV]  n_neighbors=5, weights=uniform, score=(train=0.820, test=0.638), total=  36.3s\n",
      "[CV] n_neighbors=5, weights=uniform ..................................\n",
      "[CV]  n_neighbors=5, weights=uniform, score=(train=0.825, test=0.633), total=  25.2s\n",
      "[CV] n_neighbors=5, weights=uniform ..................................\n",
      "[CV]  n_neighbors=5, weights=uniform, score=(train=0.823, test=0.635), total=  36.3s\n",
      "[CV] n_neighbors=5, weights=uniform ..................................\n",
      "[CV]  n_neighbors=5, weights=uniform, score=(train=0.826, test=0.643), total=  37.6s\n",
      "[CV] n_neighbors=5, weights=uniform ..................................\n",
      "[CV]  n_neighbors=5, weights=uniform, score=(train=0.830, test=0.634), total=  36.4s\n",
      "[CV] n_neighbors=5, weights=distance .................................\n",
      "[CV]  n_neighbors=5, weights=distance, score=(train=0.999, test=0.646), total=  34.6s\n",
      "[CV] n_neighbors=5, weights=distance .................................\n",
      "[CV]  n_neighbors=5, weights=distance, score=(train=1.000, test=0.641), total=  34.5s\n",
      "[CV] n_neighbors=5, weights=distance .................................\n",
      "[CV]  n_neighbors=5, weights=distance, score=(train=1.000, test=0.642), total=  36.4s\n",
      "[CV] n_neighbors=5, weights=distance .................................\n",
      "[CV]  n_neighbors=5, weights=distance, score=(train=1.000, test=0.650), total=  36.3s\n",
      "[CV] n_neighbors=5, weights=distance .................................\n",
      "[CV]  n_neighbors=5, weights=distance, score=(train=1.000, test=0.642), total=  43.8s\n",
      "[CV] n_neighbors=7, weights=uniform ..................................\n",
      "[CV]  n_neighbors=7, weights=uniform, score=(train=0.792, test=0.648), total=  34.7s\n",
      "[CV] n_neighbors=7, weights=uniform ..................................\n",
      "[CV]  n_neighbors=7, weights=uniform, score=(train=0.802, test=0.640), total=  34.5s\n",
      "[CV] n_neighbors=7, weights=uniform ..................................\n",
      "[CV]  n_neighbors=7, weights=uniform, score=(train=0.804, test=0.641), total=  36.3s\n",
      "[CV] n_neighbors=7, weights=uniform ..................................\n",
      "[CV]  n_neighbors=7, weights=uniform, score=(train=0.804, test=0.653), total=  38.8s\n",
      "[CV] n_neighbors=7, weights=uniform ..................................\n",
      "[CV]  n_neighbors=7, weights=uniform, score=(train=0.805, test=0.643), total=  36.3s\n",
      "[CV] n_neighbors=7, weights=distance .................................\n",
      "[CV]  n_neighbors=7, weights=distance, score=(train=1.000, test=0.656), total=  42.8s\n",
      "[CV] n_neighbors=7, weights=distance .................................\n",
      "[CV]  n_neighbors=7, weights=distance, score=(train=1.000, test=0.647), total=  38.5s\n",
      "[CV] n_neighbors=7, weights=distance .................................\n",
      "[CV]  n_neighbors=7, weights=distance, score=(train=1.000, test=0.648), total=  36.5s\n",
      "[CV] n_neighbors=7, weights=distance .................................\n",
      "[CV]  n_neighbors=7, weights=distance, score=(train=1.000, test=0.659), total=  21.2s\n",
      "[CV] n_neighbors=7, weights=distance .................................\n",
      "[CV]  n_neighbors=7, weights=distance, score=(train=1.000, test=0.650), total=  21.2s\n",
      "[CV] n_neighbors=9, weights=uniform ..................................\n",
      "[CV]  n_neighbors=9, weights=uniform, score=(train=0.777, test=0.655), total=  34.6s\n",
      "[CV] n_neighbors=9, weights=uniform ..................................\n",
      "[CV]  n_neighbors=9, weights=uniform, score=(train=0.786, test=0.646), total=  34.5s\n",
      "[CV] n_neighbors=9, weights=uniform ..................................\n",
      "[CV]  n_neighbors=9, weights=uniform, score=(train=0.787, test=0.647), total=  42.9s\n",
      "[CV] n_neighbors=9, weights=uniform ..................................\n",
      "[CV]  n_neighbors=9, weights=uniform, score=(train=0.791, test=0.659), total=  37.3s\n",
      "[CV] n_neighbors=9, weights=uniform ..................................\n",
      "[CV]  n_neighbors=9, weights=uniform, score=(train=0.789, test=0.650), total=  37.6s\n",
      "[CV] n_neighbors=9, weights=distance .................................\n",
      "[CV]  n_neighbors=9, weights=distance, score=(train=1.000, test=0.662), total=  21.2s\n",
      "[CV] n_neighbors=9, weights=distance .................................\n",
      "[CV]  n_neighbors=9, weights=distance, score=(train=1.000, test=0.652), total=  21.2s\n",
      "[CV] n_neighbors=9, weights=distance .................................\n",
      "[CV]  n_neighbors=9, weights=distance, score=(train=1.000, test=0.654), total=  21.6s\n",
      "[CV] n_neighbors=9, weights=distance .................................\n",
      "[CV]  n_neighbors=9, weights=distance, score=(train=1.000, test=0.665), total=  38.2s\n",
      "[CV] n_neighbors=9, weights=distance .................................\n",
      "[CV]  n_neighbors=9, weights=distance, score=(train=1.000, test=0.656), total=  38.2s\n",
      "[CV] n_neighbors=11, weights=uniform .................................\n",
      "[CV]  n_neighbors=11, weights=uniform, score=(train=0.761, test=0.656), total=  38.3s\n",
      "[CV] n_neighbors=11, weights=uniform .................................\n",
      "[CV]  n_neighbors=11, weights=uniform, score=(train=0.774, test=0.647), total=  38.2s\n",
      "[CV] n_neighbors=11, weights=uniform .................................\n",
      "[CV]  n_neighbors=11, weights=uniform, score=(train=0.777, test=0.646), total=  38.3s\n",
      "[CV] n_neighbors=11, weights=uniform .................................\n",
      "[CV]  n_neighbors=11, weights=uniform, score=(train=0.781, test=0.662), total=  38.2s\n",
      "[CV] n_neighbors=11, weights=uniform .................................\n",
      "[CV]  n_neighbors=11, weights=uniform, score=(train=0.775, test=0.657), total=  38.3s\n",
      "[CV] n_neighbors=11, weights=distance ................................\n",
      "[CV]  n_neighbors=11, weights=distance, score=(train=1.000, test=0.663), total=  38.5s\n",
      "[CV] n_neighbors=11, weights=distance ................................\n",
      "[CV]  n_neighbors=11, weights=distance, score=(train=1.000, test=0.654), total=  38.2s\n",
      "[CV] n_neighbors=11, weights=distance ................................\n",
      "[CV]  n_neighbors=11, weights=distance, score=(train=1.000, test=0.653), total=  38.2s\n",
      "[CV] n_neighbors=11, weights=distance ................................\n",
      "[CV]  n_neighbors=11, weights=distance, score=(train=1.000, test=0.668), total=  38.2s\n",
      "[CV] n_neighbors=11, weights=distance ................................\n",
      "[CV]  n_neighbors=11, weights=distance, score=(train=1.000, test=0.663), total=  38.2s\n"
     ]
    },
    {
     "name": "stderr",
     "output_type": "stream",
     "text": [
      "[Parallel(n_jobs=None)]: Done  50 out of  50 | elapsed: 145.9min finished\n"
     ]
    }
   ],
   "source": [
    "knn_tfidfW2v_model = gridSearcher(KNeighborsClassifier(n_jobs=-1),\n",
    "                                   {\"n_neighbors\":[3,5,7,9,11],\"weights\":['uniform', 'distance']},\n",
    "                                     trainTfidfWord2Vectors,\n",
    "                                     y_train)"
   ]
  },
  {
   "cell_type": "code",
   "execution_count": 53,
   "metadata": {},
   "outputs": [
    {
     "data": {
      "text/plain": [
       "Text(0.49, 1, 'Tfidf Weighted Word2Vec')"
      ]
     },
     "execution_count": 53,
     "metadata": {},
     "output_type": "execute_result"
    },
    {
     "data": {
      "text/plain": [
       "<Figure size 720x720 with 0 Axes>"
      ]
     },
     "metadata": {},
     "output_type": "display_data"
    },
    {
     "data": {
      "image/png": "[encoded data removed]",
      "text/plain": [
       "<Figure size 1440x360 with 4 Axes>"
      ]
     },
     "metadata": {
      "needs_background": "light"
     },
     "output_type": "display_data"
    }
   ],
   "source": [
    "plotAUCvsHyperParam(knn_tfidfW2v_model)\n",
    "plt.suptitle('Tfidf Weighted Word2Vec',fontsize=17,x=0.49,y = 1)"
   ]
  },
  {
   "cell_type": "code",
   "execution_count": 54,
   "metadata": {},
   "outputs": [
    {
     "data": {
      "image/png": "[encoded data removed]",
      "text/plain": [
       "<Figure size 432x288 with 1 Axes>"
      ]
     },
     "metadata": {
      "needs_background": "light"
     },
     "output_type": "display_data"
    }
   ],
   "source": [
    "plt.title(\"Tfidf Weighted Word2Vec\")\n",
    "rocCurve(knn_tfidfW2v_model,trainTfidfWord2Vectors,y_train,testTfidfWord2Vectors,y_test)"
   ]
  },
  {
   "cell_type": "code",
   "execution_count": 55,
   "metadata": {
    "scrolled": true
   },
   "outputs": [
    {
     "data": {
      "image/png": "[encoded data removed]",
      "text/plain": [
       "<Figure size 432x288 with 2 Axes>"
      ]
     },
     "metadata": {
      "needs_background": "light"
     },
     "output_type": "display_data"
    }
   ],
   "source": [
    "plt.title(\"Tfidf Weighted Word2Vec\")\n",
    "confusionMatrix(knn_tfidfW2v_model,testTfidfWord2Vectors,y_test)"
   ]
  },
  {
   "cell_type": "code",
   "execution_count": 56,
   "metadata": {
    "colab": {},
    "colab_type": "code",
    "id": "3Hnu2QziiWO9"
   },
   "outputs": [],
   "source": [
    "from prettytable import PrettyTable\n",
    "table = PrettyTable()\n",
    "table.field_names = [\"Vectoriser\",\"parameters\",\"Train AUC Score\",\"Test AUC score\"]\n",
    "table.add_row([\"KNN(BOW)\",\n",
    "               knn_bigram_model.best_params_,\n",
    "               np.round(knn_bigram_model.score(bigrams_train,y_train),5),\n",
    "               np.round(knn_bigram_model.score(bigrams_test,y_test),5)])\n",
    "table.add_row([\"KNN(TFIDF)\",\n",
    "               knn_tfidf_bigram_model.best_params_,\n",
    "               np.round(knn_tfidf_bigram_model.score(tfidf_bigrams_train,y_train),5),\n",
    "               np.round(knn_tfidf_bigram_model.score(tfidf_bigrams_test,y_test),5)])\n",
    "table.add_row([\"KNN(Avg W2V)\",\n",
    "               knn_avgW2v_model.best_params_,\n",
    "               np.round(knn_avgW2v_model.score(trainWord2Vectors,y_train),5),\n",
    "               np.round(knn_avgW2v_model.score(testWord2Vectors,y_test),5)])\n",
    "table.add_row([\"KNN(TFIDF W2V)\",\n",
    "               knn_tfidfW2v_model.best_params_,\n",
    "               np.round(knn_tfidfW2v_model.score(trainTfidfWord2Vectors,y_train),5),\n",
    "               np.round(knn_tfidfW2v_model.score(testTfidfWord2Vectors,y_test),5)])"
   ]
  },
  {
   "cell_type": "code",
   "execution_count": 57,
   "metadata": {
    "colab": {},
    "colab_type": "code",
    "id": "mzOdOY6MiWOb",
    "outputId": "5ca07a6a-fb12-4deb-b0f4-21cdb42ccb7a"
   },
   "outputs": [
    {
     "name": "stdout",
     "output_type": "stream",
     "text": [
      "some feature names  ['work', 'works', 'worst', 'worth', 'would', 'would not', 'wrong', 'year', 'years', 'yes']\n",
      "==================================================\n",
      "the type of count vectorizer  <class 'scipy.sparse.csr.csr_matrix'>\n",
      "the shape of out text BOW vectorizer for Train set  (70000, 500)\n",
      "the number of unique words including both unigrams and bigrams in Train set  500\n",
      "==================================================\n",
      "the shape of out text BOW vectorizer for Test set  (30000, 500)\n",
      "the number of unique words including both unigrams and bigrams Test set  500\n"
     ]
    }
   ],
   "source": [
    "from sklearn.preprocessing import StandardScaler \n",
    "count_vect = CountVectorizer(ngram_range=(1,2), min_df=20, max_features=500)\n",
    "standardizer = StandardScaler(with_mean=False)\n",
    "bigrams_train = standardizer.fit_transform(count_vect.fit_transform(x_train))\n",
    "bigrams_test = standardizer.transform(count_vect.transform(x_test))\n",
    "print(\"some feature names \", count_vect.get_feature_names()[489:499])\n",
    "print('='*50)\n",
    "\n",
    "print(\"the type of count vectorizer \",type(bigrams_train))\n",
    "print(\"the shape of out text BOW vectorizer for Train set \",bigrams_train.get_shape())\n",
    "print(\"the number of unique words including both unigrams and bigrams in Train set \", bigrams_train.get_shape()[1])\n",
    "print('='*50)                                             \n",
    "print(\"the shape of out text BOW vectorizer for Test set \",bigrams_test.get_shape())\n",
    "print(\"the number of unique words including both unigrams and bigrams Test set \", bigrams_test.get_shape()[1])                                              "
   ]
  },
  {
   "cell_type": "code",
   "execution_count": 58,
   "metadata": {
    "colab": {},
    "colab_type": "code",
    "id": "mQ3EDEsoiWOd",
    "outputId": "b305ed29-861d-40e9-c1df-b12c4e6492a8"
   },
   "outputs": [
    {
     "name": "stdout",
     "output_type": "stream",
     "text": [
      "some feature names  ['nuts', 'oil', 'ok', 'old', 'one', 'ones', 'online', 'open', 'opened', 'orange']\n",
      "==================================================\n",
      "the type of count vectorizer  <class 'scipy.sparse.csr.csr_matrix'>\n",
      "the shape of out text Tfidf vectorizer for Train set  (70000, 500)\n",
      "the number of unique words including both unigrams and bigrams in Train set  500\n",
      "==================================================\n",
      "the shape of out text Tfidf vectorizer for Test set  (30000, 500)\n",
      "the number of unique words including both unigrams and bigrams Test set  500\n"
     ]
    }
   ],
   "source": [
    "tfidf_vect = TfidfVectorizer(ngram_range=(1,2), min_df=20, max_features=500)\n",
    "standardizer = StandardScaler(with_mean=False)\n",
    "tfidf_bigrams_train = standardizer.fit_transform(tfidf_vect.fit_transform(x_train))\n",
    "tfidf_bigrams_test = standardizer.transform(tfidf_vect.transform(x_test))\n",
    "print(\"some feature names \", tfidf_vect.get_feature_names()[300:310])\n",
    "print('='*50)\n",
    "\n",
    "print(\"the type of count vectorizer \",type(tfidf_bigrams_train))\n",
    "print(\"the shape of out text Tfidf vectorizer for Train set \",tfidf_bigrams_train.get_shape())\n",
    "print(\"the number of unique words including both unigrams and bigrams in Train set \", tfidf_bigrams_train.get_shape()[1])\n",
    "print('='*50)                                             \n",
    "print(\"the shape of out text Tfidf vectorizer for Test set \",tfidf_bigrams_test.get_shape())\n",
    "print(\"the number of unique words including both unigrams and bigrams Test set \", tfidf_bigrams_test.get_shape()[1]) "
   ]
  },
  {
   "cell_type": "markdown",
   "metadata": {},
   "source": [
    "# [6] Applying Kd-Tree KNN"
   ]
  },
  {
   "cell_type": "markdown",
   "metadata": {},
   "source": [
    "## [6.1] Applying Kd-Tree KNN on Bigram BOW"
   ]
  },
  {
   "cell_type": "code",
   "execution_count": 59,
   "metadata": {},
   "outputs": [
    {
     "name": "stdout",
     "output_type": "stream",
     "text": [
      "Fitting 5 folds for each of 10 candidates, totalling 50 fits\n",
      "[CV] n_neighbors=3, weights=uniform ..................................\n",
      "[CV]  n_neighbors=3, weights=uniform, score=(train=0.908, test=0.722), total=   6.2s\n",
      "[CV] n_neighbors=3, weights=uniform ..................................\n"
     ]
    },
    {
     "name": "stderr",
     "output_type": "stream",
     "text": [
      "[Parallel(n_jobs=None)]: Done   1 out of   1 | elapsed:   25.8s remaining:    0.0s\n"
     ]
    },
    {
     "name": "stdout",
     "output_type": "stream",
     "text": [
      "[CV]  n_neighbors=3, weights=uniform, score=(train=0.909, test=0.707), total=   6.2s\n",
      "[CV] n_neighbors=3, weights=uniform ..................................\n"
     ]
    },
    {
     "name": "stderr",
     "output_type": "stream",
     "text": [
      "[Parallel(n_jobs=None)]: Done   2 out of   2 | elapsed:   51.5s remaining:    0.0s\n"
     ]
    },
    {
     "name": "stdout",
     "output_type": "stream",
     "text": [
      "[CV]  n_neighbors=3, weights=uniform, score=(train=0.904, test=0.732), total=   6.2s\n",
      "[CV] n_neighbors=3, weights=uniform ..................................\n"
     ]
    },
    {
     "name": "stderr",
     "output_type": "stream",
     "text": [
      "[Parallel(n_jobs=None)]: Done   3 out of   3 | elapsed:  1.3min remaining:    0.0s\n"
     ]
    },
    {
     "name": "stdout",
     "output_type": "stream",
     "text": [
      "[CV]  n_neighbors=3, weights=uniform, score=(train=0.906, test=0.714), total=   6.2s\n",
      "[CV] n_neighbors=3, weights=uniform ..................................\n"
     ]
    },
    {
     "name": "stderr",
     "output_type": "stream",
     "text": [
      "[Parallel(n_jobs=None)]: Done   4 out of   4 | elapsed:  1.7min remaining:    0.0s\n"
     ]
    },
    {
     "name": "stdout",
     "output_type": "stream",
     "text": [
      "[CV]  n_neighbors=3, weights=uniform, score=(train=0.909, test=0.702), total=   6.2s\n",
      "[CV] n_neighbors=3, weights=distance .................................\n"
     ]
    },
    {
     "name": "stderr",
     "output_type": "stream",
     "text": [
      "[Parallel(n_jobs=None)]: Done   5 out of   5 | elapsed:  2.1min remaining:    0.0s\n"
     ]
    },
    {
     "name": "stdout",
     "output_type": "stream",
     "text": [
      "[CV]  n_neighbors=3, weights=distance, score=(train=1.000, test=0.729), total=   6.2s\n",
      "[CV] n_neighbors=3, weights=distance .................................\n"
     ]
    },
    {
     "name": "stderr",
     "output_type": "stream",
     "text": [
      "[Parallel(n_jobs=None)]: Done   6 out of   6 | elapsed:  2.6min remaining:    0.0s\n"
     ]
    },
    {
     "name": "stdout",
     "output_type": "stream",
     "text": [
      "[CV]  n_neighbors=3, weights=distance, score=(train=1.000, test=0.712), total=   6.2s\n",
      "[CV] n_neighbors=3, weights=distance .................................\n"
     ]
    },
    {
     "name": "stderr",
     "output_type": "stream",
     "text": [
      "[Parallel(n_jobs=None)]: Done   7 out of   7 | elapsed:  3.0min remaining:    0.0s\n"
     ]
    },
    {
     "name": "stdout",
     "output_type": "stream",
     "text": [
      "[CV]  n_neighbors=3, weights=distance, score=(train=1.000, test=0.745), total=   6.2s\n",
      "[CV] n_neighbors=3, weights=distance .................................\n"
     ]
    },
    {
     "name": "stderr",
     "output_type": "stream",
     "text": [
      "[Parallel(n_jobs=None)]: Done   8 out of   8 | elapsed:  3.4min remaining:    0.0s\n"
     ]
    },
    {
     "name": "stdout",
     "output_type": "stream",
     "text": [
      "[CV]  n_neighbors=3, weights=distance, score=(train=1.000, test=0.721), total=   6.2s\n",
      "[CV] n_neighbors=3, weights=distance .................................\n"
     ]
    },
    {
     "name": "stderr",
     "output_type": "stream",
     "text": [
      "[Parallel(n_jobs=None)]: Done   9 out of   9 | elapsed:  3.9min remaining:    0.0s\n"
     ]
    },
    {
     "name": "stdout",
     "output_type": "stream",
     "text": [
      "[CV]  n_neighbors=3, weights=distance, score=(train=1.000, test=0.705), total=   6.2s\n",
      "[CV] n_neighbors=5, weights=uniform ..................................\n",
      "[CV]  n_neighbors=5, weights=uniform, score=(train=0.882, test=0.752), total=   6.2s\n",
      "[CV] n_neighbors=5, weights=uniform ..................................\n",
      "[CV]  n_neighbors=5, weights=uniform, score=(train=0.882, test=0.736), total=   6.2s\n",
      "[CV] n_neighbors=5, weights=uniform ..................................\n",
      "[CV]  n_neighbors=5, weights=uniform, score=(train=0.879, test=0.756), total=   6.3s\n",
      "[CV] n_neighbors=5, weights=uniform ..................................\n",
      "[CV]  n_neighbors=5, weights=uniform, score=(train=0.879, test=0.738), total=   6.2s\n",
      "[CV] n_neighbors=5, weights=uniform ..................................\n",
      "[CV]  n_neighbors=5, weights=uniform, score=(train=0.886, test=0.724), total=   6.2s\n",
      "[CV] n_neighbors=5, weights=distance .................................\n",
      "[CV]  n_neighbors=5, weights=distance, score=(train=1.000, test=0.757), total=   6.2s\n",
      "[CV] n_neighbors=5, weights=distance .................................\n",
      "[CV]  n_neighbors=5, weights=distance, score=(train=1.000, test=0.742), total=   6.2s\n",
      "[CV] n_neighbors=5, weights=distance .................................\n",
      "[CV]  n_neighbors=5, weights=distance, score=(train=1.000, test=0.769), total=   6.2s\n",
      "[CV] n_neighbors=5, weights=distance .................................\n",
      "[CV]  n_neighbors=5, weights=distance, score=(train=1.000, test=0.745), total=   6.2s\n",
      "[CV] n_neighbors=5, weights=distance .................................\n",
      "[CV]  n_neighbors=5, weights=distance, score=(train=1.000, test=0.730), total=   6.6s\n",
      "[CV] n_neighbors=7, weights=uniform ..................................\n",
      "[CV]  n_neighbors=7, weights=uniform, score=(train=0.870, test=0.763), total=   6.3s\n",
      "[CV] n_neighbors=7, weights=uniform ..................................\n",
      "[CV]  n_neighbors=7, weights=uniform, score=(train=0.870, test=0.754), total=   6.2s\n",
      "[CV] n_neighbors=7, weights=uniform ..................................\n",
      "[CV]  n_neighbors=7, weights=uniform, score=(train=0.869, test=0.762), total=   6.3s\n",
      "[CV] n_neighbors=7, weights=uniform ..................................\n",
      "[CV]  n_neighbors=7, weights=uniform, score=(train=0.868, test=0.750), total=   6.2s\n",
      "[CV] n_neighbors=7, weights=uniform ..................................\n",
      "[CV]  n_neighbors=7, weights=uniform, score=(train=0.873, test=0.741), total=   6.2s\n",
      "[CV] n_neighbors=7, weights=distance .................................\n",
      "[CV]  n_neighbors=7, weights=distance, score=(train=1.000, test=0.770), total=   6.2s\n",
      "[CV] n_neighbors=7, weights=distance .................................\n",
      "[CV]  n_neighbors=7, weights=distance, score=(train=1.000, test=0.759), total=   6.3s\n",
      "[CV] n_neighbors=7, weights=distance .................................\n",
      "[CV]  n_neighbors=7, weights=distance, score=(train=1.000, test=0.775), total=   6.3s\n",
      "[CV] n_neighbors=7, weights=distance .................................\n",
      "[CV]  n_neighbors=7, weights=distance, score=(train=1.000, test=0.757), total=   6.3s\n",
      "[CV] n_neighbors=7, weights=distance .................................\n",
      "[CV]  n_neighbors=7, weights=distance, score=(train=1.000, test=0.745), total=   6.3s\n",
      "[CV] n_neighbors=9, weights=uniform ..................................\n",
      "[CV]  n_neighbors=9, weights=uniform, score=(train=0.860, test=0.764), total=   6.2s\n",
      "[CV] n_neighbors=9, weights=uniform ..................................\n",
      "[CV]  n_neighbors=9, weights=uniform, score=(train=0.863, test=0.764), total=   6.3s\n",
      "[CV] n_neighbors=9, weights=uniform ..................................\n",
      "[CV]  n_neighbors=9, weights=uniform, score=(train=0.860, test=0.772), total=   6.3s\n",
      "[CV] n_neighbors=9, weights=uniform ..................................\n",
      "[CV]  n_neighbors=9, weights=uniform, score=(train=0.863, test=0.759), total=   6.3s\n",
      "[CV] n_neighbors=9, weights=uniform ..................................\n",
      "[CV]  n_neighbors=9, weights=uniform, score=(train=0.865, test=0.753), total=   6.2s\n",
      "[CV] n_neighbors=9, weights=distance .................................\n",
      "[CV]  n_neighbors=9, weights=distance, score=(train=1.000, test=0.772), total=   6.2s\n",
      "[CV] n_neighbors=9, weights=distance .................................\n",
      "[CV]  n_neighbors=9, weights=distance, score=(train=1.000, test=0.769), total=   6.3s\n",
      "[CV] n_neighbors=9, weights=distance .................................\n",
      "[CV]  n_neighbors=9, weights=distance, score=(train=1.000, test=0.783), total=   6.3s\n",
      "[CV] n_neighbors=9, weights=distance .................................\n",
      "[CV]  n_neighbors=9, weights=distance, score=(train=1.000, test=0.766), total=   6.2s\n",
      "[CV] n_neighbors=9, weights=distance .................................\n",
      "[CV]  n_neighbors=9, weights=distance, score=(train=1.000, test=0.758), total=   6.2s\n",
      "[CV] n_neighbors=11, weights=uniform .................................\n",
      "[CV]  n_neighbors=11, weights=uniform, score=(train=0.852, test=0.770), total=   6.3s\n",
      "[CV] n_neighbors=11, weights=uniform .................................\n",
      "[CV]  n_neighbors=11, weights=uniform, score=(train=0.857, test=0.772), total=   6.3s\n",
      "[CV] n_neighbors=11, weights=uniform .................................\n",
      "[CV]  n_neighbors=11, weights=uniform, score=(train=0.853, test=0.775), total=   6.2s\n",
      "[CV] n_neighbors=11, weights=uniform .................................\n",
      "[CV]  n_neighbors=11, weights=uniform, score=(train=0.856, test=0.766), total=   6.3s\n",
      "[CV] n_neighbors=11, weights=uniform .................................\n",
      "[CV]  n_neighbors=11, weights=uniform, score=(train=0.858, test=0.753), total=   6.2s\n",
      "[CV] n_neighbors=11, weights=distance ................................\n",
      "[CV]  n_neighbors=11, weights=distance, score=(train=1.000, test=0.778), total=   6.3s\n",
      "[CV] n_neighbors=11, weights=distance ................................\n",
      "[CV]  n_neighbors=11, weights=distance, score=(train=1.000, test=0.776), total=   6.2s\n",
      "[CV] n_neighbors=11, weights=distance ................................\n",
      "[CV]  n_neighbors=11, weights=distance, score=(train=1.000, test=0.785), total=   6.3s\n",
      "[CV] n_neighbors=11, weights=distance ................................\n",
      "[CV]  n_neighbors=11, weights=distance, score=(train=1.000, test=0.772), total=   6.2s\n",
      "[CV] n_neighbors=11, weights=distance ................................\n",
      "[CV]  n_neighbors=11, weights=distance, score=(train=1.000, test=0.759), total=   6.2s\n"
     ]
    },
    {
     "name": "stderr",
     "output_type": "stream",
     "text": [
      "[Parallel(n_jobs=None)]: Done  50 out of  50 | elapsed: 21.6min finished\n"
     ]
    }
   ],
   "source": [
    "kdtree_bigram_model = gridSearcher(KNeighborsClassifier(n_jobs=-1,algorithm='kd_tree'),\n",
    "                                   {\"n_neighbors\":[3,5,7,9,11],\"weights\":['uniform', 'distance']},\n",
    "                                bigrams_train[:20000].toarray(),\n",
    "                                y_train[:20000])"
   ]
  },
  {
   "cell_type": "code",
   "execution_count": 60,
   "metadata": {},
   "outputs": [
    {
     "data": {
      "text/plain": [
       "Text(0.49, 1, 'Bag of Words - Bigram')"
      ]
     },
     "execution_count": 60,
     "metadata": {},
     "output_type": "execute_result"
    },
    {
     "data": {
      "text/plain": [
       "<Figure size 720x720 with 0 Axes>"
      ]
     },
     "metadata": {},
     "output_type": "display_data"
    },
    {
     "data": {
      "image/png": "[encoded data removed]",
      "text/plain": [
       "<Figure size 1440x360 with 4 Axes>"
      ]
     },
     "metadata": {
      "needs_background": "light"
     },
     "output_type": "display_data"
    }
   ],
   "source": [
    "plotAUCvsHyperParam(kdtree_bigram_model)\n",
    "plt.suptitle('Bag of Words - Bigram',fontsize=17,x=0.49,y = 1)"
   ]
  },
  {
   "cell_type": "code",
   "execution_count": 61,
   "metadata": {},
   "outputs": [
    {
     "data": {
      "image/png": "[encoded data removed]",
      "text/plain": [
       "<Figure size 432x288 with 1 Axes>"
      ]
     },
     "metadata": {
      "needs_background": "light"
     },
     "output_type": "display_data"
    }
   ],
   "source": [
    "plt.title(\"Bag of Words - Bigram\")\n",
    "rocCurve(kdtree_bigram_model,bigrams_train[:20000].toarray(),y_train[:20000],bigrams_test[:5000].toarray(),y_test[:5000])"
   ]
  },
  {
   "cell_type": "code",
   "execution_count": 62,
   "metadata": {},
   "outputs": [
    {
     "data": {
      "image/png": "[encoded data removed]",
      "text/plain": [
       "<Figure size 432x288 with 2 Axes>"
      ]
     },
     "metadata": {
      "needs_background": "light"
     },
     "output_type": "display_data"
    }
   ],
   "source": [
    "plt.title(\"Bag of Words - Bigram\")\n",
    "confusionMatrix(kdtree_bigram_model,bigrams_test[:5000].toarray(),y_test[:5000])"
   ]
  },
  {
   "cell_type": "markdown",
   "metadata": {},
   "source": [
    "## [6.2] Applying Kd-Tree Knn on Bigram Tfidf"
   ]
  },
  {
   "cell_type": "code",
   "execution_count": 63,
   "metadata": {},
   "outputs": [
    {
     "name": "stdout",
     "output_type": "stream",
     "text": [
      "Fitting 5 folds for each of 10 candidates, totalling 50 fits\n",
      "[CV] n_neighbors=3, weights=uniform ..................................\n",
      "[CV]  n_neighbors=3, weights=uniform, score=(train=0.911, test=0.600), total=   6.4s\n",
      "[CV] n_neighbors=3, weights=uniform ..................................\n"
     ]
    },
    {
     "name": "stderr",
     "output_type": "stream",
     "text": [
      "[Parallel(n_jobs=None)]: Done   1 out of   1 | elapsed:   26.8s remaining:    0.0s\n"
     ]
    },
    {
     "name": "stdout",
     "output_type": "stream",
     "text": [
      "[CV]  n_neighbors=3, weights=uniform, score=(train=0.905, test=0.601), total=  10.9s\n",
      "[CV] n_neighbors=3, weights=uniform ..................................\n"
     ]
    },
    {
     "name": "stderr",
     "output_type": "stream",
     "text": [
      "[Parallel(n_jobs=None)]: Done   2 out of   2 | elapsed:  1.3min remaining:    0.0s\n"
     ]
    },
    {
     "name": "stdout",
     "output_type": "stream",
     "text": [
      "[CV]  n_neighbors=3, weights=uniform, score=(train=0.881, test=0.607), total=   9.7s\n",
      "[CV] n_neighbors=3, weights=uniform ..................................\n"
     ]
    },
    {
     "name": "stderr",
     "output_type": "stream",
     "text": [
      "[Parallel(n_jobs=None)]: Done   3 out of   3 | elapsed:  2.0min remaining:    0.0s\n"
     ]
    },
    {
     "name": "stdout",
     "output_type": "stream",
     "text": [
      "[CV]  n_neighbors=3, weights=uniform, score=(train=0.871, test=0.591), total=   9.8s\n",
      "[CV] n_neighbors=3, weights=uniform ..................................\n"
     ]
    },
    {
     "name": "stderr",
     "output_type": "stream",
     "text": [
      "[Parallel(n_jobs=None)]: Done   4 out of   4 | elapsed:  2.7min remaining:    0.0s\n"
     ]
    },
    {
     "name": "stdout",
     "output_type": "stream",
     "text": [
      "[CV]  n_neighbors=3, weights=uniform, score=(train=0.883, test=0.603), total=   9.8s\n",
      "[CV] n_neighbors=3, weights=distance .................................\n"
     ]
    },
    {
     "name": "stderr",
     "output_type": "stream",
     "text": [
      "[Parallel(n_jobs=None)]: Done   5 out of   5 | elapsed:  3.4min remaining:    0.0s\n"
     ]
    },
    {
     "name": "stdout",
     "output_type": "stream",
     "text": [
      "[CV]  n_neighbors=3, weights=distance, score=(train=1.000, test=0.626), total=   9.5s\n",
      "[CV] n_neighbors=3, weights=distance .................................\n"
     ]
    },
    {
     "name": "stderr",
     "output_type": "stream",
     "text": [
      "[Parallel(n_jobs=None)]: Done   6 out of   6 | elapsed:  4.1min remaining:    0.0s\n"
     ]
    },
    {
     "name": "stdout",
     "output_type": "stream",
     "text": [
      "[CV]  n_neighbors=3, weights=distance, score=(train=1.000, test=0.619), total=   9.5s\n",
      "[CV] n_neighbors=3, weights=distance .................................\n"
     ]
    },
    {
     "name": "stderr",
     "output_type": "stream",
     "text": [
      "[Parallel(n_jobs=None)]: Done   7 out of   7 | elapsed:  4.8min remaining:    0.0s\n"
     ]
    },
    {
     "name": "stdout",
     "output_type": "stream",
     "text": [
      "[CV]  n_neighbors=3, weights=distance, score=(train=1.000, test=0.624), total=   6.6s\n",
      "[CV] n_neighbors=3, weights=distance .................................\n"
     ]
    },
    {
     "name": "stderr",
     "output_type": "stream",
     "text": [
      "[Parallel(n_jobs=None)]: Done   8 out of   8 | elapsed:  5.3min remaining:    0.0s\n"
     ]
    },
    {
     "name": "stdout",
     "output_type": "stream",
     "text": [
      "[CV]  n_neighbors=3, weights=distance, score=(train=1.000, test=0.603), total=   7.6s\n",
      "[CV] n_neighbors=3, weights=distance .................................\n"
     ]
    },
    {
     "name": "stderr",
     "output_type": "stream",
     "text": [
      "[Parallel(n_jobs=None)]: Done   9 out of   9 | elapsed:  5.8min remaining:    0.0s\n"
     ]
    },
    {
     "name": "stdout",
     "output_type": "stream",
     "text": [
      "[CV]  n_neighbors=3, weights=distance, score=(train=1.000, test=0.624), total=   7.5s\n",
      "[CV] n_neighbors=5, weights=uniform ..................................\n",
      "[CV]  n_neighbors=5, weights=uniform, score=(train=0.886, test=0.601), total=  10.1s\n",
      "[CV] n_neighbors=5, weights=uniform ..................................\n",
      "[CV]  n_neighbors=5, weights=uniform, score=(train=0.847, test=0.601), total=  10.9s\n",
      "[CV] n_neighbors=5, weights=uniform ..................................\n",
      "[CV]  n_neighbors=5, weights=uniform, score=(train=0.846, test=0.601), total=   9.3s\n",
      "[CV] n_neighbors=5, weights=uniform ..................................\n",
      "[CV]  n_neighbors=5, weights=uniform, score=(train=0.823, test=0.584), total=  10.8s\n",
      "[CV] n_neighbors=5, weights=uniform ..................................\n",
      "[CV]  n_neighbors=5, weights=uniform, score=(train=0.845, test=0.608), total=   5.2s\n",
      "[CV] n_neighbors=5, weights=distance .................................\n",
      "[CV]  n_neighbors=5, weights=distance, score=(train=1.000, test=0.631), total=   5.2s\n",
      "[CV] n_neighbors=5, weights=distance .................................\n",
      "[CV]  n_neighbors=5, weights=distance, score=(train=1.000, test=0.621), total=  10.8s\n",
      "[CV] n_neighbors=5, weights=distance .................................\n",
      "[CV]  n_neighbors=5, weights=distance, score=(train=1.000, test=0.623), total=  10.9s\n",
      "[CV] n_neighbors=5, weights=distance .................................\n",
      "[CV]  n_neighbors=5, weights=distance, score=(train=1.000, test=0.599), total=   6.7s\n",
      "[CV] n_neighbors=5, weights=distance .................................\n",
      "[CV]  n_neighbors=5, weights=distance, score=(train=1.000, test=0.630), total=  11.1s\n",
      "[CV] n_neighbors=7, weights=uniform ..................................\n",
      "[CV]  n_neighbors=7, weights=uniform, score=(train=0.847, test=0.608), total=  10.8s\n",
      "[CV] n_neighbors=7, weights=uniform ..................................\n",
      "[CV]  n_neighbors=7, weights=uniform, score=(train=0.829, test=0.603), total=  10.2s\n",
      "[CV] n_neighbors=7, weights=uniform ..................................\n",
      "[CV]  n_neighbors=7, weights=uniform, score=(train=0.825, test=0.589), total=   9.6s\n",
      "[CV] n_neighbors=7, weights=uniform ..................................\n",
      "[CV]  n_neighbors=7, weights=uniform, score=(train=0.829, test=0.588), total=  10.9s\n",
      "[CV] n_neighbors=7, weights=uniform ..................................\n",
      "[CV]  n_neighbors=7, weights=uniform, score=(train=0.822, test=0.604), total=  10.8s\n",
      "[CV] n_neighbors=7, weights=distance .................................\n",
      "[CV]  n_neighbors=7, weights=distance, score=(train=1.000, test=0.633), total=  10.8s\n",
      "[CV] n_neighbors=7, weights=distance .................................\n",
      "[CV]  n_neighbors=7, weights=distance, score=(train=1.000, test=0.623), total=  10.9s\n",
      "[CV] n_neighbors=7, weights=distance .................................\n",
      "[CV]  n_neighbors=7, weights=distance, score=(train=1.000, test=0.613), total=  10.8s\n",
      "[CV] n_neighbors=7, weights=distance .................................\n",
      "[CV]  n_neighbors=7, weights=distance, score=(train=1.000, test=0.606), total=   6.7s\n",
      "[CV] n_neighbors=7, weights=distance .................................\n",
      "[CV]  n_neighbors=7, weights=distance, score=(train=1.000, test=0.633), total=   6.7s\n",
      "[CV] n_neighbors=9, weights=uniform ..................................\n",
      "[CV]  n_neighbors=9, weights=uniform, score=(train=0.862, test=0.605), total=  10.8s\n",
      "[CV] n_neighbors=9, weights=uniform ..................................\n",
      "[CV]  n_neighbors=9, weights=uniform, score=(train=0.844, test=0.600), total=  10.1s\n",
      "[CV] n_neighbors=9, weights=uniform ..................................\n",
      "[CV]  n_neighbors=9, weights=uniform, score=(train=0.846, test=0.601), total=  10.8s\n",
      "[CV] n_neighbors=9, weights=uniform ..................................\n",
      "[CV]  n_neighbors=9, weights=uniform, score=(train=0.836, test=0.586), total=  10.8s\n",
      "[CV] n_neighbors=9, weights=uniform ..................................\n",
      "[CV]  n_neighbors=9, weights=uniform, score=(train=0.848, test=0.615), total=  10.8s\n",
      "[CV] n_neighbors=9, weights=distance .................................\n",
      "[CV]  n_neighbors=9, weights=distance, score=(train=1.000, test=0.631), total=   9.3s\n",
      "[CV] n_neighbors=9, weights=distance .................................\n",
      "[CV]  n_neighbors=9, weights=distance, score=(train=1.000, test=0.625), total=   6.8s\n",
      "[CV] n_neighbors=9, weights=distance .................................\n",
      "[CV]  n_neighbors=9, weights=distance, score=(train=1.000, test=0.622), total=  10.8s\n",
      "[CV] n_neighbors=9, weights=distance .................................\n",
      "[CV]  n_neighbors=9, weights=distance, score=(train=1.000, test=0.609), total=  10.8s\n",
      "[CV] n_neighbors=9, weights=distance .................................\n",
      "[CV]  n_neighbors=9, weights=distance, score=(train=1.000, test=0.643), total=   6.8s\n",
      "[CV] n_neighbors=11, weights=uniform .................................\n",
      "[CV]  n_neighbors=11, weights=uniform, score=(train=0.837, test=0.592), total=  10.9s\n",
      "[CV] n_neighbors=11, weights=uniform .................................\n",
      "[CV]  n_neighbors=11, weights=uniform, score=(train=0.852, test=0.600), total=  10.8s\n",
      "[CV] n_neighbors=11, weights=uniform .................................\n",
      "[CV]  n_neighbors=11, weights=uniform, score=(train=0.847, test=0.603), total=  11.1s\n",
      "[CV] n_neighbors=11, weights=uniform .................................\n",
      "[CV]  n_neighbors=11, weights=uniform, score=(train=0.849, test=0.593), total=  11.1s\n",
      "[CV] n_neighbors=11, weights=uniform .................................\n",
      "[CV]  n_neighbors=11, weights=uniform, score=(train=0.849, test=0.622), total=  10.9s\n",
      "[CV] n_neighbors=11, weights=distance ................................\n",
      "[CV]  n_neighbors=11, weights=distance, score=(train=1.000, test=0.620), total=  11.2s\n",
      "[CV] n_neighbors=11, weights=distance ................................\n",
      "[CV]  n_neighbors=11, weights=distance, score=(train=1.000, test=0.621), total=  11.1s\n",
      "[CV] n_neighbors=11, weights=distance ................................\n",
      "[CV]  n_neighbors=11, weights=distance, score=(train=1.000, test=0.628), total=  10.9s\n",
      "[CV] n_neighbors=11, weights=distance ................................\n",
      "[CV]  n_neighbors=11, weights=distance, score=(train=1.000, test=0.613), total=  10.8s\n",
      "[CV] n_neighbors=11, weights=distance ................................\n",
      "[CV]  n_neighbors=11, weights=distance, score=(train=1.000, test=0.647), total=  10.9s\n"
     ]
    },
    {
     "name": "stderr",
     "output_type": "stream",
     "text": [
      "[Parallel(n_jobs=None)]: Done  50 out of  50 | elapsed: 35.9min finished\n"
     ]
    }
   ],
   "source": [
    "kdtree_tfidf_bigram_model = gridSearcher(KNeighborsClassifier(n_jobs=-1,algorithm='kd_tree'),\n",
    "                                   {\"n_neighbors\":[3,5,7,9,11],\"weights\":['uniform', 'distance']},\n",
    "                                      tfidf_bigrams_train[:20000].toarray(),\n",
    "                                      y_train[:20000])"
   ]
  },
  {
   "cell_type": "code",
   "execution_count": 64,
   "metadata": {},
   "outputs": [
    {
     "data": {
      "text/plain": [
       "Text(0.49, 1, 'Tfidf - Bigram')"
      ]
     },
     "execution_count": 64,
     "metadata": {},
     "output_type": "execute_result"
    },
    {
     "data": {
      "text/plain": [
       "<Figure size 720x720 with 0 Axes>"
      ]
     },
     "metadata": {},
     "output_type": "display_data"
    },
    {
     "data": {
      "image/png": "[encoded data removed]",
      "text/plain": [
       "<Figure size 1440x360 with 4 Axes>"
      ]
     },
     "metadata": {
      "needs_background": "light"
     },
     "output_type": "display_data"
    }
   ],
   "source": [
    "plotAUCvsHyperParam(kdtree_tfidf_bigram_model)\n",
    "plt.suptitle('Tfidf - Bigram',fontsize=17,x=0.49,y = 1)"
   ]
  },
  {
   "cell_type": "code",
   "execution_count": 65,
   "metadata": {},
   "outputs": [
    {
     "data": {
      "image/png": "[encoded data removed]",
      "text/plain": [
       "<Figure size 432x288 with 1 Axes>"
      ]
     },
     "metadata": {
      "needs_background": "light"
     },
     "output_type": "display_data"
    }
   ],
   "source": [
    "plt.title(\"Tfidf - Bigram\")\n",
    "rocCurve(kdtree_tfidf_bigram_model,tfidf_bigrams_train[:20000].toarray(),y_train[:20000],tfidf_bigrams_test[:5000].toarray(),y_test[:5000])"
   ]
  },
  {
   "cell_type": "code",
   "execution_count": 66,
   "metadata": {
    "scrolled": true
   },
   "outputs": [
    {
     "data": {
      "image/png": "[encoded data removed]",
      "text/plain": [
       "<Figure size 432x288 with 2 Axes>"
      ]
     },
     "metadata": {
      "needs_background": "light"
     },
     "output_type": "display_data"
    }
   ],
   "source": [
    "plt.title(\"Tfidf - Bigram\")\n",
    "confusionMatrix(kdtree_tfidf_bigram_model,tfidf_bigrams_test[:5000].toarray(),y_test[:5000])"
   ]
  },
  {
   "cell_type": "markdown",
   "metadata": {},
   "source": [
    "## [6.3] Applying Kd-Tree KNN on Average Word2VEC"
   ]
  },
  {
   "cell_type": "code",
   "execution_count": 67,
   "metadata": {
    "colab": {},
    "colab_type": "code",
    "id": "uYDXnzMmiWO5"
   },
   "outputs": [
    {
     "name": "stdout",
     "output_type": "stream",
     "text": [
      "Fitting 5 folds for each of 10 candidates, totalling 50 fits\n",
      "[CV] n_neighbors=3, weights=uniform ..................................\n",
      "[CV]  n_neighbors=3, weights=uniform, score=(train=0.859, test=0.594), total=   3.5s\n",
      "[CV] n_neighbors=3, weights=uniform ..................................\n"
     ]
    },
    {
     "name": "stderr",
     "output_type": "stream",
     "text": [
      "[Parallel(n_jobs=None)]: Done   1 out of   1 | elapsed:   16.9s remaining:    0.0s\n"
     ]
    },
    {
     "name": "stdout",
     "output_type": "stream",
     "text": [
      "[CV]  n_neighbors=3, weights=uniform, score=(train=0.854, test=0.612), total=   3.5s\n",
      "[CV] n_neighbors=3, weights=uniform ..................................\n"
     ]
    },
    {
     "name": "stderr",
     "output_type": "stream",
     "text": [
      "[Parallel(n_jobs=None)]: Done   2 out of   2 | elapsed:   33.9s remaining:    0.0s\n"
     ]
    },
    {
     "name": "stdout",
     "output_type": "stream",
     "text": [
      "[CV]  n_neighbors=3, weights=uniform, score=(train=0.859, test=0.592), total=   1.8s\n",
      "[CV] n_neighbors=3, weights=uniform ..................................\n"
     ]
    },
    {
     "name": "stderr",
     "output_type": "stream",
     "text": [
      "[Parallel(n_jobs=None)]: Done   3 out of   3 | elapsed:   42.5s remaining:    0.0s\n"
     ]
    },
    {
     "name": "stdout",
     "output_type": "stream",
     "text": [
      "[CV]  n_neighbors=3, weights=uniform, score=(train=0.858, test=0.594), total=   1.8s\n",
      "[CV] n_neighbors=3, weights=uniform ..................................\n"
     ]
    },
    {
     "name": "stderr",
     "output_type": "stream",
     "text": [
      "[Parallel(n_jobs=None)]: Done   4 out of   4 | elapsed:   51.1s remaining:    0.0s\n"
     ]
    },
    {
     "name": "stdout",
     "output_type": "stream",
     "text": [
      "[CV]  n_neighbors=3, weights=uniform, score=(train=0.867, test=0.610), total=   1.8s\n",
      "[CV] n_neighbors=3, weights=distance .................................\n"
     ]
    },
    {
     "name": "stderr",
     "output_type": "stream",
     "text": [
      "[Parallel(n_jobs=None)]: Done   5 out of   5 | elapsed:   59.7s remaining:    0.0s\n"
     ]
    },
    {
     "name": "stdout",
     "output_type": "stream",
     "text": [
      "[CV]  n_neighbors=3, weights=distance, score=(train=1.000, test=0.604), total=   3.4s\n",
      "[CV] n_neighbors=3, weights=distance .................................\n"
     ]
    },
    {
     "name": "stderr",
     "output_type": "stream",
     "text": [
      "[Parallel(n_jobs=None)]: Done   6 out of   6 | elapsed:  1.3min remaining:    0.0s\n"
     ]
    },
    {
     "name": "stdout",
     "output_type": "stream",
     "text": [
      "[CV]  n_neighbors=3, weights=distance, score=(train=1.000, test=0.617), total=   4.4s\n",
      "[CV] n_neighbors=3, weights=distance .................................\n"
     ]
    },
    {
     "name": "stderr",
     "output_type": "stream",
     "text": [
      "[Parallel(n_jobs=None)]: Done   7 out of   7 | elapsed:  1.6min remaining:    0.0s\n"
     ]
    },
    {
     "name": "stdout",
     "output_type": "stream",
     "text": [
      "[CV]  n_neighbors=3, weights=distance, score=(train=1.000, test=0.598), total=   2.8s\n",
      "[CV] n_neighbors=3, weights=distance .................................\n"
     ]
    },
    {
     "name": "stderr",
     "output_type": "stream",
     "text": [
      "[Parallel(n_jobs=None)]: Done   8 out of   8 | elapsed:  1.9min remaining:    0.0s\n"
     ]
    },
    {
     "name": "stdout",
     "output_type": "stream",
     "text": [
      "[CV]  n_neighbors=3, weights=distance, score=(train=1.000, test=0.599), total=   1.8s\n",
      "[CV] n_neighbors=3, weights=distance .................................\n"
     ]
    },
    {
     "name": "stderr",
     "output_type": "stream",
     "text": [
      "[Parallel(n_jobs=None)]: Done   9 out of   9 | elapsed:  2.0min remaining:    0.0s\n"
     ]
    },
    {
     "name": "stdout",
     "output_type": "stream",
     "text": [
      "[CV]  n_neighbors=3, weights=distance, score=(train=1.000, test=0.615), total=   1.8s\n",
      "[CV] n_neighbors=5, weights=uniform ..................................\n",
      "[CV]  n_neighbors=5, weights=uniform, score=(train=0.821, test=0.618), total=   1.9s\n",
      "[CV] n_neighbors=5, weights=uniform ..................................\n",
      "[CV]  n_neighbors=5, weights=uniform, score=(train=0.814, test=0.628), total=   1.9s\n",
      "[CV] n_neighbors=5, weights=uniform ..................................\n",
      "[CV]  n_neighbors=5, weights=uniform, score=(train=0.820, test=0.612), total=   1.8s\n",
      "[CV] n_neighbors=5, weights=uniform ..................................\n",
      "[CV]  n_neighbors=5, weights=uniform, score=(train=0.810, test=0.611), total=   1.8s\n",
      "[CV] n_neighbors=5, weights=uniform ..................................\n",
      "[CV]  n_neighbors=5, weights=uniform, score=(train=0.826, test=0.622), total=   1.8s\n",
      "[CV] n_neighbors=5, weights=distance .................................\n",
      "[CV]  n_neighbors=5, weights=distance, score=(train=1.000, test=0.626), total=   1.8s\n",
      "[CV] n_neighbors=5, weights=distance .................................\n",
      "[CV]  n_neighbors=5, weights=distance, score=(train=1.000, test=0.637), total=   1.8s\n",
      "[CV] n_neighbors=5, weights=distance .................................\n",
      "[CV]  n_neighbors=5, weights=distance, score=(train=1.000, test=0.617), total=   4.0s\n",
      "[CV] n_neighbors=5, weights=distance .................................\n",
      "[CV]  n_neighbors=5, weights=distance, score=(train=1.000, test=0.616), total=   4.0s\n",
      "[CV] n_neighbors=5, weights=distance .................................\n",
      "[CV]  n_neighbors=5, weights=distance, score=(train=1.000, test=0.630), total=   3.9s\n",
      "[CV] n_neighbors=7, weights=uniform ..................................\n",
      "[CV]  n_neighbors=7, weights=uniform, score=(train=0.798, test=0.644), total=   4.0s\n",
      "[CV] n_neighbors=7, weights=uniform ..................................\n",
      "[CV]  n_neighbors=7, weights=uniform, score=(train=0.797, test=0.636), total=   4.0s\n",
      "[CV] n_neighbors=7, weights=uniform ..................................\n",
      "[CV]  n_neighbors=7, weights=uniform, score=(train=0.799, test=0.619), total=   4.0s\n",
      "[CV] n_neighbors=7, weights=uniform ..................................\n",
      "[CV]  n_neighbors=7, weights=uniform, score=(train=0.795, test=0.622), total=   3.9s\n",
      "[CV] n_neighbors=7, weights=uniform ..................................\n",
      "[CV]  n_neighbors=7, weights=uniform, score=(train=0.806, test=0.630), total=   3.9s\n",
      "[CV] n_neighbors=7, weights=distance .................................\n",
      "[CV]  n_neighbors=7, weights=distance, score=(train=1.000, test=0.650), total=   3.9s\n",
      "[CV] n_neighbors=7, weights=distance .................................\n",
      "[CV]  n_neighbors=7, weights=distance, score=(train=1.000, test=0.644), total=   4.0s\n",
      "[CV] n_neighbors=7, weights=distance .................................\n",
      "[CV]  n_neighbors=7, weights=distance, score=(train=1.000, test=0.624), total=   4.0s\n",
      "[CV] n_neighbors=7, weights=distance .................................\n",
      "[CV]  n_neighbors=7, weights=distance, score=(train=1.000, test=0.627), total=   3.9s\n",
      "[CV] n_neighbors=7, weights=distance .................................\n",
      "[CV]  n_neighbors=7, weights=distance, score=(train=1.000, test=0.637), total=   3.9s\n",
      "[CV] n_neighbors=9, weights=uniform ..................................\n",
      "[CV]  n_neighbors=9, weights=uniform, score=(train=0.786, test=0.647), total=   3.9s\n",
      "[CV] n_neighbors=9, weights=uniform ..................................\n",
      "[CV]  n_neighbors=9, weights=uniform, score=(train=0.782, test=0.639), total=   3.9s\n",
      "[CV] n_neighbors=9, weights=uniform ..................................\n",
      "[CV]  n_neighbors=9, weights=uniform, score=(train=0.784, test=0.625), total=   4.0s\n",
      "[CV] n_neighbors=9, weights=uniform ..................................\n",
      "[CV]  n_neighbors=9, weights=uniform, score=(train=0.787, test=0.631), total=   3.9s\n",
      "[CV] n_neighbors=9, weights=uniform ..................................\n",
      "[CV]  n_neighbors=9, weights=uniform, score=(train=0.790, test=0.636), total=   3.9s\n",
      "[CV] n_neighbors=9, weights=distance .................................\n",
      "[CV]  n_neighbors=9, weights=distance, score=(train=1.000, test=0.653), total=   4.0s\n",
      "[CV] n_neighbors=9, weights=distance .................................\n",
      "[CV]  n_neighbors=9, weights=distance, score=(train=1.000, test=0.647), total=   4.0s\n",
      "[CV] n_neighbors=9, weights=distance .................................\n",
      "[CV]  n_neighbors=9, weights=distance, score=(train=1.000, test=0.629), total=   4.0s\n",
      "[CV] n_neighbors=9, weights=distance .................................\n",
      "[CV]  n_neighbors=9, weights=distance, score=(train=1.000, test=0.634), total=   4.0s\n",
      "[CV] n_neighbors=9, weights=distance .................................\n",
      "[CV]  n_neighbors=9, weights=distance, score=(train=1.000, test=0.643), total=   3.9s\n",
      "[CV] n_neighbors=11, weights=uniform .................................\n",
      "[CV]  n_neighbors=11, weights=uniform, score=(train=0.781, test=0.655), total=   3.9s\n",
      "[CV] n_neighbors=11, weights=uniform .................................\n",
      "[CV]  n_neighbors=11, weights=uniform, score=(train=0.772, test=0.645), total=   4.0s\n",
      "[CV] n_neighbors=11, weights=uniform .................................\n",
      "[CV]  n_neighbors=11, weights=uniform, score=(train=0.771, test=0.630), total=   4.0s\n",
      "[CV] n_neighbors=11, weights=uniform .................................\n",
      "[CV]  n_neighbors=11, weights=uniform, score=(train=0.779, test=0.637), total=   4.0s\n",
      "[CV] n_neighbors=11, weights=uniform .................................\n",
      "[CV]  n_neighbors=11, weights=uniform, score=(train=0.780, test=0.636), total=   3.9s\n",
      "[CV] n_neighbors=11, weights=distance ................................\n",
      "[CV]  n_neighbors=11, weights=distance, score=(train=1.000, test=0.662), total=   4.0s\n",
      "[CV] n_neighbors=11, weights=distance ................................\n",
      "[CV]  n_neighbors=11, weights=distance, score=(train=1.000, test=0.653), total=   4.3s\n",
      "[CV] n_neighbors=11, weights=distance ................................\n",
      "[CV]  n_neighbors=11, weights=distance, score=(train=1.000, test=0.634), total=   4.0s\n",
      "[CV] n_neighbors=11, weights=distance ................................\n",
      "[CV]  n_neighbors=11, weights=distance, score=(train=1.000, test=0.640), total=   4.0s\n",
      "[CV] n_neighbors=11, weights=distance ................................\n",
      "[CV]  n_neighbors=11, weights=distance, score=(train=1.000, test=0.644), total=   4.3s\n"
     ]
    },
    {
     "name": "stderr",
     "output_type": "stream",
     "text": [
      "[Parallel(n_jobs=None)]: Done  50 out of  50 | elapsed: 13.8min finished\n"
     ]
    }
   ],
   "source": [
    "kdtree_avgW2v_model = gridSearcher(KNeighborsClassifier(n_jobs=-1,algorithm='kd_tree'),\n",
    "                                   {\"n_neighbors\":[3,5,7,9,11],\"weights\":['uniform', 'distance']},\n",
    "                                trainWord2Vectors[:20000],\n",
    "                                y_train[:20000])"
   ]
  },
  {
   "cell_type": "code",
   "execution_count": 68,
   "metadata": {},
   "outputs": [
    {
     "data": {
      "text/plain": [
       "Text(0.49, 1, 'Average Word2Vec - Bigram')"
      ]
     },
     "execution_count": 68,
     "metadata": {},
     "output_type": "execute_result"
    },
    {
     "data": {
      "text/plain": [
       "<Figure size 720x720 with 0 Axes>"
      ]
     },
     "metadata": {},
     "output_type": "display_data"
    },
    {
     "data": {
      "image/png": "[encoded data removed]",
      "text/plain": [
       "<Figure size 1440x360 with 4 Axes>"
      ]
     },
     "metadata": {
      "needs_background": "light"
     },
     "output_type": "display_data"
    }
   ],
   "source": [
    "plotAUCvsHyperParam(kdtree_avgW2v_model)\n",
    "plt.suptitle('Average Word2Vec - Bigram',fontsize=17,x=0.49,y = 1)"
   ]
  },
  {
   "cell_type": "code",
   "execution_count": 69,
   "metadata": {},
   "outputs": [
    {
     "data": {
      "image/png": "[encoded data removed]",
      "text/plain": [
       "<Figure size 432x288 with 1 Axes>"
      ]
     },
     "metadata": {
      "needs_background": "light"
     },
     "output_type": "display_data"
    }
   ],
   "source": [
    "plt.title(\"Average Word2Vec\")\n",
    "rocCurve(kdtree_avgW2v_model,trainWord2Vectors[:20000],y_train[:20000],testWord2Vectors[:5000],y_test[:5000])"
   ]
  },
  {
   "cell_type": "code",
   "execution_count": 70,
   "metadata": {},
   "outputs": [
    {
     "data": {
      "image/png": "[encoded data removed]",
      "text/plain": [
       "<Figure size 432x288 with 2 Axes>"
      ]
     },
     "metadata": {
      "needs_background": "light"
     },
     "output_type": "display_data"
    }
   ],
   "source": [
    "plt.title(\"Average Word2vec\")\n",
    "confusionMatrix(kdtree_avgW2v_model,testWord2Vectors[:5000],y_test[:5000])"
   ]
  },
  {
   "cell_type": "markdown",
   "metadata": {},
   "source": [
    "## [6.4] Applying Kd-Tree KNN on TFIDF Weighted W2V"
   ]
  },
  {
   "cell_type": "code",
   "execution_count": 71,
   "metadata": {
    "colab": {},
    "colab_type": "code",
    "id": "YqODkVCgiWO7"
   },
   "outputs": [
    {
     "name": "stdout",
     "output_type": "stream",
     "text": [
      "Fitting 5 folds for each of 10 candidates, totalling 50 fits\n",
      "[CV] n_neighbors=3, weights=uniform ..................................\n",
      "[CV]  n_neighbors=3, weights=uniform, score=(train=0.843, test=0.604), total=   2.1s\n",
      "[CV] n_neighbors=3, weights=uniform ..................................\n"
     ]
    },
    {
     "name": "stderr",
     "output_type": "stream",
     "text": [
      "[Parallel(n_jobs=None)]: Done   1 out of   1 | elapsed:    9.7s remaining:    0.0s\n"
     ]
    },
    {
     "name": "stdout",
     "output_type": "stream",
     "text": [
      "[CV]  n_neighbors=3, weights=uniform, score=(train=0.854, test=0.598), total=   2.1s\n",
      "[CV] n_neighbors=3, weights=uniform ..................................\n"
     ]
    },
    {
     "name": "stderr",
     "output_type": "stream",
     "text": [
      "[Parallel(n_jobs=None)]: Done   2 out of   2 | elapsed:   19.4s remaining:    0.0s\n"
     ]
    },
    {
     "name": "stdout",
     "output_type": "stream",
     "text": [
      "[CV]  n_neighbors=3, weights=uniform, score=(train=0.849, test=0.587), total=   2.1s\n",
      "[CV] n_neighbors=3, weights=uniform ..................................\n"
     ]
    },
    {
     "name": "stderr",
     "output_type": "stream",
     "text": [
      "[Parallel(n_jobs=None)]: Done   3 out of   3 | elapsed:   29.2s remaining:    0.0s\n"
     ]
    },
    {
     "name": "stdout",
     "output_type": "stream",
     "text": [
      "[CV]  n_neighbors=3, weights=uniform, score=(train=0.864, test=0.592), total=   2.1s\n",
      "[CV] n_neighbors=3, weights=uniform ..................................\n"
     ]
    },
    {
     "name": "stderr",
     "output_type": "stream",
     "text": [
      "[Parallel(n_jobs=None)]: Done   4 out of   4 | elapsed:   38.9s remaining:    0.0s\n"
     ]
    },
    {
     "name": "stdout",
     "output_type": "stream",
     "text": [
      "[CV]  n_neighbors=3, weights=uniform, score=(train=0.860, test=0.608), total=   2.1s\n",
      "[CV] n_neighbors=3, weights=distance .................................\n"
     ]
    },
    {
     "name": "stderr",
     "output_type": "stream",
     "text": [
      "[Parallel(n_jobs=None)]: Done   5 out of   5 | elapsed:   48.6s remaining:    0.0s\n"
     ]
    },
    {
     "name": "stdout",
     "output_type": "stream",
     "text": [
      "[CV]  n_neighbors=3, weights=distance, score=(train=1.000, test=0.612), total=   2.1s\n",
      "[CV] n_neighbors=3, weights=distance .................................\n"
     ]
    },
    {
     "name": "stderr",
     "output_type": "stream",
     "text": [
      "[Parallel(n_jobs=None)]: Done   6 out of   6 | elapsed:   58.3s remaining:    0.0s\n"
     ]
    },
    {
     "name": "stdout",
     "output_type": "stream",
     "text": [
      "[CV]  n_neighbors=3, weights=distance, score=(train=1.000, test=0.604), total=   2.1s\n",
      "[CV] n_neighbors=3, weights=distance .................................\n"
     ]
    },
    {
     "name": "stderr",
     "output_type": "stream",
     "text": [
      "[Parallel(n_jobs=None)]: Done   7 out of   7 | elapsed:  1.1min remaining:    0.0s\n"
     ]
    },
    {
     "name": "stdout",
     "output_type": "stream",
     "text": [
      "[CV]  n_neighbors=3, weights=distance, score=(train=1.000, test=0.589), total=   2.1s\n",
      "[CV] n_neighbors=3, weights=distance .................................\n"
     ]
    },
    {
     "name": "stderr",
     "output_type": "stream",
     "text": [
      "[Parallel(n_jobs=None)]: Done   8 out of   8 | elapsed:  1.3min remaining:    0.0s\n"
     ]
    },
    {
     "name": "stdout",
     "output_type": "stream",
     "text": [
      "[CV]  n_neighbors=3, weights=distance, score=(train=1.000, test=0.596), total=   2.1s\n",
      "[CV] n_neighbors=3, weights=distance .................................\n"
     ]
    },
    {
     "name": "stderr",
     "output_type": "stream",
     "text": [
      "[Parallel(n_jobs=None)]: Done   9 out of   9 | elapsed:  1.5min remaining:    0.0s\n"
     ]
    },
    {
     "name": "stdout",
     "output_type": "stream",
     "text": [
      "[CV]  n_neighbors=3, weights=distance, score=(train=0.999, test=0.614), total=   3.5s\n",
      "[CV] n_neighbors=5, weights=uniform ..................................\n",
      "[CV]  n_neighbors=5, weights=uniform, score=(train=0.800, test=0.612), total=   2.1s\n",
      "[CV] n_neighbors=5, weights=uniform ..................................\n",
      "[CV]  n_neighbors=5, weights=uniform, score=(train=0.810, test=0.608), total=   4.1s\n",
      "[CV] n_neighbors=5, weights=uniform ..................................\n",
      "[CV]  n_neighbors=5, weights=uniform, score=(train=0.799, test=0.600), total=   4.1s\n",
      "[CV] n_neighbors=5, weights=uniform ..................................\n",
      "[CV]  n_neighbors=5, weights=uniform, score=(train=0.809, test=0.600), total=   4.1s\n",
      "[CV] n_neighbors=5, weights=uniform ..................................\n",
      "[CV]  n_neighbors=5, weights=uniform, score=(train=0.823, test=0.608), total=   2.1s\n",
      "[CV] n_neighbors=5, weights=distance .................................\n",
      "[CV]  n_neighbors=5, weights=distance, score=(train=1.000, test=0.623), total=   2.1s\n",
      "[CV] n_neighbors=5, weights=distance .................................\n",
      "[CV]  n_neighbors=5, weights=distance, score=(train=1.000, test=0.617), total=   2.1s\n",
      "[CV] n_neighbors=5, weights=distance .................................\n",
      "[CV]  n_neighbors=5, weights=distance, score=(train=1.000, test=0.604), total=   2.1s\n",
      "[CV] n_neighbors=5, weights=distance .................................\n",
      "[CV]  n_neighbors=5, weights=distance, score=(train=1.000, test=0.603), total=   2.1s\n",
      "[CV] n_neighbors=5, weights=distance .................................\n",
      "[CV]  n_neighbors=5, weights=distance, score=(train=1.000, test=0.620), total=   2.1s\n",
      "[CV] n_neighbors=7, weights=uniform ..................................\n",
      "[CV]  n_neighbors=7, weights=uniform, score=(train=0.779, test=0.621), total=   3.8s\n",
      "[CV] n_neighbors=7, weights=uniform ..................................\n",
      "[CV]  n_neighbors=7, weights=uniform, score=(train=0.784, test=0.607), total=   3.8s\n",
      "[CV] n_neighbors=7, weights=uniform ..................................\n",
      "[CV]  n_neighbors=7, weights=uniform, score=(train=0.765, test=0.601), total=   1.8s\n",
      "[CV] n_neighbors=7, weights=uniform ..................................\n",
      "[CV]  n_neighbors=7, weights=uniform, score=(train=0.777, test=0.606), total=   1.8s\n",
      "[CV] n_neighbors=7, weights=uniform ..................................\n",
      "[CV]  n_neighbors=7, weights=uniform, score=(train=0.796, test=0.609), total=   4.0s\n",
      "[CV] n_neighbors=7, weights=distance .................................\n",
      "[CV]  n_neighbors=7, weights=distance, score=(train=1.000, test=0.634), total=   1.8s\n",
      "[CV] n_neighbors=7, weights=distance .................................\n",
      "[CV]  n_neighbors=7, weights=distance, score=(train=1.000, test=0.618), total=   4.3s\n",
      "[CV] n_neighbors=7, weights=distance .................................\n",
      "[CV]  n_neighbors=7, weights=distance, score=(train=1.000, test=0.607), total=   4.0s\n",
      "[CV] n_neighbors=7, weights=distance .................................\n",
      "[CV]  n_neighbors=7, weights=distance, score=(train=1.000, test=0.612), total=   4.0s\n",
      "[CV] n_neighbors=7, weights=distance .................................\n",
      "[CV]  n_neighbors=7, weights=distance, score=(train=1.000, test=0.619), total=   2.1s\n",
      "[CV] n_neighbors=9, weights=uniform ..................................\n",
      "[CV]  n_neighbors=9, weights=uniform, score=(train=0.777, test=0.630), total=   2.1s\n",
      "[CV] n_neighbors=9, weights=uniform ..................................\n",
      "[CV]  n_neighbors=9, weights=uniform, score=(train=0.776, test=0.604), total=   2.1s\n",
      "[CV] n_neighbors=9, weights=uniform ..................................\n",
      "[CV]  n_neighbors=9, weights=uniform, score=(train=0.764, test=0.607), total=   2.1s\n",
      "[CV] n_neighbors=9, weights=uniform ..................................\n",
      "[CV]  n_neighbors=9, weights=uniform, score=(train=0.760, test=0.609), total=   3.5s\n",
      "[CV] n_neighbors=9, weights=uniform ..................................\n",
      "[CV]  n_neighbors=9, weights=uniform, score=(train=0.785, test=0.608), total=   1.8s\n",
      "[CV] n_neighbors=9, weights=distance .................................\n",
      "[CV]  n_neighbors=9, weights=distance, score=(train=1.000, test=0.642), total=   4.0s\n",
      "[CV] n_neighbors=9, weights=distance .................................\n",
      "[CV]  n_neighbors=9, weights=distance, score=(train=1.000, test=0.613), total=   2.1s\n",
      "[CV] n_neighbors=9, weights=distance .................................\n",
      "[CV]  n_neighbors=9, weights=distance, score=(train=1.000, test=0.612), total=   4.5s\n",
      "[CV] n_neighbors=9, weights=distance .................................\n",
      "[CV]  n_neighbors=9, weights=distance, score=(train=1.000, test=0.614), total=   4.5s\n",
      "[CV] n_neighbors=9, weights=distance .................................\n",
      "[CV]  n_neighbors=9, weights=distance, score=(train=1.000, test=0.618), total=   4.5s\n",
      "[CV] n_neighbors=11, weights=uniform .................................\n",
      "[CV]  n_neighbors=11, weights=uniform, score=(train=0.773, test=0.635), total=   4.5s\n",
      "[CV] n_neighbors=11, weights=uniform .................................\n",
      "[CV]  n_neighbors=11, weights=uniform, score=(train=0.764, test=0.608), total=   4.5s\n",
      "[CV] n_neighbors=11, weights=uniform .................................\n",
      "[CV]  n_neighbors=11, weights=uniform, score=(train=0.758, test=0.617), total=   4.5s\n",
      "[CV] n_neighbors=11, weights=uniform .................................\n",
      "[CV]  n_neighbors=11, weights=uniform, score=(train=0.752, test=0.610), total=   4.5s\n",
      "[CV] n_neighbors=11, weights=uniform .................................\n",
      "[CV]  n_neighbors=11, weights=uniform, score=(train=0.768, test=0.613), total=   4.5s\n",
      "[CV] n_neighbors=11, weights=distance ................................\n",
      "[CV]  n_neighbors=11, weights=distance, score=(train=1.000, test=0.645), total=   4.5s\n",
      "[CV] n_neighbors=11, weights=distance ................................\n",
      "[CV]  n_neighbors=11, weights=distance, score=(train=1.000, test=0.617), total=   4.5s\n",
      "[CV] n_neighbors=11, weights=distance ................................\n",
      "[CV]  n_neighbors=11, weights=distance, score=(train=1.000, test=0.623), total=   4.5s\n",
      "[CV] n_neighbors=11, weights=distance ................................\n",
      "[CV]  n_neighbors=11, weights=distance, score=(train=1.000, test=0.617), total=   4.4s\n",
      "[CV] n_neighbors=11, weights=distance ................................\n",
      "[CV]  n_neighbors=11, weights=distance, score=(train=1.000, test=0.621), total=   4.4s\n"
     ]
    },
    {
     "name": "stderr",
     "output_type": "stream",
     "text": [
      "[Parallel(n_jobs=None)]: Done  50 out of  50 | elapsed: 12.5min finished\n"
     ]
    }
   ],
   "source": [
    "kdtree_tfidfW2v_model = gridSearcher(KNeighborsClassifier(n_jobs=-1,algorithm='kd_tree'),\n",
    "                                   {\"n_neighbors\":[3,5,7,9,11],\"weights\":['uniform', 'distance']},\n",
    "                                  trainTfidfWord2Vectors[:20000],\n",
    "                                  y_train[:20000])"
   ]
  },
  {
   "cell_type": "code",
   "execution_count": 72,
   "metadata": {},
   "outputs": [
    {
     "data": {
      "text/plain": [
       "Text(0.49, 1, 'Tfidf Weighted Word2Vec')"
      ]
     },
     "execution_count": 72,
     "metadata": {},
     "output_type": "execute_result"
    },
    {
     "data": {
      "text/plain": [
       "<Figure size 720x720 with 0 Axes>"
      ]
     },
     "metadata": {},
     "output_type": "display_data"
    },
    {
     "data": {
      "image/png": "[encoded data removed]",
      "text/plain": [
       "<Figure size 1440x360 with 4 Axes>"
      ]
     },
     "metadata": {
      "needs_background": "light"
     },
     "output_type": "display_data"
    }
   ],
   "source": [
    "plotAUCvsHyperParam(kdtree_tfidfW2v_model)\n",
    "plt.suptitle('Tfidf Weighted Word2Vec',fontsize=17,x=0.49,y = 1)"
   ]
  },
  {
   "cell_type": "code",
   "execution_count": 73,
   "metadata": {},
   "outputs": [
    {
     "data": {
      "image/png": "[encoded data removed]",
      "text/plain": [
       "<Figure size 432x288 with 1 Axes>"
      ]
     },
     "metadata": {
      "needs_background": "light"
     },
     "output_type": "display_data"
    }
   ],
   "source": [
    "plt.title(\"Tfidf Weighted Word2Vec\")\n",
    "rocCurve(kdtree_tfidfW2v_model,trainTfidfWord2Vectors[:20000],y_train[:20000],testTfidfWord2Vectors[:5000],y_test[:5000])"
   ]
  },
  {
   "cell_type": "code",
   "execution_count": 74,
   "metadata": {},
   "outputs": [
    {
     "data": {
      "image/png": "[encoded data removed]",
      "text/plain": [
       "<Figure size 432x288 with 2 Axes>"
      ]
     },
     "metadata": {
      "needs_background": "light"
     },
     "output_type": "display_data"
    }
   ],
   "source": [
    "plt.title(\"Tfidf Weighted Word2Vec\")\n",
    "confusionMatrix(kdtree_tfidfW2v_model,testTfidfWord2Vectors[:5000],y_test[:5000])"
   ]
  },
  {
   "cell_type": "code",
   "execution_count": 75,
   "metadata": {
    "colab": {},
    "colab_type": "code",
    "id": "3Hnu2QziiWO9"
   },
   "outputs": [],
   "source": [
    "table.add_row([\"Kd-Tree(BOW)\",\n",
    "               kdtree_bigram_model.best_params_,\n",
    "               np.round(kdtree_bigram_model.score(bigrams_train[:20000].toarray(),y_train[:20000]),5),\n",
    "               np.round(kdtree_bigram_model.score(bigrams_test[:5000].toarray(),y_test[:5000]),5)])\n",
    "table.add_row([\"Kd-Tree(TFIDF)\",\n",
    "               kdtree_tfidf_bigram_model.best_params_,\n",
    "               np.round(kdtree_tfidf_bigram_model.score(tfidf_bigrams_train[:20000].toarray(),y_train[:20000]),5),\n",
    "               np.round(kdtree_tfidf_bigram_model.score(tfidf_bigrams_test[:5000].toarray(),y_test[:5000]),5)])\n",
    "table.add_row([\"Kd-Tree(Avg W2V)\",\n",
    "               kdtree_avgW2v_model.best_params_,\n",
    "               np.round(kdtree_avgW2v_model.score(trainWord2Vectors[:20000],y_train[:20000]),5),\n",
    "               np.round(kdtree_avgW2v_model.score(testWord2Vectors[:5000],y_test[:5000]),5)])\n",
    "table.add_row([\"Kd-Tree(TFIDF W2V)\",\n",
    "               kdtree_tfidfW2v_model.best_params_,\n",
    "               np.round(kdtree_tfidfW2v_model.score(trainTfidfWord2Vectors[:20000],y_train[:20000]),5),\n",
    "               np.round(kdtree_tfidfW2v_model.score(testTfidfWord2Vectors[:5000],y_test[:5000]),5)])"
   ]
  },
  {
   "cell_type": "markdown",
   "metadata": {
    "colab_type": "text",
    "id": "Em-rF6u2iWO8"
   },
   "source": [
    "# [7] Conclusions"
   ]
  },
  {
   "cell_type": "code",
   "execution_count": 76,
   "metadata": {
    "scrolled": true
   },
   "outputs": [
    {
     "name": "stdout",
     "output_type": "stream",
     "text": [
      "+--------------------+--------------------------------------------+-----------------+----------------+\n",
      "|     Vectoriser     |                 parameters                 | Train AUC Score | Test AUC score |\n",
      "+--------------------+--------------------------------------------+-----------------+----------------+\n",
      "|      KNN(BOW)      | {'n_neighbors': 3, 'weights': 'distance'}  |       1.0       |    0.70501     |\n",
      "|     KNN(TFIDF)     | {'n_neighbors': 3, 'weights': 'distance'}  |       1.0       |    0.56626     |\n",
      "|    KNN(Avg W2V)    | {'n_neighbors': 11, 'weights': 'distance'} |       1.0       |    0.67566     |\n",
      "|   KNN(TFIDF W2V)   | {'n_neighbors': 11, 'weights': 'distance'} |       1.0       |    0.66222     |\n",
      "|    Kd-Tree(BOW)    | {'n_neighbors': 11, 'weights': 'distance'} |       1.0       |    0.76839     |\n",
      "|   Kd-Tree(TFIDF)   | {'n_neighbors': 9, 'weights': 'distance'}  |       1.0       |    0.63169     |\n",
      "|  Kd-Tree(Avg W2V)  | {'n_neighbors': 11, 'weights': 'distance'} |       1.0       |    0.62806     |\n",
      "| Kd-Tree(TFIDF W2V) | {'n_neighbors': 11, 'weights': 'distance'} |       1.0       |    0.60225     |\n",
      "+--------------------+--------------------------------------------+-----------------+----------------+\n"
     ]
    }
   ],
   "source": [
    "print(table)"
   ]
  },
  {
   "cell_type": "code",
   "execution_count": null,
   "metadata": {},
   "outputs": [],
   "source": []
  }
 ],
 "metadata": {
  "colab": {
   "collapsed_sections": [
    "NTwQITJKiWN5",
    "T_LFck8iiWOX",
    "mjfrB76yiWOa",
    "0tcbbZxSiWOd",
    "u566lt93iWOf",
    "mUNnof40iWOl",
    "heHLB_FCiWOm",
    "ylTn3LgiiWOo",
    "NVhl_V6MiWO5",
    "PnwVzXytiWO7"
   ],
   "name": "08 Amazon Fine Food Reviews Analysis_Decision Trees.ipynb",
   "provenance": [],
   "version": "0.3.2"
  },
  "kernelspec": {
   "display_name": "Python 3",
   "language": "python",
   "name": "python3"
  },
  "language_info": {
   "codemirror_mode": {
    "name": "ipython",
    "version": 3
   },
   "file_extension": ".py",
   "mimetype": "text/x-python",
   "name": "python",
   "nbconvert_exporter": "python",
   "pygments_lexer": "ipython3",
   "version": "3.7.4"
  }
 },
 "nbformat": 4,
 "nbformat_minor": 1
}
